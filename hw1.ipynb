{
 "cells": [
  {
   "cell_type": "markdown",
   "id": "48c818ac",
   "metadata": {},
   "source": [
    "## Роман Аблизен"
   ]
  },
  {
   "cell_type": "code",
   "execution_count": 449,
   "id": "3e836217",
   "metadata": {},
   "outputs": [],
   "source": [
    "import pandas as pd\n",
    "import numpy as np\n",
    "import seaborn as sns"
   ]
  },
  {
   "cell_type": "code",
   "execution_count": 166,
   "id": "a8b492e3",
   "metadata": {},
   "outputs": [],
   "source": [
    "from collections import Counter\n",
    "import matplotlib.pyplot as plt\n",
    "from sklearn.linear_model import LinearRegression\n",
    "from scipy.stats import multivariate_normal"
   ]
  },
  {
   "cell_type": "code",
   "execution_count": 450,
   "id": "78ff326a",
   "metadata": {},
   "outputs": [],
   "source": [
    "sns.set_style(\"whitegrid\")\n",
    "sns.set_palette(\"colorblind\")\n",
    "palette = sns.color_palette()\n",
    "figsize = (15,8)\n",
    "legend_fontsize = 16"
   ]
  },
  {
   "cell_type": "markdown",
   "id": "2f260053",
   "metadata": {},
   "source": [
    "## Загружаем и отделяем необходимые нам данные"
   ]
  },
  {
   "cell_type": "code",
   "execution_count": 285,
   "id": "1c87d764",
   "metadata": {},
   "outputs": [],
   "source": [
    "data = pd.read_csv(\"owid-covid-data.csv\")"
   ]
  },
  {
   "cell_type": "code",
   "execution_count": 286,
   "id": "54bcb7e8",
   "metadata": {},
   "outputs": [
    {
     "data": {
      "text/html": [
       "<div>\n",
       "<style scoped>\n",
       "    .dataframe tbody tr th:only-of-type {\n",
       "        vertical-align: middle;\n",
       "    }\n",
       "\n",
       "    .dataframe tbody tr th {\n",
       "        vertical-align: top;\n",
       "    }\n",
       "\n",
       "    .dataframe thead th {\n",
       "        text-align: right;\n",
       "    }\n",
       "</style>\n",
       "<table border=\"1\" class=\"dataframe\">\n",
       "  <thead>\n",
       "    <tr style=\"text-align: right;\">\n",
       "      <th></th>\n",
       "      <th>iso_code</th>\n",
       "      <th>continent</th>\n",
       "      <th>location</th>\n",
       "      <th>date</th>\n",
       "      <th>total_cases</th>\n",
       "      <th>new_cases</th>\n",
       "      <th>new_cases_smoothed</th>\n",
       "      <th>total_deaths</th>\n",
       "      <th>new_deaths</th>\n",
       "      <th>new_deaths_smoothed</th>\n",
       "      <th>...</th>\n",
       "      <th>female_smokers</th>\n",
       "      <th>male_smokers</th>\n",
       "      <th>handwashing_facilities</th>\n",
       "      <th>hospital_beds_per_thousand</th>\n",
       "      <th>life_expectancy</th>\n",
       "      <th>human_development_index</th>\n",
       "      <th>excess_mortality_cumulative_absolute</th>\n",
       "      <th>excess_mortality_cumulative</th>\n",
       "      <th>excess_mortality</th>\n",
       "      <th>excess_mortality_cumulative_per_million</th>\n",
       "    </tr>\n",
       "  </thead>\n",
       "  <tbody>\n",
       "    <tr>\n",
       "      <th>0</th>\n",
       "      <td>AFG</td>\n",
       "      <td>Asia</td>\n",
       "      <td>Afghanistan</td>\n",
       "      <td>2020-02-24</td>\n",
       "      <td>5.0</td>\n",
       "      <td>5.0</td>\n",
       "      <td>NaN</td>\n",
       "      <td>NaN</td>\n",
       "      <td>NaN</td>\n",
       "      <td>NaN</td>\n",
       "      <td>...</td>\n",
       "      <td>NaN</td>\n",
       "      <td>NaN</td>\n",
       "      <td>37.746</td>\n",
       "      <td>0.5</td>\n",
       "      <td>64.83</td>\n",
       "      <td>0.511</td>\n",
       "      <td>NaN</td>\n",
       "      <td>NaN</td>\n",
       "      <td>NaN</td>\n",
       "      <td>NaN</td>\n",
       "    </tr>\n",
       "    <tr>\n",
       "      <th>1</th>\n",
       "      <td>AFG</td>\n",
       "      <td>Asia</td>\n",
       "      <td>Afghanistan</td>\n",
       "      <td>2020-02-25</td>\n",
       "      <td>5.0</td>\n",
       "      <td>0.0</td>\n",
       "      <td>NaN</td>\n",
       "      <td>NaN</td>\n",
       "      <td>NaN</td>\n",
       "      <td>NaN</td>\n",
       "      <td>...</td>\n",
       "      <td>NaN</td>\n",
       "      <td>NaN</td>\n",
       "      <td>37.746</td>\n",
       "      <td>0.5</td>\n",
       "      <td>64.83</td>\n",
       "      <td>0.511</td>\n",
       "      <td>NaN</td>\n",
       "      <td>NaN</td>\n",
       "      <td>NaN</td>\n",
       "      <td>NaN</td>\n",
       "    </tr>\n",
       "    <tr>\n",
       "      <th>2</th>\n",
       "      <td>AFG</td>\n",
       "      <td>Asia</td>\n",
       "      <td>Afghanistan</td>\n",
       "      <td>2020-02-26</td>\n",
       "      <td>5.0</td>\n",
       "      <td>0.0</td>\n",
       "      <td>NaN</td>\n",
       "      <td>NaN</td>\n",
       "      <td>NaN</td>\n",
       "      <td>NaN</td>\n",
       "      <td>...</td>\n",
       "      <td>NaN</td>\n",
       "      <td>NaN</td>\n",
       "      <td>37.746</td>\n",
       "      <td>0.5</td>\n",
       "      <td>64.83</td>\n",
       "      <td>0.511</td>\n",
       "      <td>NaN</td>\n",
       "      <td>NaN</td>\n",
       "      <td>NaN</td>\n",
       "      <td>NaN</td>\n",
       "    </tr>\n",
       "    <tr>\n",
       "      <th>3</th>\n",
       "      <td>AFG</td>\n",
       "      <td>Asia</td>\n",
       "      <td>Afghanistan</td>\n",
       "      <td>2020-02-27</td>\n",
       "      <td>5.0</td>\n",
       "      <td>0.0</td>\n",
       "      <td>NaN</td>\n",
       "      <td>NaN</td>\n",
       "      <td>NaN</td>\n",
       "      <td>NaN</td>\n",
       "      <td>...</td>\n",
       "      <td>NaN</td>\n",
       "      <td>NaN</td>\n",
       "      <td>37.746</td>\n",
       "      <td>0.5</td>\n",
       "      <td>64.83</td>\n",
       "      <td>0.511</td>\n",
       "      <td>NaN</td>\n",
       "      <td>NaN</td>\n",
       "      <td>NaN</td>\n",
       "      <td>NaN</td>\n",
       "    </tr>\n",
       "    <tr>\n",
       "      <th>4</th>\n",
       "      <td>AFG</td>\n",
       "      <td>Asia</td>\n",
       "      <td>Afghanistan</td>\n",
       "      <td>2020-02-28</td>\n",
       "      <td>5.0</td>\n",
       "      <td>0.0</td>\n",
       "      <td>NaN</td>\n",
       "      <td>NaN</td>\n",
       "      <td>NaN</td>\n",
       "      <td>NaN</td>\n",
       "      <td>...</td>\n",
       "      <td>NaN</td>\n",
       "      <td>NaN</td>\n",
       "      <td>37.746</td>\n",
       "      <td>0.5</td>\n",
       "      <td>64.83</td>\n",
       "      <td>0.511</td>\n",
       "      <td>NaN</td>\n",
       "      <td>NaN</td>\n",
       "      <td>NaN</td>\n",
       "      <td>NaN</td>\n",
       "    </tr>\n",
       "  </tbody>\n",
       "</table>\n",
       "<p>5 rows × 67 columns</p>\n",
       "</div>"
      ],
      "text/plain": [
       "  iso_code continent     location        date  total_cases  new_cases  \\\n",
       "0      AFG      Asia  Afghanistan  2020-02-24          5.0        5.0   \n",
       "1      AFG      Asia  Afghanistan  2020-02-25          5.0        0.0   \n",
       "2      AFG      Asia  Afghanistan  2020-02-26          5.0        0.0   \n",
       "3      AFG      Asia  Afghanistan  2020-02-27          5.0        0.0   \n",
       "4      AFG      Asia  Afghanistan  2020-02-28          5.0        0.0   \n",
       "\n",
       "   new_cases_smoothed  total_deaths  new_deaths  new_deaths_smoothed  ...  \\\n",
       "0                 NaN           NaN         NaN                  NaN  ...   \n",
       "1                 NaN           NaN         NaN                  NaN  ...   \n",
       "2                 NaN           NaN         NaN                  NaN  ...   \n",
       "3                 NaN           NaN         NaN                  NaN  ...   \n",
       "4                 NaN           NaN         NaN                  NaN  ...   \n",
       "\n",
       "   female_smokers  male_smokers  handwashing_facilities  \\\n",
       "0             NaN           NaN                  37.746   \n",
       "1             NaN           NaN                  37.746   \n",
       "2             NaN           NaN                  37.746   \n",
       "3             NaN           NaN                  37.746   \n",
       "4             NaN           NaN                  37.746   \n",
       "\n",
       "   hospital_beds_per_thousand  life_expectancy  human_development_index  \\\n",
       "0                         0.5            64.83                    0.511   \n",
       "1                         0.5            64.83                    0.511   \n",
       "2                         0.5            64.83                    0.511   \n",
       "3                         0.5            64.83                    0.511   \n",
       "4                         0.5            64.83                    0.511   \n",
       "\n",
       "   excess_mortality_cumulative_absolute  excess_mortality_cumulative  \\\n",
       "0                                   NaN                          NaN   \n",
       "1                                   NaN                          NaN   \n",
       "2                                   NaN                          NaN   \n",
       "3                                   NaN                          NaN   \n",
       "4                                   NaN                          NaN   \n",
       "\n",
       "   excess_mortality  excess_mortality_cumulative_per_million  \n",
       "0               NaN                                      NaN  \n",
       "1               NaN                                      NaN  \n",
       "2               NaN                                      NaN  \n",
       "3               NaN                                      NaN  \n",
       "4               NaN                                      NaN  \n",
       "\n",
       "[5 rows x 67 columns]"
      ]
     },
     "execution_count": 286,
     "metadata": {},
     "output_type": "execute_result"
    }
   ],
   "source": [
    "data.head()"
   ]
  },
  {
   "cell_type": "code",
   "execution_count": 287,
   "id": "90606520",
   "metadata": {},
   "outputs": [],
   "source": [
    "data = data[data.location == 'Russia'][[\"date\",\"total_cases\",\"new_cases\"]]"
   ]
  },
  {
   "cell_type": "code",
   "execution_count": 288,
   "id": "4ce310e5",
   "metadata": {},
   "outputs": [],
   "source": [
    "data[\"datetime\"] = pd.to_datetime(data.date)"
   ]
  },
  {
   "cell_type": "code",
   "execution_count": 289,
   "id": "fd9b9f8f",
   "metadata": {},
   "outputs": [
    {
     "data": {
      "text/html": [
       "<div>\n",
       "<style scoped>\n",
       "    .dataframe tbody tr th:only-of-type {\n",
       "        vertical-align: middle;\n",
       "    }\n",
       "\n",
       "    .dataframe tbody tr th {\n",
       "        vertical-align: top;\n",
       "    }\n",
       "\n",
       "    .dataframe thead th {\n",
       "        text-align: right;\n",
       "    }\n",
       "</style>\n",
       "<table border=\"1\" class=\"dataframe\">\n",
       "  <thead>\n",
       "    <tr style=\"text-align: right;\">\n",
       "      <th></th>\n",
       "      <th>date</th>\n",
       "      <th>total_cases</th>\n",
       "      <th>new_cases</th>\n",
       "      <th>datetime</th>\n",
       "    </tr>\n",
       "  </thead>\n",
       "  <tbody>\n",
       "    <tr>\n",
       "      <th>123754</th>\n",
       "      <td>2020-01-31</td>\n",
       "      <td>2.0</td>\n",
       "      <td>2.0</td>\n",
       "      <td>2020-01-31</td>\n",
       "    </tr>\n",
       "    <tr>\n",
       "      <th>123755</th>\n",
       "      <td>2020-02-01</td>\n",
       "      <td>2.0</td>\n",
       "      <td>0.0</td>\n",
       "      <td>2020-02-01</td>\n",
       "    </tr>\n",
       "    <tr>\n",
       "      <th>123756</th>\n",
       "      <td>2020-02-02</td>\n",
       "      <td>2.0</td>\n",
       "      <td>0.0</td>\n",
       "      <td>2020-02-02</td>\n",
       "    </tr>\n",
       "    <tr>\n",
       "      <th>123757</th>\n",
       "      <td>2020-02-03</td>\n",
       "      <td>2.0</td>\n",
       "      <td>0.0</td>\n",
       "      <td>2020-02-03</td>\n",
       "    </tr>\n",
       "    <tr>\n",
       "      <th>123758</th>\n",
       "      <td>2020-02-04</td>\n",
       "      <td>2.0</td>\n",
       "      <td>0.0</td>\n",
       "      <td>2020-02-04</td>\n",
       "    </tr>\n",
       "  </tbody>\n",
       "</table>\n",
       "</div>"
      ],
      "text/plain": [
       "              date  total_cases  new_cases   datetime\n",
       "123754  2020-01-31          2.0        2.0 2020-01-31\n",
       "123755  2020-02-01          2.0        0.0 2020-02-01\n",
       "123756  2020-02-02          2.0        0.0 2020-02-02\n",
       "123757  2020-02-03          2.0        0.0 2020-02-03\n",
       "123758  2020-02-04          2.0        0.0 2020-02-04"
      ]
     },
     "execution_count": 289,
     "metadata": {},
     "output_type": "execute_result"
    }
   ],
   "source": [
    "data.head()"
   ]
  },
  {
   "cell_type": "code",
   "execution_count": 290,
   "id": "05dbc7bf",
   "metadata": {},
   "outputs": [],
   "source": [
    "data = data[data.datetime >= pd.to_datetime(\"2020-03-03\")] # Отделяем все что раньше 3 марта"
   ]
  },
  {
   "cell_type": "code",
   "execution_count": 76,
   "id": "7d24f071",
   "metadata": {},
   "outputs": [],
   "source": [
    "data.new_cases[data.new_cases == 0] = 1 # по рекомендации"
   ]
  },
  {
   "cell_type": "code",
   "execution_count": 291,
   "id": "0f201926",
   "metadata": {},
   "outputs": [],
   "source": [
    "data = data[[\"total_cases\",\"new_cases\",\"datetime\"]]"
   ]
  },
  {
   "cell_type": "code",
   "execution_count": 292,
   "id": "84fd3288",
   "metadata": {
    "scrolled": false
   },
   "outputs": [],
   "source": [
    "data[\"num\"] = [i for i in range(1, len(data) + 1)]"
   ]
  },
  {
   "cell_type": "code",
   "execution_count": 293,
   "id": "d8a8d7a5",
   "metadata": {},
   "outputs": [
    {
     "data": {
      "text/html": [
       "<div>\n",
       "<style scoped>\n",
       "    .dataframe tbody tr th:only-of-type {\n",
       "        vertical-align: middle;\n",
       "    }\n",
       "\n",
       "    .dataframe tbody tr th {\n",
       "        vertical-align: top;\n",
       "    }\n",
       "\n",
       "    .dataframe thead th {\n",
       "        text-align: right;\n",
       "    }\n",
       "</style>\n",
       "<table border=\"1\" class=\"dataframe\">\n",
       "  <thead>\n",
       "    <tr style=\"text-align: right;\">\n",
       "      <th></th>\n",
       "      <th>total_cases</th>\n",
       "      <th>new_cases</th>\n",
       "      <th>datetime</th>\n",
       "      <th>num</th>\n",
       "    </tr>\n",
       "  </thead>\n",
       "  <tbody>\n",
       "    <tr>\n",
       "      <th>123786</th>\n",
       "      <td>3.0</td>\n",
       "      <td>0.0</td>\n",
       "      <td>2020-03-03</td>\n",
       "      <td>1</td>\n",
       "    </tr>\n",
       "    <tr>\n",
       "      <th>123787</th>\n",
       "      <td>3.0</td>\n",
       "      <td>0.0</td>\n",
       "      <td>2020-03-04</td>\n",
       "      <td>2</td>\n",
       "    </tr>\n",
       "    <tr>\n",
       "      <th>123788</th>\n",
       "      <td>4.0</td>\n",
       "      <td>1.0</td>\n",
       "      <td>2020-03-05</td>\n",
       "      <td>3</td>\n",
       "    </tr>\n",
       "    <tr>\n",
       "      <th>123789</th>\n",
       "      <td>13.0</td>\n",
       "      <td>9.0</td>\n",
       "      <td>2020-03-06</td>\n",
       "      <td>4</td>\n",
       "    </tr>\n",
       "    <tr>\n",
       "      <th>123790</th>\n",
       "      <td>13.0</td>\n",
       "      <td>0.0</td>\n",
       "      <td>2020-03-07</td>\n",
       "      <td>5</td>\n",
       "    </tr>\n",
       "  </tbody>\n",
       "</table>\n",
       "</div>"
      ],
      "text/plain": [
       "        total_cases  new_cases   datetime  num\n",
       "123786          3.0        0.0 2020-03-03    1\n",
       "123787          3.0        0.0 2020-03-04    2\n",
       "123788          4.0        1.0 2020-03-05    3\n",
       "123789         13.0        9.0 2020-03-06    4\n",
       "123790         13.0        0.0 2020-03-07    5"
      ]
     },
     "execution_count": 293,
     "metadata": {},
     "output_type": "execute_result"
    }
   ],
   "source": [
    "data.head()"
   ]
  },
  {
   "cell_type": "code",
   "execution_count": 101,
   "id": "8097ec50",
   "metadata": {},
   "outputs": [],
   "source": [
    "data50 = data.iloc[:50,:]"
   ]
  },
  {
   "cell_type": "markdown",
   "id": "4fff78dc",
   "metadata": {},
   "source": [
    "## Графики целевых переменных"
   ]
  },
  {
   "cell_type": "code",
   "execution_count": 103,
   "id": "b2f46823",
   "metadata": {},
   "outputs": [
    {
     "data": {
      "text/plain": [
       "Text(0, 0.5, 'total_cases')"
      ]
     },
     "execution_count": 103,
     "metadata": {},
     "output_type": "execute_result"
    },
    {
     "data": {
      "image/png": "[encoded data removed]",
      "text/plain": [
       "<Figure size 432x288 with 1 Axes>"
      ]
     },
     "metadata": {
      "needs_background": "light"
     },
     "output_type": "display_data"
    }
   ],
   "source": [
    "plt.plot(data50.num, data50.total_cases)\n",
    "plt.xlabel(\"num\")\n",
    "plt.ylabel(\"total_cases\")"
   ]
  },
  {
   "cell_type": "code",
   "execution_count": 105,
   "id": "7332b31c",
   "metadata": {},
   "outputs": [
    {
     "data": {
      "text/plain": [
       "Text(0, 0.5, 'new_cases')"
      ]
     },
     "execution_count": 105,
     "metadata": {},
     "output_type": "execute_result"
    },
    {
     "data": {
      "image/png": "[encoded data removed]",
      "text/plain": [
       "<Figure size 432x288 with 1 Axes>"
      ]
     },
     "metadata": {
      "needs_background": "light"
     },
     "output_type": "display_data"
    }
   ],
   "source": [
    "plt.plot(data50.num, data50.new_cases)\n",
    "plt.xlabel(\"num\")\n",
    "plt.ylabel(\"new_cases\")"
   ]
  },
  {
   "cell_type": "markdown",
   "id": "c628ae5a",
   "metadata": {},
   "source": [
    "## Линейная регрессия"
   ]
  },
  {
   "cell_type": "markdown",
   "id": "3549422b",
   "metadata": {},
   "source": [
    "y = exp(a * x + b)\n",
    "\n",
    "значит\n",
    "\n",
    "ln(y) = a * x + b"
   ]
  },
  {
   "cell_type": "code",
   "execution_count": 135,
   "id": "8081cd82",
   "metadata": {},
   "outputs": [],
   "source": [
    "y_test = np.array(np.log(data50.total_cases))\n",
    "y_test = y_test.reshape(-1,1)\n",
    "x_test = np.array(data50.num)\n",
    "x_test = x_test.reshape(-1,1)"
   ]
  },
  {
   "cell_type": "code",
   "execution_count": 143,
   "id": "d7a1b386",
   "metadata": {},
   "outputs": [
    {
     "data": {
      "image/png": "[encoded data removed]",
      "text/plain": [
       "<Figure size 432x288 with 1 Axes>"
      ]
     },
     "metadata": {
      "needs_background": "light"
     },
     "output_type": "display_data"
    }
   ],
   "source": [
    "plt.plot(x_test, y_test)\n",
    "plt.show()"
   ]
  },
  {
   "cell_type": "markdown",
   "id": "e1ae7d9c",
   "metadata": {},
   "source": [
    "### Веса линейной регрессии"
   ]
  },
  {
   "cell_type": "code",
   "execution_count": 256,
   "id": "928b988b",
   "metadata": {},
   "outputs": [
    {
     "name": "stdout",
     "output_type": "stream",
     "text": [
      "a =  0.19829091233588558\n",
      "b =  1.6224462364488117\n"
     ]
    }
   ],
   "source": [
    "lr = LinearRegression()\n",
    "lr.fit(x_test, y_test)\n",
    "a = lr.coef_\n",
    "b = lr.intercept_\n",
    "print(\"a = \", a[0][0])\n",
    "print(\"b = \", b[0])"
   ]
  },
  {
   "cell_type": "markdown",
   "id": "80ad20ef",
   "metadata": {},
   "source": [
    "### Дисперсия шума : "
   ]
  },
  {
   "cell_type": "code",
   "execution_count": 164,
   "id": "3d21466c",
   "metadata": {},
   "outputs": [
    {
     "name": "stdout",
     "output_type": "stream",
     "text": [
      "0.3490422059635659\n"
     ]
    }
   ],
   "source": [
    "sigma_noise = np.sqrt ( np.sum( (y_test - lr.predict(x_test)) ** 2 ) / len(x_test) )\n",
    "print(sigma_noise)"
   ]
  },
  {
   "cell_type": "markdown",
   "id": "4528db76",
   "metadata": {},
   "source": [
    "### В качестве априорного распределения параметров возьмем 2мерное нормальное распределение с центром в (0, 0) и единичной матрицей ковариаций"
   ]
  },
  {
   "cell_type": "code",
   "execution_count": 282,
   "id": "7b710cdf",
   "metadata": {},
   "outputs": [],
   "source": [
    "cur_mu, cur_sigma = np.array([0, 0]), 2*np.array([[1, 0], [0, 1]])\n",
    "\n"
   ]
  },
  {
   "cell_type": "markdown",
   "id": "4cbe5e08",
   "metadata": {},
   "source": [
    "### Апостериорное распределение"
   ]
  },
  {
   "cell_type": "code",
   "execution_count": 318,
   "id": "40731215",
   "metadata": {},
   "outputs": [],
   "source": [
    "def bayesian_update(mu, sigma, x, y, sigma_noise):\n",
    "    xones = np.ones((len(x), 1))\n",
    "    x_matrix = np.concatenate((xones, x), axis = 1)\n",
    "\n",
    "    sigma_n = np.linalg.inv(np.linalg.inv(sigma)+ (1 / (sigma_noise ** 2)) * np.matmul(np.transpose(x_matrix), x_matrix) )\n",
    "    mu_n = np.matmul(sigma_n, np.matmul(np.linalg.inv(sigma), np.transpose(mu)).reshape(-1,1) + (1 / (sigma_noise ** 2)) * np.matmul(np.transpose(x_matrix), np.array(y) ) )\n",
    "    return mu_n, sigma_n"
   ]
  },
  {
   "cell_type": "code",
   "execution_count": 319,
   "id": "dd725daf",
   "metadata": {},
   "outputs": [],
   "source": [
    "mu_n, sigma_n = bayesian_update(cur_mu, cur_sigma, x_test, y_test, sigma_noise)"
   ]
  },
  {
   "cell_type": "code",
   "execution_count": 374,
   "id": "432134e1",
   "metadata": {},
   "outputs": [
    {
     "name": "stdout",
     "output_type": "stream",
     "text": [
      " байесовский вывод:\n",
      "[[1.61436785]\n",
      " [0.19853058]]\n",
      "\n",
      "веса, полученные с помощью линейной регрессии:\n",
      "1.6224462364488117\n",
      "0.19829091233588558\n"
     ]
    }
   ],
   "source": [
    "print(\" байесовский вывод:\")\n",
    "print(mu_n)\n",
    "print()\n",
    "print(\"веса, полученные с помощью линейной регрессии:\")\n",
    "print( b[0])\n",
    "print( a[0][0])"
   ]
  },
  {
   "cell_type": "markdown",
   "id": "c4742e04",
   "metadata": {},
   "source": [
    "### Отметим, что mu_n близко к весам линейной регрессии\n"
   ]
  },
  {
   "cell_type": "markdown",
   "id": "3619fdeb",
   "metadata": {},
   "source": [
    "### Предсказательное распределение"
   ]
  },
  {
   "cell_type": "markdown",
   "id": "3e2e2121",
   "metadata": {},
   "source": [
    "### Истинное значение:"
   ]
  },
  {
   "cell_type": "code",
   "execution_count": 434,
   "id": "21f75246",
   "metadata": {},
   "outputs": [],
   "source": [
    "def sample_statistics(mu, sigma, xs, n=20):\n",
    "    my_w = np.random.multivariate_normal(mu, sigma, n)\n",
    "    res = np.zeros((n, xs.shape[0]))\n",
    "    ws = []\n",
    "    for i,w in enumerate(my_w):\n",
    "        res[i,:] = w[0] + w[1]*xs\n",
    "        #ws.append([w[0], w[1]])\n",
    "    return res"
   ]
  },
  {
   "cell_type": "code",
   "execution_count": 507,
   "id": "6e926035",
   "metadata": {},
   "outputs": [],
   "source": [
    "def plot_predictions(xs, mu, x, points):\n",
    "    fig = plt.figure(figsize=(15,8))\n",
    "    ax = fig.add_subplot(111)\n",
    "    ax.set_xlim((xs[0], xs[-1]))\n",
    "    ax.set_ylim((0, 1e5))\n",
    "    #ax.plot(xs, true_curve(xs), label=\"Правильный ответ\")\n",
    "    ax.plot(xs, np.exp(mu[1]*xs + mu[0]), color=\"red\", label=\"MAP гипотеза\")\n",
    "    ax.fill_between(xs, np.exp(mu[1]*xs + mu[0] - .25), np.exp(mu[1]*xs + mu[0] + .25), color=palette[1], alpha=.3, label=\"+- дисперсия шума\")\n",
    "    ax.fill_between(xs, np.mean(x, axis=0) - np.std(x, axis=0), np.mean(x, axis=0) + np.std(x, axis=0), color=palette[5], alpha=.2, label=\"+- дисперсия предсказаний\")\n",
    "    ax.scatter(points[0], points[1], marker='*', s=200, label=\"данные\")\n",
    "    ax.legend(fontsize=legend_fontsize)"
   ]
  },
  {
   "cell_type": "code",
   "execution_count": 508,
   "id": "83003a93",
   "metadata": {},
   "outputs": [],
   "source": [
    "x = sample_statistics(mu_n.reshape(2,), sigma_n, x_test.reshape(len(x_test),), n=20)"
   ]
  },
  {
   "cell_type": "code",
   "execution_count": 509,
   "id": "24f33bf0",
   "metadata": {},
   "outputs": [],
   "source": [
    "x = np.exp(x)"
   ]
  },
  {
   "cell_type": "code",
   "execution_count": 510,
   "id": "e6914557",
   "metadata": {},
   "outputs": [
    {
     "data": {
      "image/png": "[encoded data removed]",
      "text/plain": [
       "<Figure size 1080x576 with 1 Axes>"
      ]
     },
     "metadata": {},
     "output_type": "display_data"
    }
   ],
   "source": [
    "plot_predictions(x_test.reshape(len(x_test),), mu_n, x, [x_test, np.exp(y_test)])"
   ]
  },
  {
   "cell_type": "markdown",
   "id": "557d3765",
   "metadata": {},
   "source": [
    "### 1 мая"
   ]
  },
  {
   "cell_type": "code",
   "execution_count": 496,
   "id": "041d50ff",
   "metadata": {},
   "outputs": [
    {
     "data": {
      "text/html": [
       "<div>\n",
       "<style scoped>\n",
       "    .dataframe tbody tr th:only-of-type {\n",
       "        vertical-align: middle;\n",
       "    }\n",
       "\n",
       "    .dataframe tbody tr th {\n",
       "        vertical-align: top;\n",
       "    }\n",
       "\n",
       "    .dataframe thead th {\n",
       "        text-align: right;\n",
       "    }\n",
       "</style>\n",
       "<table border=\"1\" class=\"dataframe\">\n",
       "  <thead>\n",
       "    <tr style=\"text-align: right;\">\n",
       "      <th></th>\n",
       "      <th>total_cases</th>\n",
       "      <th>new_cases</th>\n",
       "      <th>datetime</th>\n",
       "      <th>num</th>\n",
       "    </tr>\n",
       "  </thead>\n",
       "  <tbody>\n",
       "    <tr>\n",
       "      <th>123845</th>\n",
       "      <td>114431.0</td>\n",
       "      <td>7933.0</td>\n",
       "      <td>2020-05-01</td>\n",
       "      <td>60</td>\n",
       "    </tr>\n",
       "  </tbody>\n",
       "</table>\n",
       "</div>"
      ],
      "text/plain": [
       "        total_cases  new_cases   datetime  num\n",
       "123845     114431.0     7933.0 2020-05-01   60"
      ]
     },
     "execution_count": 496,
     "metadata": {},
     "output_type": "execute_result"
    }
   ],
   "source": [
    "data[data.datetime == \"2020-05-01\"]"
   ]
  },
  {
   "cell_type": "code",
   "execution_count": 498,
   "id": "151bb711",
   "metadata": {},
   "outputs": [
    {
     "name": "stdout",
     "output_type": "stream",
     "text": [
      "prediction:  749050\n",
      "true value: 114431\n"
     ]
    }
   ],
   "source": [
    "n = 60\n",
    "preds_1may = sample_statistics(mu_n.reshape(2,), sigma_n, np.array([n]), n=5000)\n",
    "print(\"prediction: \", int(np.exp(np.mean(preds_1may))))\n",
    "print(\"true value:\", int(data[data.datetime == \"2020-05-01\"].total_cases))\n"
   ]
  },
  {
   "cell_type": "markdown",
   "id": "0e66b892",
   "metadata": {},
   "source": [
    "### 1 июня"
   ]
  },
  {
   "cell_type": "code",
   "execution_count": 499,
   "id": "51f0c663",
   "metadata": {},
   "outputs": [
    {
     "data": {
      "text/html": [
       "<div>\n",
       "<style scoped>\n",
       "    .dataframe tbody tr th:only-of-type {\n",
       "        vertical-align: middle;\n",
       "    }\n",
       "\n",
       "    .dataframe tbody tr th {\n",
       "        vertical-align: top;\n",
       "    }\n",
       "\n",
       "    .dataframe thead th {\n",
       "        text-align: right;\n",
       "    }\n",
       "</style>\n",
       "<table border=\"1\" class=\"dataframe\">\n",
       "  <thead>\n",
       "    <tr style=\"text-align: right;\">\n",
       "      <th></th>\n",
       "      <th>total_cases</th>\n",
       "      <th>new_cases</th>\n",
       "      <th>datetime</th>\n",
       "      <th>num</th>\n",
       "    </tr>\n",
       "  </thead>\n",
       "  <tbody>\n",
       "    <tr>\n",
       "      <th>123876</th>\n",
       "      <td>414328.0</td>\n",
       "      <td>8485.0</td>\n",
       "      <td>2020-06-01</td>\n",
       "      <td>91</td>\n",
       "    </tr>\n",
       "  </tbody>\n",
       "</table>\n",
       "</div>"
      ],
      "text/plain": [
       "        total_cases  new_cases   datetime  num\n",
       "123876     414328.0     8485.0 2020-06-01   91"
      ]
     },
     "execution_count": 499,
     "metadata": {},
     "output_type": "execute_result"
    }
   ],
   "source": [
    "data[data.datetime == \"2020-06-01\"]"
   ]
  },
  {
   "cell_type": "code",
   "execution_count": 500,
   "id": "331b1273",
   "metadata": {},
   "outputs": [
    {
     "name": "stdout",
     "output_type": "stream",
     "text": [
      "prediction:  351251361\n",
      "true value: 414328\n"
     ]
    }
   ],
   "source": [
    "n = 91\n",
    "preds_1may = sample_statistics(mu_n.reshape(2,), sigma_n, np.array([n]), n=5000)\n",
    "print(\"prediction: \", int(np.exp(np.mean(preds_1may))))\n",
    "print(\"true value:\", int(data[data.datetime == \"2020-06-01\"].total_cases))"
   ]
  },
  {
   "cell_type": "markdown",
   "id": "9adbda2e",
   "metadata": {},
   "source": [
    "### 1 сентября"
   ]
  },
  {
   "cell_type": "code",
   "execution_count": 501,
   "id": "39d429eb",
   "metadata": {},
   "outputs": [
    {
     "data": {
      "text/html": [
       "<div>\n",
       "<style scoped>\n",
       "    .dataframe tbody tr th:only-of-type {\n",
       "        vertical-align: middle;\n",
       "    }\n",
       "\n",
       "    .dataframe tbody tr th {\n",
       "        vertical-align: top;\n",
       "    }\n",
       "\n",
       "    .dataframe thead th {\n",
       "        text-align: right;\n",
       "    }\n",
       "</style>\n",
       "<table border=\"1\" class=\"dataframe\">\n",
       "  <thead>\n",
       "    <tr style=\"text-align: right;\">\n",
       "      <th></th>\n",
       "      <th>total_cases</th>\n",
       "      <th>new_cases</th>\n",
       "      <th>datetime</th>\n",
       "      <th>num</th>\n",
       "    </tr>\n",
       "  </thead>\n",
       "  <tbody>\n",
       "    <tr>\n",
       "      <th>123968</th>\n",
       "      <td>997072.0</td>\n",
       "      <td>4670.0</td>\n",
       "      <td>2020-09-01</td>\n",
       "      <td>183</td>\n",
       "    </tr>\n",
       "  </tbody>\n",
       "</table>\n",
       "</div>"
      ],
      "text/plain": [
       "        total_cases  new_cases   datetime  num\n",
       "123968     997072.0     4670.0 2020-09-01  183"
      ]
     },
     "execution_count": 501,
     "metadata": {},
     "output_type": "execute_result"
    }
   ],
   "source": [
    "data[data.datetime == \"2020-09-01\"]"
   ]
  },
  {
   "cell_type": "code",
   "execution_count": 502,
   "id": "2e71ae9d",
   "metadata": {},
   "outputs": [
    {
     "name": "stdout",
     "output_type": "stream",
     "text": [
      "prediction:  30184221896483348\n",
      "true value: 997072\n"
     ]
    }
   ],
   "source": [
    "n = 183\n",
    "preds_1may = sample_statistics(mu_n.reshape(2,), sigma_n, np.array([n]), n=5000)\n",
    "print(\"prediction: \", int(np.exp(np.mean(preds_1may))))\n",
    "print(\"true value:\", int(data[data.datetime == \"2020-09-01\"].total_cases))"
   ]
  },
  {
   "cell_type": "code",
   "execution_count": null,
   "id": "126f3c22",
   "metadata": {},
   "outputs": [],
   "source": []
  }
 ],
 "metadata": {
  "kernelspec": {
   "display_name": "Python 3 (ipykernel)",
   "language": "python",
   "name": "python3"
  },
  "language_info": {
   "codemirror_mode": {
    "name": "ipython",
    "version": 3
   },
   "file_extension": ".py",
   "mimetype": "text/x-python",
   "name": "python",
   "nbconvert_exporter": "python",
   "pygments_lexer": "ipython3",
   "version": "3.9.7"
  }
 },
 "nbformat": 4,
 "nbformat_minor": 5
}
