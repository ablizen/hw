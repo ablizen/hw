{
 "cells": [
  {
   "cell_type": "markdown",
   "metadata": {},
   "source": [
    "## Роман Аблизен .\n",
    "## ДЗ 2 (основные результаты приведены в конце ноутбука)"
   ]
  },
  {
   "cell_type": "code",
   "execution_count": null,
   "metadata": {},
   "outputs": [],
   "source": [
    "import pickle\n",
    "import pandas as pd\n",
    "import numpy as np\n",
    "import datetime as dt\n",
    "import copy\n",
    "from scipy.sparse import csr_matrix\n",
    "from sklearn.linear_model import LogisticRegression"
   ]
  },
  {
   "cell_type": "code",
   "execution_count": 2,
   "metadata": {},
   "outputs": [],
   "source": [
    "def pickle_load(fname):\n",
    "    with open(fname, 'rb') as f:\n",
    "        data = pickle.load(f)\n",
    "    return data"
   ]
  },
  {
   "cell_type": "code",
   "execution_count": 3,
   "metadata": {},
   "outputs": [],
   "source": [
    "players_data = pickle_load('chgk/players.pkl')"
   ]
  },
  {
   "cell_type": "code",
   "execution_count": 4,
   "metadata": {},
   "outputs": [],
   "source": [
    "tourns_data = pickle_load('chgk/tournaments.pkl')"
   ]
  },
  {
   "cell_type": "code",
   "execution_count": 5,
   "metadata": {},
   "outputs": [],
   "source": [
    "results_data = pickle_load('chgk/results.pkl')"
   ]
  },
  {
   "cell_type": "markdown",
   "metadata": {},
   "source": [
    "### Игроки"
   ]
  },
  {
   "cell_type": "code",
   "execution_count": 8,
   "metadata": {},
   "outputs": [],
   "source": [
    "players = pd.DataFrame.from_dict(players_data, orient='index')"
   ]
  },
  {
   "cell_type": "code",
   "execution_count": 9,
   "metadata": {},
   "outputs": [
    {
     "data": {
      "text/html": [
       "<div>\n",
       "<style scoped>\n",
       "    .dataframe tbody tr th:only-of-type {\n",
       "        vertical-align: middle;\n",
       "    }\n",
       "\n",
       "    .dataframe tbody tr th {\n",
       "        vertical-align: top;\n",
       "    }\n",
       "\n",
       "    .dataframe thead th {\n",
       "        text-align: right;\n",
       "    }\n",
       "</style>\n",
       "<table border=\"1\" class=\"dataframe\">\n",
       "  <thead>\n",
       "    <tr style=\"text-align: right;\">\n",
       "      <th></th>\n",
       "      <th>id</th>\n",
       "      <th>name</th>\n",
       "      <th>patronymic</th>\n",
       "      <th>surname</th>\n",
       "    </tr>\n",
       "  </thead>\n",
       "  <tbody>\n",
       "    <tr>\n",
       "      <th>1</th>\n",
       "      <td>1</td>\n",
       "      <td>Алексей</td>\n",
       "      <td>None</td>\n",
       "      <td>Абабилов</td>\n",
       "    </tr>\n",
       "    <tr>\n",
       "      <th>10</th>\n",
       "      <td>10</td>\n",
       "      <td>Игорь</td>\n",
       "      <td></td>\n",
       "      <td>Абалов</td>\n",
       "    </tr>\n",
       "    <tr>\n",
       "      <th>11</th>\n",
       "      <td>11</td>\n",
       "      <td>Наталья</td>\n",
       "      <td>Юрьевна</td>\n",
       "      <td>Абалымова</td>\n",
       "    </tr>\n",
       "    <tr>\n",
       "      <th>12</th>\n",
       "      <td>12</td>\n",
       "      <td>Артур</td>\n",
       "      <td>Евгеньевич</td>\n",
       "      <td>Абальян</td>\n",
       "    </tr>\n",
       "    <tr>\n",
       "      <th>13</th>\n",
       "      <td>13</td>\n",
       "      <td>Эрик</td>\n",
       "      <td>Евгеньевич</td>\n",
       "      <td>Абальян</td>\n",
       "    </tr>\n",
       "  </tbody>\n",
       "</table>\n",
       "</div>"
      ],
      "text/plain": [
       "    id     name  patronymic    surname\n",
       "1    1  Алексей        None   Абабилов\n",
       "10  10    Игорь                 Абалов\n",
       "11  11  Наталья     Юрьевна  Абалымова\n",
       "12  12    Артур  Евгеньевич    Абальян\n",
       "13  13     Эрик  Евгеньевич    Абальян"
      ]
     },
     "execution_count": 9,
     "metadata": {},
     "output_type": "execute_result"
    }
   ],
   "source": [
    "players.head()"
   ]
  },
  {
   "cell_type": "markdown",
   "metadata": {},
   "source": [
    "### Турниры"
   ]
  },
  {
   "cell_type": "code",
   "execution_count": 10,
   "metadata": {},
   "outputs": [],
   "source": [
    "tourns = pd.DataFrame.from_dict(tourns_data, orient='index')"
   ]
  },
  {
   "cell_type": "code",
   "execution_count": 11,
   "metadata": {},
   "outputs": [],
   "source": [
    "tourns[\"dateStart\"] = pd.to_datetime(tourns.dateStart, utc=True, errors = 'raise')"
   ]
  },
  {
   "cell_type": "code",
   "execution_count": 12,
   "metadata": {},
   "outputs": [],
   "source": [
    "train_tourns = tourns[tourns['dateStart'].dt.year == 2019]"
   ]
  },
  {
   "cell_type": "code",
   "execution_count": 13,
   "metadata": {},
   "outputs": [],
   "source": [
    "test_tourns = tourns[tourns['dateStart'].dt.year == 2020]"
   ]
  },
  {
   "cell_type": "code",
   "execution_count": 14,
   "metadata": {},
   "outputs": [
    {
     "data": {
      "text/html": [
       "<div>\n",
       "<style scoped>\n",
       "    .dataframe tbody tr th:only-of-type {\n",
       "        vertical-align: middle;\n",
       "    }\n",
       "\n",
       "    .dataframe tbody tr th {\n",
       "        vertical-align: top;\n",
       "    }\n",
       "\n",
       "    .dataframe thead th {\n",
       "        text-align: right;\n",
       "    }\n",
       "</style>\n",
       "<table border=\"1\" class=\"dataframe\">\n",
       "  <thead>\n",
       "    <tr style=\"text-align: right;\">\n",
       "      <th></th>\n",
       "      <th>id</th>\n",
       "      <th>name</th>\n",
       "      <th>dateStart</th>\n",
       "      <th>dateEnd</th>\n",
       "      <th>type</th>\n",
       "      <th>season</th>\n",
       "      <th>orgcommittee</th>\n",
       "      <th>synchData</th>\n",
       "      <th>questionQty</th>\n",
       "    </tr>\n",
       "  </thead>\n",
       "  <tbody>\n",
       "    <tr>\n",
       "      <th>4772</th>\n",
       "      <td>4772</td>\n",
       "      <td>Синхрон северных стран. Зимний выпуск</td>\n",
       "      <td>2019-01-05 16:00:00+00:00</td>\n",
       "      <td>2019-01-09T19:00:00+03:00</td>\n",
       "      <td>{'id': 3, 'name': 'Синхрон'}</td>\n",
       "      <td>/seasons/52</td>\n",
       "      <td>[{'id': 28379, 'name': 'Константин', 'patronym...</td>\n",
       "      <td>{'dateRequestsAllowedTo': '2019-01-09T23:59:59...</td>\n",
       "      <td>{'1': 12, '2': 12, '3': 12}</td>\n",
       "    </tr>\n",
       "    <tr>\n",
       "      <th>4973</th>\n",
       "      <td>4973</td>\n",
       "      <td>Балтийский Берег. 3 игра</td>\n",
       "      <td>2019-01-25 16:05:00+00:00</td>\n",
       "      <td>2019-01-29T19:00:00+03:00</td>\n",
       "      <td>{'id': 3, 'name': 'Синхрон'}</td>\n",
       "      <td>/seasons/52</td>\n",
       "      <td>[{'id': 23030, 'name': 'Марина', 'patronymic':...</td>\n",
       "      <td>{'dateRequestsAllowedTo': '2019-01-28T23:59:59...</td>\n",
       "      <td>{'1': 12, '2': 12, '3': 12}</td>\n",
       "    </tr>\n",
       "    <tr>\n",
       "      <th>4974</th>\n",
       "      <td>4974</td>\n",
       "      <td>Балтийский Берег. 4 игра</td>\n",
       "      <td>2019-03-01 16:05:00+00:00</td>\n",
       "      <td>2019-03-05T19:00:00+03:00</td>\n",
       "      <td>{'id': 3, 'name': 'Синхрон'}</td>\n",
       "      <td>/seasons/52</td>\n",
       "      <td>[{'id': 23030, 'name': 'Марина', 'patronymic':...</td>\n",
       "      <td>{'dateRequestsAllowedTo': '2019-03-04T23:59:59...</td>\n",
       "      <td>{'1': 12, '2': 12, '3': 12}</td>\n",
       "    </tr>\n",
       "    <tr>\n",
       "      <th>4975</th>\n",
       "      <td>4975</td>\n",
       "      <td>Балтийский Берег. 5 игра</td>\n",
       "      <td>2019-04-05 16:05:00+00:00</td>\n",
       "      <td>2019-04-09T19:00:00+03:00</td>\n",
       "      <td>{'id': 3, 'name': 'Синхрон'}</td>\n",
       "      <td>/seasons/52</td>\n",
       "      <td>[{'id': 23030, 'name': 'Марина', 'patronymic':...</td>\n",
       "      <td>{'dateRequestsAllowedTo': '2019-04-08T23:59:59...</td>\n",
       "      <td>{'1': 12, '2': 12, '3': 12}</td>\n",
       "    </tr>\n",
       "    <tr>\n",
       "      <th>4986</th>\n",
       "      <td>4986</td>\n",
       "      <td>ОВСЧ. 6 этап</td>\n",
       "      <td>2019-02-15 17:00:00+00:00</td>\n",
       "      <td>2019-02-19T20:00:00+03:00</td>\n",
       "      <td>{'id': 3, 'name': 'Синхрон'}</td>\n",
       "      <td>/seasons/52</td>\n",
       "      <td>[{'id': 59140, 'name': 'Борис', 'patronymic': ...</td>\n",
       "      <td>{'dateRequestsAllowedTo': '2019-02-19T23:59:59...</td>\n",
       "      <td>{'1': 12, '2': 12, '3': 12}</td>\n",
       "    </tr>\n",
       "  </tbody>\n",
       "</table>\n",
       "</div>"
      ],
      "text/plain": [
       "        id                                   name                 dateStart  \\\n",
       "4772  4772  Синхрон северных стран. Зимний выпуск 2019-01-05 16:00:00+00:00   \n",
       "4973  4973               Балтийский Берег. 3 игра 2019-01-25 16:05:00+00:00   \n",
       "4974  4974               Балтийский Берег. 4 игра 2019-03-01 16:05:00+00:00   \n",
       "4975  4975               Балтийский Берег. 5 игра 2019-04-05 16:05:00+00:00   \n",
       "4986  4986                           ОВСЧ. 6 этап 2019-02-15 17:00:00+00:00   \n",
       "\n",
       "                        dateEnd                          type       season  \\\n",
       "4772  2019-01-09T19:00:00+03:00  {'id': 3, 'name': 'Синхрон'}  /seasons/52   \n",
       "4973  2019-01-29T19:00:00+03:00  {'id': 3, 'name': 'Синхрон'}  /seasons/52   \n",
       "4974  2019-03-05T19:00:00+03:00  {'id': 3, 'name': 'Синхрон'}  /seasons/52   \n",
       "4975  2019-04-09T19:00:00+03:00  {'id': 3, 'name': 'Синхрон'}  /seasons/52   \n",
       "4986  2019-02-19T20:00:00+03:00  {'id': 3, 'name': 'Синхрон'}  /seasons/52   \n",
       "\n",
       "                                           orgcommittee  \\\n",
       "4772  [{'id': 28379, 'name': 'Константин', 'patronym...   \n",
       "4973  [{'id': 23030, 'name': 'Марина', 'patronymic':...   \n",
       "4974  [{'id': 23030, 'name': 'Марина', 'patronymic':...   \n",
       "4975  [{'id': 23030, 'name': 'Марина', 'patronymic':...   \n",
       "4986  [{'id': 59140, 'name': 'Борис', 'patronymic': ...   \n",
       "\n",
       "                                              synchData  \\\n",
       "4772  {'dateRequestsAllowedTo': '2019-01-09T23:59:59...   \n",
       "4973  {'dateRequestsAllowedTo': '2019-01-28T23:59:59...   \n",
       "4974  {'dateRequestsAllowedTo': '2019-03-04T23:59:59...   \n",
       "4975  {'dateRequestsAllowedTo': '2019-04-08T23:59:59...   \n",
       "4986  {'dateRequestsAllowedTo': '2019-02-19T23:59:59...   \n",
       "\n",
       "                      questionQty  \n",
       "4772  {'1': 12, '2': 12, '3': 12}  \n",
       "4973  {'1': 12, '2': 12, '3': 12}  \n",
       "4974  {'1': 12, '2': 12, '3': 12}  \n",
       "4975  {'1': 12, '2': 12, '3': 12}  \n",
       "4986  {'1': 12, '2': 12, '3': 12}  "
      ]
     },
     "execution_count": 14,
     "metadata": {},
     "output_type": "execute_result"
    }
   ],
   "source": [
    "train_tourns.head()"
   ]
  },
  {
   "cell_type": "markdown",
   "metadata": {},
   "source": [
    "### Результаты"
   ]
  },
  {
   "cell_type": "code",
   "execution_count": 13,
   "metadata": {},
   "outputs": [],
   "source": [
    "results = pd.DataFrame.from_dict(results_data, orient='index')\n"
   ]
  },
  {
   "cell_type": "code",
   "execution_count": 14,
   "metadata": {},
   "outputs": [
    {
     "data": {
      "text/html": [
       "<div>\n",
       "<style scoped>\n",
       "    .dataframe tbody tr th:only-of-type {\n",
       "        vertical-align: middle;\n",
       "    }\n",
       "\n",
       "    .dataframe tbody tr th {\n",
       "        vertical-align: top;\n",
       "    }\n",
       "\n",
       "    .dataframe thead th {\n",
       "        text-align: right;\n",
       "    }\n",
       "</style>\n",
       "<table border=\"1\" class=\"dataframe\">\n",
       "  <thead>\n",
       "    <tr style=\"text-align: right;\">\n",
       "      <th></th>\n",
       "      <th>0</th>\n",
       "      <th>1</th>\n",
       "      <th>2</th>\n",
       "      <th>3</th>\n",
       "      <th>4</th>\n",
       "      <th>5</th>\n",
       "      <th>6</th>\n",
       "      <th>7</th>\n",
       "      <th>8</th>\n",
       "      <th>9</th>\n",
       "      <th>...</th>\n",
       "      <th>2054</th>\n",
       "      <th>2055</th>\n",
       "      <th>2056</th>\n",
       "      <th>2057</th>\n",
       "      <th>2058</th>\n",
       "      <th>2059</th>\n",
       "      <th>2060</th>\n",
       "      <th>2061</th>\n",
       "      <th>2062</th>\n",
       "      <th>2063</th>\n",
       "    </tr>\n",
       "  </thead>\n",
       "  <tbody>\n",
       "    <tr>\n",
       "      <th>1</th>\n",
       "      <td>{'team': {'id': 242, 'name': 'Команда Азимова'...</td>\n",
       "      <td>{'team': {'id': 640, 'name': 'Перезагрузка', '...</td>\n",
       "      <td>{'team': {'id': 245, 'name': 'Айастан', 'town'...</td>\n",
       "      <td>{'team': {'id': 299, 'name': 'Команда Гусейнов...</td>\n",
       "      <td>{'team': {'id': 1189, 'name': 'Грааль', 'town'...</td>\n",
       "      <td>{'team': {'id': 251, 'name': 'Пентиум', 'town'...</td>\n",
       "      <td>{'team': {'id': 268, 'name': 'Команда Алиева',...</td>\n",
       "      <td>{'team': {'id': 307, 'name': 'Третий путь', 't...</td>\n",
       "      <td>{'team': {'id': 543, 'name': 'Команда Мусаева'...</td>\n",
       "      <td>{'team': {'id': 41, 'name': 'Фантазия', 'town'...</td>\n",
       "      <td>...</td>\n",
       "      <td>None</td>\n",
       "      <td>None</td>\n",
       "      <td>None</td>\n",
       "      <td>None</td>\n",
       "      <td>None</td>\n",
       "      <td>None</td>\n",
       "      <td>None</td>\n",
       "      <td>None</td>\n",
       "      <td>None</td>\n",
       "      <td>None</td>\n",
       "    </tr>\n",
       "    <tr>\n",
       "      <th>2</th>\n",
       "      <td>{'team': {'id': 312, 'name': 'Социал-демократы...</td>\n",
       "      <td>{'team': {'id': 510, 'name': 'Импульс', 'town'...</td>\n",
       "      <td>{'team': {'id': 195, 'name': 'Реал-Мордовия', ...</td>\n",
       "      <td>{'team': {'id': 264, 'name': 'Джокер', 'town':...</td>\n",
       "      <td>{'team': {'id': 240, 'name': 'Бегемот', 'town'...</td>\n",
       "      <td>{'team': {'id': 689, 'name': 'Б-52', 'town': {...</td>\n",
       "      <td>{'team': {'id': 258, 'name': 'МордоBOYS', 'tow...</td>\n",
       "      <td>{'team': {'id': 558, 'name': 'НТР', 'town': {'...</td>\n",
       "      <td>{'team': {'id': 285, 'name': 'Лис', 'town': {'...</td>\n",
       "      <td>{'team': {'id': 361, 'name': '1Ф', 'town': {'i...</td>\n",
       "      <td>...</td>\n",
       "      <td>None</td>\n",
       "      <td>None</td>\n",
       "      <td>None</td>\n",
       "      <td>None</td>\n",
       "      <td>None</td>\n",
       "      <td>None</td>\n",
       "      <td>None</td>\n",
       "      <td>None</td>\n",
       "      <td>None</td>\n",
       "      <td>None</td>\n",
       "    </tr>\n",
       "    <tr>\n",
       "      <th>3</th>\n",
       "      <td>{'team': {'id': 175, 'name': 'Транссфера', 'to...</td>\n",
       "      <td>{'team': {'id': 5, 'name': 'Команда Кузьмина',...</td>\n",
       "      <td>{'team': {'id': 670, 'name': 'Ксеп', 'town': {...</td>\n",
       "      <td>{'team': {'id': 194, 'name': 'Десятый вал', 't...</td>\n",
       "      <td>{'team': {'id': 1, 'name': 'Неспроста', 'town'...</td>\n",
       "      <td>{'team': {'id': 14, 'name': 'СПС', 'town': {'i...</td>\n",
       "      <td>{'team': {'id': 188, 'name': 'Команда Губанова...</td>\n",
       "      <td>{'team': {'id': 173, 'name': 'ЮМА', 'town': {'...</td>\n",
       "      <td>{'team': {'id': 200, 'name': 'ОНУ им. Мечников...</td>\n",
       "      <td>{'team': {'id': 1733, 'name': 'Суббота 13', 't...</td>\n",
       "      <td>...</td>\n",
       "      <td>None</td>\n",
       "      <td>None</td>\n",
       "      <td>None</td>\n",
       "      <td>None</td>\n",
       "      <td>None</td>\n",
       "      <td>None</td>\n",
       "      <td>None</td>\n",
       "      <td>None</td>\n",
       "      <td>None</td>\n",
       "      <td>None</td>\n",
       "    </tr>\n",
       "    <tr>\n",
       "      <th>4</th>\n",
       "      <td>{'team': {'id': 2205, 'name': 'ХИИТ - 2000', '...</td>\n",
       "      <td>{'team': {'id': 26956, 'name': 'Приматы', 'tow...</td>\n",
       "      <td>{'team': {'id': 26955, 'name': 'Сливки - Форс-...</td>\n",
       "      <td>{'team': {'id': 192, 'name': 'Гамбринус', 'tow...</td>\n",
       "      <td>{'team': {'id': 83, 'name': 'МПС', 'town': {'i...</td>\n",
       "      <td>{'team': {'id': 695, 'name': 'Легион', 'town':...</td>\n",
       "      <td>{'team': {'id': 552, 'name': 'Дуплет', 'town':...</td>\n",
       "      <td>{'team': {'id': 293, 'name': 'Чёрная кошка', '...</td>\n",
       "      <td>{'team': {'id': 493, 'name': 'Beit Grand - Або...</td>\n",
       "      <td>{'team': {'id': 267, 'name': 'Торпедный отсек'...</td>\n",
       "      <td>...</td>\n",
       "      <td>None</td>\n",
       "      <td>None</td>\n",
       "      <td>None</td>\n",
       "      <td>None</td>\n",
       "      <td>None</td>\n",
       "      <td>None</td>\n",
       "      <td>None</td>\n",
       "      <td>None</td>\n",
       "      <td>None</td>\n",
       "      <td>None</td>\n",
       "    </tr>\n",
       "    <tr>\n",
       "      <th>5</th>\n",
       "      <td>{'team': {'id': 1733, 'name': 'Суббота 13', 't...</td>\n",
       "      <td>{'team': {'id': 108, 'name': 'Задумчивый жираф...</td>\n",
       "      <td>{'team': {'id': 425, 'name': 'Бостон-6', 'town...</td>\n",
       "      <td>{'team': {'id': 271, 'name': 'Саша и медведи',...</td>\n",
       "      <td>{'team': {'id': 494, 'name': 'Гигантские дятлы...</td>\n",
       "      <td>{'team': {'id': 2562, 'name': 'Мадагаскар', 't...</td>\n",
       "      <td>{'team': {'id': 100, 'name': 'Сигма', 'town': ...</td>\n",
       "      <td>{'team': {'id': 351, 'name': 'Снарки', 'town':...</td>\n",
       "      <td>{'team': {'id': 709, 'name': 'Легионеры', 'tow...</td>\n",
       "      <td>{'team': {'id': 647, 'name': 'Вашингтонские му...</td>\n",
       "      <td>...</td>\n",
       "      <td>None</td>\n",
       "      <td>None</td>\n",
       "      <td>None</td>\n",
       "      <td>None</td>\n",
       "      <td>None</td>\n",
       "      <td>None</td>\n",
       "      <td>None</td>\n",
       "      <td>None</td>\n",
       "      <td>None</td>\n",
       "      <td>None</td>\n",
       "    </tr>\n",
       "  </tbody>\n",
       "</table>\n",
       "<p>5 rows × 2064 columns</p>\n",
       "</div>"
      ],
      "text/plain": [
       "                                                0     \\\n",
       "1  {'team': {'id': 242, 'name': 'Команда Азимова'...   \n",
       "2  {'team': {'id': 312, 'name': 'Социал-демократы...   \n",
       "3  {'team': {'id': 175, 'name': 'Транссфера', 'to...   \n",
       "4  {'team': {'id': 2205, 'name': 'ХИИТ - 2000', '...   \n",
       "5  {'team': {'id': 1733, 'name': 'Суббота 13', 't...   \n",
       "\n",
       "                                                1     \\\n",
       "1  {'team': {'id': 640, 'name': 'Перезагрузка', '...   \n",
       "2  {'team': {'id': 510, 'name': 'Импульс', 'town'...   \n",
       "3  {'team': {'id': 5, 'name': 'Команда Кузьмина',...   \n",
       "4  {'team': {'id': 26956, 'name': 'Приматы', 'tow...   \n",
       "5  {'team': {'id': 108, 'name': 'Задумчивый жираф...   \n",
       "\n",
       "                                                2     \\\n",
       "1  {'team': {'id': 245, 'name': 'Айастан', 'town'...   \n",
       "2  {'team': {'id': 195, 'name': 'Реал-Мордовия', ...   \n",
       "3  {'team': {'id': 670, 'name': 'Ксеп', 'town': {...   \n",
       "4  {'team': {'id': 26955, 'name': 'Сливки - Форс-...   \n",
       "5  {'team': {'id': 425, 'name': 'Бостон-6', 'town...   \n",
       "\n",
       "                                                3     \\\n",
       "1  {'team': {'id': 299, 'name': 'Команда Гусейнов...   \n",
       "2  {'team': {'id': 264, 'name': 'Джокер', 'town':...   \n",
       "3  {'team': {'id': 194, 'name': 'Десятый вал', 't...   \n",
       "4  {'team': {'id': 192, 'name': 'Гамбринус', 'tow...   \n",
       "5  {'team': {'id': 271, 'name': 'Саша и медведи',...   \n",
       "\n",
       "                                                4     \\\n",
       "1  {'team': {'id': 1189, 'name': 'Грааль', 'town'...   \n",
       "2  {'team': {'id': 240, 'name': 'Бегемот', 'town'...   \n",
       "3  {'team': {'id': 1, 'name': 'Неспроста', 'town'...   \n",
       "4  {'team': {'id': 83, 'name': 'МПС', 'town': {'i...   \n",
       "5  {'team': {'id': 494, 'name': 'Гигантские дятлы...   \n",
       "\n",
       "                                                5     \\\n",
       "1  {'team': {'id': 251, 'name': 'Пентиум', 'town'...   \n",
       "2  {'team': {'id': 689, 'name': 'Б-52', 'town': {...   \n",
       "3  {'team': {'id': 14, 'name': 'СПС', 'town': {'i...   \n",
       "4  {'team': {'id': 695, 'name': 'Легион', 'town':...   \n",
       "5  {'team': {'id': 2562, 'name': 'Мадагаскар', 't...   \n",
       "\n",
       "                                                6     \\\n",
       "1  {'team': {'id': 268, 'name': 'Команда Алиева',...   \n",
       "2  {'team': {'id': 258, 'name': 'МордоBOYS', 'tow...   \n",
       "3  {'team': {'id': 188, 'name': 'Команда Губанова...   \n",
       "4  {'team': {'id': 552, 'name': 'Дуплет', 'town':...   \n",
       "5  {'team': {'id': 100, 'name': 'Сигма', 'town': ...   \n",
       "\n",
       "                                                7     \\\n",
       "1  {'team': {'id': 307, 'name': 'Третий путь', 't...   \n",
       "2  {'team': {'id': 558, 'name': 'НТР', 'town': {'...   \n",
       "3  {'team': {'id': 173, 'name': 'ЮМА', 'town': {'...   \n",
       "4  {'team': {'id': 293, 'name': 'Чёрная кошка', '...   \n",
       "5  {'team': {'id': 351, 'name': 'Снарки', 'town':...   \n",
       "\n",
       "                                                8     \\\n",
       "1  {'team': {'id': 543, 'name': 'Команда Мусаева'...   \n",
       "2  {'team': {'id': 285, 'name': 'Лис', 'town': {'...   \n",
       "3  {'team': {'id': 200, 'name': 'ОНУ им. Мечников...   \n",
       "4  {'team': {'id': 493, 'name': 'Beit Grand - Або...   \n",
       "5  {'team': {'id': 709, 'name': 'Легионеры', 'tow...   \n",
       "\n",
       "                                                9     ...  2054  2055  2056  \\\n",
       "1  {'team': {'id': 41, 'name': 'Фантазия', 'town'...  ...  None  None  None   \n",
       "2  {'team': {'id': 361, 'name': '1Ф', 'town': {'i...  ...  None  None  None   \n",
       "3  {'team': {'id': 1733, 'name': 'Суббота 13', 't...  ...  None  None  None   \n",
       "4  {'team': {'id': 267, 'name': 'Торпедный отсек'...  ...  None  None  None   \n",
       "5  {'team': {'id': 647, 'name': 'Вашингтонские му...  ...  None  None  None   \n",
       "\n",
       "   2057  2058  2059  2060  2061  2062  2063  \n",
       "1  None  None  None  None  None  None  None  \n",
       "2  None  None  None  None  None  None  None  \n",
       "3  None  None  None  None  None  None  None  \n",
       "4  None  None  None  None  None  None  None  \n",
       "5  None  None  None  None  None  None  None  \n",
       "\n",
       "[5 rows x 2064 columns]"
      ]
     },
     "execution_count": 14,
     "metadata": {},
     "output_type": "execute_result"
    }
   ],
   "source": [
    "results.head()"
   ]
  },
  {
   "cell_type": "markdown",
   "metadata": {},
   "source": [
    "### Найдем индексы турниров, которые будем учитывать (из условия задания)"
   ]
  },
  {
   "cell_type": "code",
   "execution_count": 15,
   "metadata": {},
   "outputs": [],
   "source": [
    "train_tourns_dict = train_tourns.to_dict(orient='index')"
   ]
  },
  {
   "cell_type": "code",
   "execution_count": 16,
   "metadata": {},
   "outputs": [],
   "source": [
    "tourns_inds = [] # индексы турниров, которые будем учитывать\n",
    "for i, t in train_tourns_dict.items():\n",
    "    resi = results_data[i]\n",
    "    #print(resi)\n",
    "    if resi:\n",
    "        masks = [len(team['mask']) if 'mask' in team.keys() and team['mask'] else 0 for team in resi]\n",
    "        if all(masks) and all([m == masks[0] for m in masks]):\n",
    "            #print(i)\n",
    "            #print(masks)\n",
    "            tourns_inds.append(i)"
   ]
  },
  {
   "cell_type": "code",
   "execution_count": 17,
   "metadata": {},
   "outputs": [
    {
     "data": {
      "text/plain": [
       "661"
      ]
     },
     "execution_count": 17,
     "metadata": {},
     "output_type": "execute_result"
    }
   ],
   "source": [
    "len(tourns_inds)"
   ]
  },
  {
   "cell_type": "markdown",
   "metadata": {},
   "source": [
    "### Итого 661 турнир\n",
    "### Таблица с промежуточными данными"
   ]
  },
  {
   "cell_type": "code",
   "execution_count": 167,
   "metadata": {},
   "outputs": [],
   "source": [
    "ts = [] # tournaments: [индекс турнира, [индексы игроков], [маски]] для каждого турнира (предварительная таблица)\n",
    "for i in tourns_inds:\n",
    "    res = results_data[i]\n",
    "    masks = []\n",
    "    total_pids = []\n",
    "    teams_id = []\n",
    "    for team in res:\n",
    "        pids = [pl['player']['id'] for pl in team['teamMembers']]\n",
    "        mask = team['mask']\n",
    "        masks.append(list(mask))\n",
    "        total_pids.append(pids)\n",
    "        teams_id.append(team['team']['id'])\n",
    "    t = [i, total_pids, masks, teams_id]\n",
    "    ts.append(t)"
   ]
  },
  {
   "cell_type": "markdown",
   "metadata": {},
   "source": [
    "### Для удобства составим предварительную таблицу турнир - список id игроков команды - маска"
   ]
  },
  {
   "cell_type": "code",
   "execution_count": 169,
   "metadata": {},
   "outputs": [
    {
     "data": {
      "text/html": [
       "<div>\n",
       "<style scoped>\n",
       "    .dataframe tbody tr th:only-of-type {\n",
       "        vertical-align: middle;\n",
       "    }\n",
       "\n",
       "    .dataframe tbody tr th {\n",
       "        vertical-align: top;\n",
       "    }\n",
       "\n",
       "    .dataframe thead th {\n",
       "        text-align: right;\n",
       "    }\n",
       "</style>\n",
       "<table border=\"1\" class=\"dataframe\">\n",
       "  <thead>\n",
       "    <tr style=\"text-align: right;\">\n",
       "      <th></th>\n",
       "      <th>tourn_id</th>\n",
       "      <th>players_id</th>\n",
       "      <th>mask</th>\n",
       "      <th>teams_id</th>\n",
       "    </tr>\n",
       "  </thead>\n",
       "  <tbody>\n",
       "    <tr>\n",
       "      <th>0</th>\n",
       "      <td>4772</td>\n",
       "      <td>[[6212, 18332, 18036, 22799, 15456, 26089], [1...</td>\n",
       "      <td>[[1, 1, 1, 1, 1, 1, 1, 1, 1, 0, 1, 1, 1, 1, 1,...</td>\n",
       "      <td>[45556, 1030, 4252, 5444, 40931, 47075, 53185,...</td>\n",
       "    </tr>\n",
       "    <tr>\n",
       "      <th>1</th>\n",
       "      <td>4973</td>\n",
       "      <td>[[6212, 18332, 18036, 22799, 7008, 26089], [27...</td>\n",
       "      <td>[[1, 1, 1, 1, 1, 1, 1, 1, 1, 1, 1, 1, 1, 1, 1,...</td>\n",
       "      <td>[45556, 69309, 27522, 67979, 2055, 4032, 6936,...</td>\n",
       "    </tr>\n",
       "    <tr>\n",
       "      <th>2</th>\n",
       "      <td>4974</td>\n",
       "      <td>[[19411, 24290, 32979, 5195, 33806, 9680], [27...</td>\n",
       "      <td>[[1, 1, 1, 1, 1, 1, 1, 1, 1, 1, 1, 1, 1, 1, 1,...</td>\n",
       "      <td>[2865, 69309, 6874, 27522, 56664, 1021, 4622, ...</td>\n",
       "    </tr>\n",
       "    <tr>\n",
       "      <th>3</th>\n",
       "      <td>4975</td>\n",
       "      <td>[[13345, 29425, 52183, 34417, 30772, 93424], [...</td>\n",
       "      <td>[[1, 1, 0, 1, 0, 1, 0, 1, 1, 1, 1, 1, 1, 1, 1,...</td>\n",
       "      <td>[4174, 45556, 70530, 7864, 7896, 27119, 33088,...</td>\n",
       "    </tr>\n",
       "    <tr>\n",
       "      <th>4</th>\n",
       "      <td>4986</td>\n",
       "      <td>[[27822, 28751, 30270, 33620, 2421], [6482, 13...</td>\n",
       "      <td>[[1, 1, 1, 1, 1, 1, 1, 1, 1, 1, 1, 1, 1, 1, 1,...</td>\n",
       "      <td>[69309, 49758, 312, 27177, 928, 38722, 45174, ...</td>\n",
       "    </tr>\n",
       "    <tr>\n",
       "      <th>...</th>\n",
       "      <td>...</td>\n",
       "      <td>...</td>\n",
       "      <td>...</td>\n",
       "      <td>...</td>\n",
       "    </tr>\n",
       "    <tr>\n",
       "      <th>656</th>\n",
       "      <td>6159</td>\n",
       "      <td>[[3767, 36568, 117262, 26465, 73105], [143858,...</td>\n",
       "      <td>[[1, 1, 0, 0, 1, 1, 1, 0, 0, 1, 0, 1, 1, 1, 0,...</td>\n",
       "      <td>[54613, 57632, 71877, 56116, 66744, 54889, 512...</td>\n",
       "    </tr>\n",
       "    <tr>\n",
       "      <th>657</th>\n",
       "      <td>6161</td>\n",
       "      <td>[[136830, 120245, 158920, 86121, 62746, 118175...</td>\n",
       "      <td>[[1, 0, 1, 0, 1, 0, 0, 0, 0, 1, 1, 1, 1, 1, 0,...</td>\n",
       "      <td>[72610, 66687, 60252, 66481, 67319, 73563, 695...</td>\n",
       "    </tr>\n",
       "    <tr>\n",
       "      <th>658</th>\n",
       "      <td>6170</td>\n",
       "      <td>[[163945, 139070, 92003, 188741, 152884, 19823...</td>\n",
       "      <td>[[1, 1, 1, 1, 1, 1, 1, 1, 0, 1, 1, 1, 1, 1, 1,...</td>\n",
       "      <td>[72577, 68404, 76209, 68397, 68401, 76242, 524...</td>\n",
       "    </tr>\n",
       "    <tr>\n",
       "      <th>659</th>\n",
       "      <td>6173</td>\n",
       "      <td>[[104370, 156977, 70136, 90627, 95086, 102051]...</td>\n",
       "      <td>[[1, 1, 1, 1, 1, 1, 1, 1, 1, 0, 1, 1, 1, 1, 1,...</td>\n",
       "      <td>[59478, 44167, 65693, 50896, 75076, 55741, 412...</td>\n",
       "    </tr>\n",
       "    <tr>\n",
       "      <th>660</th>\n",
       "      <td>6191</td>\n",
       "      <td>[[278, 20345, 64623, 19565, 24757, 31349], [59...</td>\n",
       "      <td>[[1, 1, 1, 1, 1, 1, 0, 1, 1, 1, 1, 0, 1, 1, 0,...</td>\n",
       "      <td>[245, 8865, 1025, 38791, 76292, 7602, 56935, 4...</td>\n",
       "    </tr>\n",
       "  </tbody>\n",
       "</table>\n",
       "<p>661 rows × 4 columns</p>\n",
       "</div>"
      ],
      "text/plain": [
       "     tourn_id                                         players_id  \\\n",
       "0        4772  [[6212, 18332, 18036, 22799, 15456, 26089], [1...   \n",
       "1        4973  [[6212, 18332, 18036, 22799, 7008, 26089], [27...   \n",
       "2        4974  [[19411, 24290, 32979, 5195, 33806, 9680], [27...   \n",
       "3        4975  [[13345, 29425, 52183, 34417, 30772, 93424], [...   \n",
       "4        4986  [[27822, 28751, 30270, 33620, 2421], [6482, 13...   \n",
       "..        ...                                                ...   \n",
       "656      6159  [[3767, 36568, 117262, 26465, 73105], [143858,...   \n",
       "657      6161  [[136830, 120245, 158920, 86121, 62746, 118175...   \n",
       "658      6170  [[163945, 139070, 92003, 188741, 152884, 19823...   \n",
       "659      6173  [[104370, 156977, 70136, 90627, 95086, 102051]...   \n",
       "660      6191  [[278, 20345, 64623, 19565, 24757, 31349], [59...   \n",
       "\n",
       "                                                  mask  \\\n",
       "0    [[1, 1, 1, 1, 1, 1, 1, 1, 1, 0, 1, 1, 1, 1, 1,...   \n",
       "1    [[1, 1, 1, 1, 1, 1, 1, 1, 1, 1, 1, 1, 1, 1, 1,...   \n",
       "2    [[1, 1, 1, 1, 1, 1, 1, 1, 1, 1, 1, 1, 1, 1, 1,...   \n",
       "3    [[1, 1, 0, 1, 0, 1, 0, 1, 1, 1, 1, 1, 1, 1, 1,...   \n",
       "4    [[1, 1, 1, 1, 1, 1, 1, 1, 1, 1, 1, 1, 1, 1, 1,...   \n",
       "..                                                 ...   \n",
       "656  [[1, 1, 0, 0, 1, 1, 1, 0, 0, 1, 0, 1, 1, 1, 0,...   \n",
       "657  [[1, 0, 1, 0, 1, 0, 0, 0, 0, 1, 1, 1, 1, 1, 0,...   \n",
       "658  [[1, 1, 1, 1, 1, 1, 1, 1, 0, 1, 1, 1, 1, 1, 1,...   \n",
       "659  [[1, 1, 1, 1, 1, 1, 1, 1, 1, 0, 1, 1, 1, 1, 1,...   \n",
       "660  [[1, 1, 1, 1, 1, 1, 0, 1, 1, 1, 1, 0, 1, 1, 0,...   \n",
       "\n",
       "                                              teams_id  \n",
       "0    [45556, 1030, 4252, 5444, 40931, 47075, 53185,...  \n",
       "1    [45556, 69309, 27522, 67979, 2055, 4032, 6936,...  \n",
       "2    [2865, 69309, 6874, 27522, 56664, 1021, 4622, ...  \n",
       "3    [4174, 45556, 70530, 7864, 7896, 27119, 33088,...  \n",
       "4    [69309, 49758, 312, 27177, 928, 38722, 45174, ...  \n",
       "..                                                 ...  \n",
       "656  [54613, 57632, 71877, 56116, 66744, 54889, 512...  \n",
       "657  [72610, 66687, 60252, 66481, 67319, 73563, 695...  \n",
       "658  [72577, 68404, 76209, 68397, 68401, 76242, 524...  \n",
       "659  [59478, 44167, 65693, 50896, 75076, 55741, 412...  \n",
       "660  [245, 8865, 1025, 38791, 76292, 7602, 56935, 4...  \n",
       "\n",
       "[661 rows x 4 columns]"
      ]
     },
     "execution_count": 169,
     "metadata": {},
     "output_type": "execute_result"
    }
   ],
   "source": [
    "d = dict()\n",
    "d['tourn_id'] = [t[0] for t in ts]\n",
    "d['players_id'] = [t[1] for t in ts]\n",
    "d['mask'] = [t[2] for t in ts]\n",
    "d['teams_id'] = [t[3] for t in ts]\n",
    "d = pd.DataFrame.from_dict(d)\n",
    "d"
   ]
  },
  {
   "cell_type": "markdown",
   "metadata": {},
   "source": [
    "### Поскольку индексы игроков пронумерованы не с 0 и не идут подряд, итоговая матрица, которую будем использовать для обучения, которая и так разреженная, будет еще больше. Поэтому переномеруем индексы игроков, чтобы они начинались с нуля и шли подряд"
   ]
  },
  {
   "cell_type": "code",
   "execution_count": 20,
   "metadata": {},
   "outputs": [
    {
     "name": "stdout",
     "output_type": "stream",
     "text": [
      "количество игроков: 57060\n"
     ]
    }
   ],
   "source": [
    "ids = []\n",
    "for t in ts:\n",
    "    l = t[1]\n",
    "    for team in l:\n",
    "        ids.extend(team)\n",
    "#ids = [t[1] for t in ts]\n",
    "ids = set(ids)\n",
    "print(f\"количество игроков: {len(ids)}\")"
   ]
  },
  {
   "cell_type": "code",
   "execution_count": 21,
   "metadata": {},
   "outputs": [],
   "source": [
    "# Новую нумерацию будем учитывать использяю словари с переходом от старых к новым индексам и наоборот\n",
    "new_ids = [i for i in range(len(ids))]\n",
    "pids_new2old = dict(zip(new_ids, ids))\n",
    "pids_old2new = dict(zip(ids, new_ids))"
   ]
  },
  {
   "cell_type": "markdown",
   "metadata": {},
   "source": [
    "### pids_new2old - словарь для перехода от новых индексов к старым, pids_old2new - наоборот\n"
   ]
  },
  {
   "cell_type": "markdown",
   "metadata": {},
   "source": [
    "### Создадим матрицу, по которой будем обучаться, из предварительной таблицы, полученной ранее. Матрица будем выглядть следующим образом: количество столбцов равно количеству игроков+количество вопросов (соотв, каждй признак это либо сила игрока, либо сложность вопроса). Соответсвтенно, каждая строка будет соответстовать тому ( вероятности) правильно ли ответил i-ый игрок на j-ый вопрос. Для этого создадим соответствующую разреженную матрицу.\n",
    "### Предварительная таблица, полученная ранее:"
   ]
  },
  {
   "cell_type": "code",
   "execution_count": 22,
   "metadata": {},
   "outputs": [
    {
     "data": {
      "text/html": [
       "<div>\n",
       "<style scoped>\n",
       "    .dataframe tbody tr th:only-of-type {\n",
       "        vertical-align: middle;\n",
       "    }\n",
       "\n",
       "    .dataframe tbody tr th {\n",
       "        vertical-align: top;\n",
       "    }\n",
       "\n",
       "    .dataframe thead th {\n",
       "        text-align: right;\n",
       "    }\n",
       "</style>\n",
       "<table border=\"1\" class=\"dataframe\">\n",
       "  <thead>\n",
       "    <tr style=\"text-align: right;\">\n",
       "      <th></th>\n",
       "      <th>tourn_id</th>\n",
       "      <th>players_id</th>\n",
       "      <th>mask</th>\n",
       "    </tr>\n",
       "  </thead>\n",
       "  <tbody>\n",
       "    <tr>\n",
       "      <th>0</th>\n",
       "      <td>4772</td>\n",
       "      <td>[[6212, 18332, 18036, 22799, 15456, 26089], [1...</td>\n",
       "      <td>[[1, 1, 1, 1, 1, 1, 1, 1, 1, 0, 1, 1, 1, 1, 1,...</td>\n",
       "    </tr>\n",
       "    <tr>\n",
       "      <th>1</th>\n",
       "      <td>4973</td>\n",
       "      <td>[[6212, 18332, 18036, 22799, 7008, 26089], [27...</td>\n",
       "      <td>[[1, 1, 1, 1, 1, 1, 1, 1, 1, 1, 1, 1, 1, 1, 1,...</td>\n",
       "    </tr>\n",
       "    <tr>\n",
       "      <th>2</th>\n",
       "      <td>4974</td>\n",
       "      <td>[[19411, 24290, 32979, 5195, 33806, 9680], [27...</td>\n",
       "      <td>[[1, 1, 1, 1, 1, 1, 1, 1, 1, 1, 1, 1, 1, 1, 1,...</td>\n",
       "    </tr>\n",
       "    <tr>\n",
       "      <th>3</th>\n",
       "      <td>4975</td>\n",
       "      <td>[[13345, 29425, 52183, 34417, 30772, 93424], [...</td>\n",
       "      <td>[[1, 1, 0, 1, 0, 1, 0, 1, 1, 1, 1, 1, 1, 1, 1,...</td>\n",
       "    </tr>\n",
       "    <tr>\n",
       "      <th>4</th>\n",
       "      <td>4986</td>\n",
       "      <td>[[27822, 28751, 30270, 33620, 2421], [6482, 13...</td>\n",
       "      <td>[[1, 1, 1, 1, 1, 1, 1, 1, 1, 1, 1, 1, 1, 1, 1,...</td>\n",
       "    </tr>\n",
       "  </tbody>\n",
       "</table>\n",
       "</div>"
      ],
      "text/plain": [
       "   tourn_id                                         players_id  \\\n",
       "0      4772  [[6212, 18332, 18036, 22799, 15456, 26089], [1...   \n",
       "1      4973  [[6212, 18332, 18036, 22799, 7008, 26089], [27...   \n",
       "2      4974  [[19411, 24290, 32979, 5195, 33806, 9680], [27...   \n",
       "3      4975  [[13345, 29425, 52183, 34417, 30772, 93424], [...   \n",
       "4      4986  [[27822, 28751, 30270, 33620, 2421], [6482, 13...   \n",
       "\n",
       "                                                mask  \n",
       "0  [[1, 1, 1, 1, 1, 1, 1, 1, 1, 0, 1, 1, 1, 1, 1,...  \n",
       "1  [[1, 1, 1, 1, 1, 1, 1, 1, 1, 1, 1, 1, 1, 1, 1,...  \n",
       "2  [[1, 1, 1, 1, 1, 1, 1, 1, 1, 1, 1, 1, 1, 1, 1,...  \n",
       "3  [[1, 1, 0, 1, 0, 1, 0, 1, 1, 1, 1, 1, 1, 1, 1,...  \n",
       "4  [[1, 1, 1, 1, 1, 1, 1, 1, 1, 1, 1, 1, 1, 1, 1,...  "
      ]
     },
     "execution_count": 22,
     "metadata": {},
     "output_type": "execute_result"
    }
   ],
   "source": [
    "d.head() # будем использовать список ts, по которой получена данная таблица"
   ]
  },
  {
   "cell_type": "code",
   "execution_count": 30,
   "metadata": {
    "scrolled": true
   },
   "outputs": [],
   "source": [
    "qid = 0 # текущий индекс вопроса\n",
    "pids = [] # Индексы игроков\n",
    "qids = [] # Индексы вопросов\n",
    "y = [] # Целевая переменная\n",
    "for ii,t in enumerate(ts):\n",
    "    tms = t[1]\n",
    "    mask = t[2]\n",
    "    #print(t[0], ii)\n",
    "    for j in range(len(mask[0])):\n",
    "        for i in range(len(mask)):\n",
    "            q = mask[i][j] # ответ i-ой команды на j-ый вопрос\n",
    "            if q in '01':\n",
    "                for old_id in tms[i]:\n",
    "                    new_id = pids_old2new[old_id]\n",
    "                    pids.append(new_id)\n",
    "                    qids.append(qid+j)\n",
    "                    y.append(int(q))\n",
    "                    \n",
    "    qid += len(mask[0])"
   ]
  },
  {
   "cell_type": "code",
   "execution_count": 31,
   "metadata": {},
   "outputs": [
    {
     "name": "stdout",
     "output_type": "stream",
     "text": [
      "количество вопросов: 30752\n"
     ]
    }
   ],
   "source": [
    "print(f'количество вопросов: {qid}')"
   ]
  },
  {
   "cell_type": "markdown",
   "metadata": {},
   "source": [
    "### Прибавим к индексу вопроса число 57060 - количество игроков, поскольку мы конкатенируем признаки вопросы и игроки"
   ]
  },
  {
   "cell_type": "code",
   "execution_count": 32,
   "metadata": {},
   "outputs": [],
   "source": [
    "qids = [q + len(ids) for q in qids ]"
   ]
  },
  {
   "cell_type": "markdown",
   "metadata": {},
   "source": [
    "### Создаем разреженную матрицу. Первые 57060 столбцов - индекс игрока, следующие 30752-- индекс вопроса"
   ]
  },
  {
   "cell_type": "code",
   "execution_count": 33,
   "metadata": {},
   "outputs": [],
   "source": [
    "N_players = len(ids)\n",
    "N_questions = qid"
   ]
  },
  {
   "cell_type": "code",
   "execution_count": 34,
   "metadata": {},
   "outputs": [],
   "source": [
    "rows = [i for i in range(2*(N_players+N_questions))]\n",
    "data = [1] * (N_players+N_questions)"
   ]
  },
  {
   "cell_type": "code",
   "execution_count": 124,
   "metadata": {},
   "outputs": [],
   "source": [
    "#rows = np.ones((N_players+N_questions,2)) * np.arange(N_players+N_questions).reshape(N_players+N_questions,1)\n",
    "#rows = np.reshape(rows, (2*(N_players+N_questions),1))\n",
    "#rows = rows.astype('int')\n",
    "\n",
    "rows = np.ones((len(pids), 2)) * np.arange(len(pids)).reshape(len(pids),1)\n",
    "rows = np.reshape(rows, (2*len(pids),1))\n",
    "rows = rows.reshape(-1)\n",
    "rows = rows.astype('int')\n",
    "\n",
    "#cols = [*pids, *qids]\n",
    "#cols = np.array(cols)\n",
    "#cols = cols.astype('int')\n",
    "#cols = cols.reshape(-1)\n",
    "cols = np.zeros((len(pids),2))\n",
    "cols[:,0] = np.array(pids)\n",
    "cols[:,1] = np.array(qids)\n",
    "cols = cols.reshape(-1)\n",
    "cols = cols.astype('int')\n",
    "\n",
    "data = [1] * 2 * len(pids)\n",
    "data = np.array(data)\n",
    "#data = data.reshape(-1,1)"
   ]
  },
  {
   "cell_type": "code",
   "execution_count": 125,
   "metadata": {},
   "outputs": [],
   "source": [
    "X_sparse = csr_matrix((data,(rows, cols)))"
   ]
  },
  {
   "cell_type": "markdown",
   "metadata": {},
   "source": [
    "### Логистическая гегрессия"
   ]
  },
  {
   "cell_type": "code",
   "execution_count": 126,
   "metadata": {},
   "outputs": [],
   "source": [
    "lr = LogisticRegression(solver='sag')\n"
   ]
  },
  {
   "cell_type": "code",
   "execution_count": 127,
   "metadata": {},
   "outputs": [
    {
     "data": {
      "text/plain": [
       "LogisticRegression(solver='sag')"
      ]
     },
     "execution_count": 127,
     "metadata": {},
     "output_type": "execute_result"
    }
   ],
   "source": [
    "lr.fit(X_sparse, y)"
   ]
  },
  {
   "cell_type": "markdown",
   "metadata": {},
   "source": [
    "### Посмотрим на топ игоков по результатам модели"
   ]
  },
  {
   "cell_type": "code",
   "execution_count": 140,
   "metadata": {},
   "outputs": [
    {
     "name": "stdout",
     "output_type": "stream",
     "text": [
      "балл              ФИО\n",
      "4.157 Максим Михайлович Руссо\n",
      "4.03 Александра Владимировна Брутер\n",
      "3.985 Иван Николаевич Семушин\n",
      "3.896 Михаил Владимирович Савченков\n",
      "3.817 Сергей Леонидович Спешков\n",
      "3.816 Артём Сергеевич Сорожкин\n",
      "3.698 Станислав Григорьевич Мереминский\n",
      "3.643 Михаил Ильич Левандовский\n",
      "3.604 Ирина Сергеевна Прокофьева\n",
      "3.584 Сергей Игоревич Николенко\n",
      "3.551 Илья Сергеевич Новиков\n",
      "3.551 Антон Владимирович Саксонов\n",
      "3.549 Александр Витальевич Либер\n",
      "3.513 Игорь Викторович Мокин\n",
      "3.511 Александр Владимирович Мосягин\n",
      "3.502 Алексей Владимирович Гилёв\n",
      "3.499 Михаил Сергеевич Царёв\n",
      "3.494 Дмитрий Александрович Карякин\n",
      "3.491 Александр Валерьевич Марков\n",
      "3.484 Наталья Евгеньевна Горелова\n",
      "3.478 Наталья Алексеевна Кудряшова\n",
      "3.476 Юлия Сергеевна Архангельская\n",
      "3.475 Мария Владимировна Кленницкая\n",
      "3.469 Евгений Павлович Спектор\n",
      "3.464 Николай Валерьевич Крапиль\n",
      "3.454 Юрий Яковлевич Выменец\n",
      "3.452 Михаил Андреевич Новосёлов\n",
      "3.452 Евгений Александрович Пашковский\n",
      "3.446 Николай Александрович Коврижных\n",
      "3.444 Антон Анатольевич Чернин\n",
      "3.432 Михаил Леонидович Матвеев\n",
      "3.429 Андрей Вячеславович Островский\n",
      "3.42 Сусанна Марковна Бровер\n",
      "3.408 Борис Яковлевич Моносов\n",
      "3.406 Александр Ефимович Мартынов\n",
      "3.401 Дмитрий Николаевич Петров\n",
      "3.4 Мария Алексеевна Юнгер\n",
      "3.396 Евгений Васильевич Дёмин\n",
      "3.395 Александр Геннадьевич Коробейников\n",
      "3.393 Татьяна Евгеньевна Фёдорова\n",
      "3.384 Иделия Мукадясовна Айзятулова\n",
      "3.372 Дмитрий Сергеевич Кудинов\n",
      "3.37 Наиль Евгеньевич Фарукшин\n",
      "3.365 Александр Александрович Фингеров\n",
      "3.361 Елизавета Сергеевна Овдеенко\n",
      "3.352 Кристина Олеговна Кораблина\n",
      "3.349 Инна Валентиновна Семёнова\n",
      "3.347 Сергей Владимирович Коновалов\n",
      "3.335 Артём Александрович Митрофанов\n",
      "3.331 Кирилл Игоревич Михайлов\n"
     ]
    }
   ],
   "source": [
    "coefs = lr.coef_\n",
    "best_id = np.argsort(coefs[0][:N_players])\n",
    "best_id = np.flip(best_id)\n",
    "olds_best_id = [pids_new2old[i] for i in best_id[:50]]\n",
    "p = [players_data[i] for i in olds_best_id]\n",
    "\n",
    "best_c = np.sort(coefs[0][:N_players])\n",
    "best_c = np.flip(best_c)\n",
    "best_c[:50]\n",
    "\n",
    "print('балл              ФИО')\n",
    "for pi, c in zip(p, best_c):\n",
    "    print(np.round(c,3), pi['name'], pi['patronymic'], pi['surname'])"
   ]
  },
  {
   "cell_type": "markdown",
   "metadata": {},
   "source": [
    "## Оцениваем результаты по 2020 году (результат по значениям корреляций в конце ноутбука)\n"
   ]
  },
  {
   "cell_type": "code",
   "execution_count": 142,
   "metadata": {},
   "outputs": [
    {
     "data": {
      "text/html": [
       "<div>\n",
       "<style scoped>\n",
       "    .dataframe tbody tr th:only-of-type {\n",
       "        vertical-align: middle;\n",
       "    }\n",
       "\n",
       "    .dataframe tbody tr th {\n",
       "        vertical-align: top;\n",
       "    }\n",
       "\n",
       "    .dataframe thead th {\n",
       "        text-align: right;\n",
       "    }\n",
       "</style>\n",
       "<table border=\"1\" class=\"dataframe\">\n",
       "  <thead>\n",
       "    <tr style=\"text-align: right;\">\n",
       "      <th></th>\n",
       "      <th>id</th>\n",
       "      <th>name</th>\n",
       "      <th>dateStart</th>\n",
       "      <th>dateEnd</th>\n",
       "      <th>type</th>\n",
       "      <th>season</th>\n",
       "      <th>orgcommittee</th>\n",
       "      <th>synchData</th>\n",
       "      <th>questionQty</th>\n",
       "    </tr>\n",
       "  </thead>\n",
       "  <tbody>\n",
       "    <tr>\n",
       "      <th>4628</th>\n",
       "      <td>4628</td>\n",
       "      <td>Семь сорок</td>\n",
       "      <td>2020-12-30 13:00:00+00:00</td>\n",
       "      <td>2020-12-30T16:00:00+03:00</td>\n",
       "      <td>{'id': 3, 'name': 'Синхрон'}</td>\n",
       "      <td>None</td>\n",
       "      <td>[{'id': 7533, 'name': 'Денис', 'patronymic': '...</td>\n",
       "      <td>{'dateRequestsAllowedTo': '2020-12-30T23:55:00...</td>\n",
       "      <td>{'1': 12, '2': 12, '3': 12}</td>\n",
       "    </tr>\n",
       "    <tr>\n",
       "      <th>4957</th>\n",
       "      <td>4957</td>\n",
       "      <td>Синхрон Биркиркары</td>\n",
       "      <td>2020-02-20 21:00:00+00:00</td>\n",
       "      <td>2020-02-27T23:00:00+03:00</td>\n",
       "      <td>{'id': 3, 'name': 'Синхрон'}</td>\n",
       "      <td>/seasons/53</td>\n",
       "      <td>[{'id': 2421, 'name': 'Ася', 'patronymic': 'Се...</td>\n",
       "      <td>{'dateRequestsAllowedTo': '2020-02-27T18:00:00...</td>\n",
       "      <td>{'1': 13, '2': 13, '3': 13}</td>\n",
       "    </tr>\n",
       "    <tr>\n",
       "      <th>5151</th>\n",
       "      <td>5151</td>\n",
       "      <td>Яровой</td>\n",
       "      <td>2020-08-01 11:00:00+00:00</td>\n",
       "      <td>2020-08-05T14:00:00+03:00</td>\n",
       "      <td>{'id': 3, 'name': 'Синхрон'}</td>\n",
       "      <td>/seasons/53</td>\n",
       "      <td>[{'id': 22325, 'name': 'Михаил', 'patronymic':...</td>\n",
       "      <td>{'dateRequestsAllowedTo': '2020-07-24T23:59:59...</td>\n",
       "      <td>{'1': 12, '2': 12, '3': 12}</td>\n",
       "    </tr>\n",
       "    <tr>\n",
       "      <th>5414</th>\n",
       "      <td>5414</td>\n",
       "      <td>Синхрон северных стран</td>\n",
       "      <td>2020-01-03 16:00:00+00:00</td>\n",
       "      <td>2020-01-10T19:00:00+03:00</td>\n",
       "      <td>{'id': 3, 'name': 'Синхрон'}</td>\n",
       "      <td>/seasons/53</td>\n",
       "      <td>[{'id': 28379, 'name': 'Константин', 'patronym...</td>\n",
       "      <td>{'dateRequestsAllowedTo': '2020-01-10T23:59:00...</td>\n",
       "      <td>{'1': 12, '2': 12, '3': 12}</td>\n",
       "    </tr>\n",
       "    <tr>\n",
       "      <th>5477</th>\n",
       "      <td>5477</td>\n",
       "      <td>Онлайн: Синхрон Урюбджирова</td>\n",
       "      <td>2020-04-18 16:00:00+00:00</td>\n",
       "      <td>2020-04-30T19:00:00+03:00</td>\n",
       "      <td>{'id': 8, 'name': 'Асинхрон'}</td>\n",
       "      <td>/seasons/53</td>\n",
       "      <td>[{'id': 91324, 'name': 'Эрдни', 'patronymic': ...</td>\n",
       "      <td>{'dateRequestsAllowedTo': '2020-04-30T23:55:00...</td>\n",
       "      <td>{'1': 12, '2': 12, '3': 12}</td>\n",
       "    </tr>\n",
       "  </tbody>\n",
       "</table>\n",
       "</div>"
      ],
      "text/plain": [
       "        id                         name                 dateStart  \\\n",
       "4628  4628                   Семь сорок 2020-12-30 13:00:00+00:00   \n",
       "4957  4957           Синхрон Биркиркары 2020-02-20 21:00:00+00:00   \n",
       "5151  5151                       Яровой 2020-08-01 11:00:00+00:00   \n",
       "5414  5414       Синхрон северных стран 2020-01-03 16:00:00+00:00   \n",
       "5477  5477  Онлайн: Синхрон Урюбджирова 2020-04-18 16:00:00+00:00   \n",
       "\n",
       "                        dateEnd                           type       season  \\\n",
       "4628  2020-12-30T16:00:00+03:00   {'id': 3, 'name': 'Синхрон'}         None   \n",
       "4957  2020-02-27T23:00:00+03:00   {'id': 3, 'name': 'Синхрон'}  /seasons/53   \n",
       "5151  2020-08-05T14:00:00+03:00   {'id': 3, 'name': 'Синхрон'}  /seasons/53   \n",
       "5414  2020-01-10T19:00:00+03:00   {'id': 3, 'name': 'Синхрон'}  /seasons/53   \n",
       "5477  2020-04-30T19:00:00+03:00  {'id': 8, 'name': 'Асинхрон'}  /seasons/53   \n",
       "\n",
       "                                           orgcommittee  \\\n",
       "4628  [{'id': 7533, 'name': 'Денис', 'patronymic': '...   \n",
       "4957  [{'id': 2421, 'name': 'Ася', 'patronymic': 'Се...   \n",
       "5151  [{'id': 22325, 'name': 'Михаил', 'patronymic':...   \n",
       "5414  [{'id': 28379, 'name': 'Константин', 'patronym...   \n",
       "5477  [{'id': 91324, 'name': 'Эрдни', 'patronymic': ...   \n",
       "\n",
       "                                              synchData  \\\n",
       "4628  {'dateRequestsAllowedTo': '2020-12-30T23:55:00...   \n",
       "4957  {'dateRequestsAllowedTo': '2020-02-27T18:00:00...   \n",
       "5151  {'dateRequestsAllowedTo': '2020-07-24T23:59:59...   \n",
       "5414  {'dateRequestsAllowedTo': '2020-01-10T23:59:00...   \n",
       "5477  {'dateRequestsAllowedTo': '2020-04-30T23:55:00...   \n",
       "\n",
       "                      questionQty  \n",
       "4628  {'1': 12, '2': 12, '3': 12}  \n",
       "4957  {'1': 13, '2': 13, '3': 13}  \n",
       "5151  {'1': 12, '2': 12, '3': 12}  \n",
       "5414  {'1': 12, '2': 12, '3': 12}  \n",
       "5477  {'1': 12, '2': 12, '3': 12}  "
      ]
     },
     "execution_count": 142,
     "metadata": {},
     "output_type": "execute_result"
    }
   ],
   "source": [
    "test_tourns.head()"
   ]
  },
  {
   "cell_type": "code",
   "execution_count": 143,
   "metadata": {},
   "outputs": [],
   "source": [
    "test_tourns_dict = test_tourns.to_dict(orient='index')"
   ]
  },
  {
   "cell_type": "code",
   "execution_count": 153,
   "metadata": {},
   "outputs": [],
   "source": [
    "def team_members_played_in_2019(pl_ids, set2019):\n",
    "    for i in pl_ids:\n",
    "        if i not in set2019:\n",
    "            return False\n",
    "    return True    "
   ]
  },
  {
   "cell_type": "code",
   "execution_count": 158,
   "metadata": {},
   "outputs": [],
   "source": [
    "test_tourns_inds = [] # индексы турниров, которые будем учитывать\n",
    "for i, t in test_tourns_dict.items():\n",
    "    resi = results_data[i]\n",
    "    #print(resi)\n",
    "    if resi:\n",
    "        masks = [len(team['mask']) if 'mask' in team.keys() and team['mask'] else 0 for team in resi]\n",
    "        if all(masks) and all([m == masks[0] for m in masks]):\n",
    "            #print(i)\n",
    "            #print(masks)\n",
    "            #all_mids = []\n",
    "            #for team in resi:\n",
    "            #    members = team['teamMembers']\n",
    "            #    mids = [m['player']['id'] for m in members]\n",
    "            #    all_mids.append(mids)\n",
    "            #if all(team_members_played_in_2019(mids, ids) for mids in all_mids):  \n",
    "            test_tourns_inds.append(i)"
   ]
  },
  {
   "cell_type": "code",
   "execution_count": 178,
   "metadata": {},
   "outputs": [],
   "source": [
    "def get_ts_info(tourns_inds):\n",
    "    ts = [] # tournaments: [индекс турнира, [индексы игроков], [маски]] для каждого турнира (предварительная таблица)\n",
    "    for i in tourns_inds:\n",
    "        res = results_data[i]\n",
    "        masks = []\n",
    "        total_pids = []\n",
    "        teams_id = []\n",
    "        positions = []\n",
    "        for team in res:\n",
    "            pids = [pl['player']['id'] for pl in team['teamMembers']]\n",
    "            mask = team['mask']\n",
    "            masks.append(list(mask))\n",
    "            total_pids.append(pids)\n",
    "            teams_id.append(team['team']['id'])\n",
    "            positions.append(team['position'])\n",
    "        t = [i, total_pids, masks, teams_id, positions]\n",
    "        ts.append(t)\n",
    "    return ts   "
   ]
  },
  {
   "cell_type": "code",
   "execution_count": 179,
   "metadata": {},
   "outputs": [],
   "source": [
    "test_ts = get_ts_info(test_tourns_inds)"
   ]
  },
  {
   "cell_type": "code",
   "execution_count": 182,
   "metadata": {},
   "outputs": [],
   "source": [
    "def dict_by_ts_info(ts):\n",
    "    d = dict()\n",
    "    d['tourn_id'] = [t[0] for t in ts]\n",
    "    d['players_id'] = [t[1] for t in ts]\n",
    "    d['mask'] = [t[2] for t in ts]\n",
    "    d['teams_id'] = [t[3] for t in ts]\n",
    "    d['pisitions'] = [t[4] for t in ts]\n",
    "    d = pd.DataFrame.from_dict(d)\n",
    "    return d"
   ]
  },
  {
   "cell_type": "code",
   "execution_count": 183,
   "metadata": {},
   "outputs": [],
   "source": [
    "test_d = dict_by_ts_info(test_ts)"
   ]
  },
  {
   "cell_type": "code",
   "execution_count": 202,
   "metadata": {
    "scrolled": true
   },
   "outputs": [
    {
     "data": {
      "text/html": [
       "<div>\n",
       "<style scoped>\n",
       "    .dataframe tbody tr th:only-of-type {\n",
       "        vertical-align: middle;\n",
       "    }\n",
       "\n",
       "    .dataframe tbody tr th {\n",
       "        vertical-align: top;\n",
       "    }\n",
       "\n",
       "    .dataframe thead th {\n",
       "        text-align: right;\n",
       "    }\n",
       "</style>\n",
       "<table border=\"1\" class=\"dataframe\">\n",
       "  <thead>\n",
       "    <tr style=\"text-align: right;\">\n",
       "      <th></th>\n",
       "      <th>tourn_id</th>\n",
       "      <th>players_id</th>\n",
       "      <th>mask</th>\n",
       "      <th>teams_id</th>\n",
       "      <th>pisitions</th>\n",
       "    </tr>\n",
       "  </thead>\n",
       "  <tbody>\n",
       "    <tr>\n",
       "      <th>0</th>\n",
       "      <td>4957</td>\n",
       "      <td>[[30152, 30270, 27822, 28751, 27403, 4270], [3...</td>\n",
       "      <td>[[1, 1, 1, 1, 1, 1, 0, 1, 1, 1, 1, 1, 1, 1, 0,...</td>\n",
       "      <td>[49804, 4109, 3875, 77418, 2, 45367, 4622, 417...</td>\n",
       "      <td>[1, 2, 3, 4, 5.5, 5.5, 7.5, 7.5, 9, 12, 12, 12...</td>\n",
       "    </tr>\n",
       "    <tr>\n",
       "      <th>1</th>\n",
       "      <td>5414</td>\n",
       "      <td>[[18490, 116901, 8532, 42346, 123190, 22482], ...</td>\n",
       "      <td>[[1, 1, 1, 1, 1, 1, 1, 1, 1, 1, 1, 1, 1, 1, 1,...</td>\n",
       "      <td>[66120, 312, 2, 72338, 4032, 46381, 40931, 537...</td>\n",
       "      <td>[1, 2.5, 2.5, 5, 5, 5, 8, 8, 8, 12.5, 12.5, 12...</td>\n",
       "    </tr>\n",
       "    <tr>\n",
       "      <th>2</th>\n",
       "      <td>5707</td>\n",
       "      <td>[[156788, 159570, 191802, 159566], [191086, 17...</td>\n",
       "      <td>[[1, 1, 0, 1, 1, 1, 1, 1, 1, 1, 1, 1, 1, 1, 1,...</td>\n",
       "      <td>[60848, 61350, 61380, 62395, 72363, 64196, 598...</td>\n",
       "      <td>[1, 2, 4, 4, 4, 7, 7, 7, 12.5, 12.5, 12.5, 12....</td>\n",
       "    </tr>\n",
       "    <tr>\n",
       "      <th>3</th>\n",
       "      <td>5708</td>\n",
       "      <td>[[69678], [118867, 152794, 97208, 88819, 13619...</td>\n",
       "      <td>[[1, 1, 1, 1, 1, 1, 1, 1, 1, 1, 1, 1, 1, 1, 1,...</td>\n",
       "      <td>[77745, 74736, 72191, 63470, 46627, 72200, 661...</td>\n",
       "      <td>[1.5, 1.5, 4, 4, 4, 7, 7, 7, 13, 13, 13, 13, 1...</td>\n",
       "    </tr>\n",
       "    <tr>\n",
       "      <th>4</th>\n",
       "      <td>5711</td>\n",
       "      <td>[[11466, 5056, 2033, 27380, 31400], [69720, 32...</td>\n",
       "      <td>[[1, 1, 1, 1, 0, 0, 1, 1, 1, 1, 1, 1, 0, 1, 1,...</td>\n",
       "      <td>[51796, 71461, 49225, 1733, 54676, 26936, 5197...</td>\n",
       "      <td>[1, 2.5, 2.5, 6, 6, 6, 6, 6, 12.5, 12.5, 12.5,...</td>\n",
       "    </tr>\n",
       "  </tbody>\n",
       "</table>\n",
       "</div>"
      ],
      "text/plain": [
       "   tourn_id                                         players_id  \\\n",
       "0      4957  [[30152, 30270, 27822, 28751, 27403, 4270], [3...   \n",
       "1      5414  [[18490, 116901, 8532, 42346, 123190, 22482], ...   \n",
       "2      5707  [[156788, 159570, 191802, 159566], [191086, 17...   \n",
       "3      5708  [[69678], [118867, 152794, 97208, 88819, 13619...   \n",
       "4      5711  [[11466, 5056, 2033, 27380, 31400], [69720, 32...   \n",
       "\n",
       "                                                mask  \\\n",
       "0  [[1, 1, 1, 1, 1, 1, 0, 1, 1, 1, 1, 1, 1, 1, 0,...   \n",
       "1  [[1, 1, 1, 1, 1, 1, 1, 1, 1, 1, 1, 1, 1, 1, 1,...   \n",
       "2  [[1, 1, 0, 1, 1, 1, 1, 1, 1, 1, 1, 1, 1, 1, 1,...   \n",
       "3  [[1, 1, 1, 1, 1, 1, 1, 1, 1, 1, 1, 1, 1, 1, 1,...   \n",
       "4  [[1, 1, 1, 1, 0, 0, 1, 1, 1, 1, 1, 1, 0, 1, 1,...   \n",
       "\n",
       "                                            teams_id  \\\n",
       "0  [49804, 4109, 3875, 77418, 2, 45367, 4622, 417...   \n",
       "1  [66120, 312, 2, 72338, 4032, 46381, 40931, 537...   \n",
       "2  [60848, 61350, 61380, 62395, 72363, 64196, 598...   \n",
       "3  [77745, 74736, 72191, 63470, 46627, 72200, 661...   \n",
       "4  [51796, 71461, 49225, 1733, 54676, 26936, 5197...   \n",
       "\n",
       "                                           pisitions  \n",
       "0  [1, 2, 3, 4, 5.5, 5.5, 7.5, 7.5, 9, 12, 12, 12...  \n",
       "1  [1, 2.5, 2.5, 5, 5, 5, 8, 8, 8, 12.5, 12.5, 12...  \n",
       "2  [1, 2, 4, 4, 4, 7, 7, 7, 12.5, 12.5, 12.5, 12....  \n",
       "3  [1.5, 1.5, 4, 4, 4, 7, 7, 7, 13, 13, 13, 13, 1...  \n",
       "4  [1, 2.5, 2.5, 6, 6, 6, 6, 6, 12.5, 12.5, 12.5,...  "
      ]
     },
     "execution_count": 202,
     "metadata": {},
     "output_type": "execute_result"
    }
   ],
   "source": [
    "test_d.head()"
   ]
  },
  {
   "cell_type": "markdown",
   "metadata": {},
   "source": [
    "### Посмотрим на сложность вопросов в 2019 году"
   ]
  },
  {
   "cell_type": "code",
   "execution_count": 214,
   "metadata": {},
   "outputs": [
    {
     "name": "stdout",
     "output_type": "stream",
     "text": [
      "среднее значение -5.167692314534284e-09\n"
     ]
    },
    {
     "data": {
      "image/png": "[encoded data removed]",
      "text/plain": [
       "<Figure size 432x288 with 1 Axes>"
      ]
     },
     "metadata": {
      "needs_background": "light"
     },
     "output_type": "display_data"
    }
   ],
   "source": [
    "from matplotlib import pyplot as plt \n",
    "q_compl = coefs[0][N_players:]\n",
    "print(f\"среднее значение {np.mean(q_compl)}\")\n",
    "plt.hist(q_compl)\n",
    "plt.show()"
   ]
  },
  {
   "cell_type": "markdown",
   "metadata": {},
   "source": [
    "## Предложения по ранжированию команд. \n",
    "\n",
    "\n",
    "### Поскольку в 2020 году мы не знаем сложность вопросов, будем брать ее средней, т е = 0 . Кроме того, в 2020 есть игроки, которые не принимали участие в 2019 году. для них также возьмем среднюю \"силу\" по результатам 2019 г, (возьмем свободный вес лог регресии)\n",
    "\n",
    "## 1\n",
    "\n",
    "### В качестве вероятности ответа игрока на вопрос берем сигмоиду от (сили игрока + сложность вопроса). Вероятность ответа возьмем как 1 - Вероятность(все неправильно ответили на вопрос). Далее возьмем порог, например 0.5. Если итоговая вероятность > 0.5, то считаем что ответили на вопрос правильно. \n",
    "### Далее ранжируем команды по количеству ошибок (неправильных ответов), чтобы удобно было \"запихнуть\" этот массив кол-ва неправильных ответов в корреляцию\n",
    "\n",
    "## 2\n",
    "### Поскольку мы берем сложность вопроса одинаковую для всех, то получается, что в конечном итоге рейтинг команды будет зависеть от силы ее игроков. На самом деле это так в независимости от сложности вопроса. Поэтому возьмем среднюю силу игрока в команде, и отранжируем команды по средней силе\n",
    "\n"
   ]
  },
  {
   "cell_type": "code",
   "execution_count": null,
   "metadata": {},
   "outputs": [],
   "source": [
    "strongs = coefs[0][:N_players]"
   ]
  },
  {
   "cell_type": "code",
   "execution_count": 236,
   "metadata": {},
   "outputs": [],
   "source": [
    "def return_strength(old_id, pids_set, strongs, intercept):\n",
    "    #print(old_id)\n",
    "    if old_id not in pids_set: # игрока не было (не учитывался) в 2019\n",
    "        return intercept\n",
    "    else:\n",
    "        return strongs[pids_old2new[old_id]]"
   ]
  },
  {
   "cell_type": "code",
   "execution_count": 273,
   "metadata": {},
   "outputs": [],
   "source": [
    "def return_teams_strength_for_all_tourns(test, lr, ids):\n",
    "    ts_preds = []\n",
    "    coefs = lr.coef_[0]\n",
    "    intercept = lr.intercept_[0]\n",
    "    for t in test_ts:\n",
    "        #print('ts_id', t[0])\n",
    "        teams = t[1]\n",
    "        strs = []\n",
    "        for plids in teams:\n",
    "            #strs = []\n",
    "            team_strength = 0\n",
    "            #print(plids)\n",
    "            #print(len(plids))\n",
    "            if plids:\n",
    "                for plid in plids:\n",
    "                    team_strength += return_strength(plid, ids, coefs, intercept)            \n",
    "            strs.append(team_strength/max(len(plids),1))\n",
    "        ts_preds.append(strs)\n",
    "    return ts_preds    "
   ]
  },
  {
   "cell_type": "code",
   "execution_count": 283,
   "metadata": {},
   "outputs": [],
   "source": [
    "ts_preds = return_teams_strength_for_all_tourns(test_ts, lr, ids)"
   ]
  },
  {
   "cell_type": "markdown",
   "metadata": {},
   "source": [
    "## Значения корреляций\n",
    "### для каждого турнира, вычтем из макс значения  среди вмех сил на данном турнире значения сил команд: \n",
    "### str[i] = max(str[1],...,str(n)) - str[i].  \n",
    "### Полученные значения можно давать на вход корреляции Спирмена"
   ]
  },
  {
   "cell_type": "code",
   "execution_count": 322,
   "metadata": {},
   "outputs": [],
   "source": [
    "from scipy.stats import spearmanr\n",
    "import math"
   ]
  },
  {
   "cell_type": "code",
   "execution_count": 284,
   "metadata": {},
   "outputs": [],
   "source": [
    "for i in range(len(ts_preds)):\n",
    "    ts_preds[i] = [max(ts_preds[i]) - strength for strength in ts_preds[i]]"
   ]
  },
  {
   "cell_type": "code",
   "execution_count": 326,
   "metadata": {},
   "outputs": [],
   "source": [
    "corrs = []\n",
    "true_ranges = [t[4] for t in test_ts]\n",
    "for true_range, strengths in zip(true_ranges, ts_preds):\n",
    "    corrs.append(spearmanr(true_range, strengths).correlation)\n",
    "corrs = [corr for corr in corrs if not math.isnan(corr)]    \n",
    "corrs = np.array(corrs)    "
   ]
  },
  {
   "cell_type": "code",
   "execution_count": 331,
   "metadata": {},
   "outputs": [
    {
     "data": {
      "image/png": "[encoded data removed]",
      "text/plain": [
       "<Figure size 720x360 with 1 Axes>"
      ]
     },
     "metadata": {
      "needs_background": "light"
     },
     "output_type": "display_data"
    },
    {
     "name": "stdout",
     "output_type": "stream",
     "text": [
      "cреднее значение корреляции = 0.7807061292848638\n"
     ]
    }
   ],
   "source": [
    "plt.figure(figsize=(10,5))\n",
    "plt.hist(corrs, bins=20)\n",
    "plt.title(\"Распределение значений корреляций Спирмена между реальным ранжированием и предсказаниями модели\")\n",
    "\n",
    "plt.show()\n",
    "print(f\"cреднее значение корреляции = {np.mean(corrs)}\")"
   ]
  },
  {
   "cell_type": "markdown",
   "metadata": {},
   "source": [
    "### Среднее значение корреляции Спирмена между реальным ранжированием и предсказаниями модели 0.78. Распределение значений корреляций для тестовых турниров(всего 164) приведено выше на гистограмме"
   ]
  },
  {
   "cell_type": "markdown",
   "metadata": {},
   "source": [
    "# Выводы\n",
    "\n",
    "### Итак, на данный момент обучили модель лог регрессии на данных по играм за 2019 год. Матрица, по которой обучалась лог регрессия выглядела следующим образом: первые N столбцов = количеству различных игроков, следующие M столбцов - количеству вопросов. Каждая строка означала вероятность ответа i-ым игроком на j-ый вопрос. Таким образом, в каждой строке только две \"одиницы\", остальные нули. Топ 15 игроков по результатам модели:"
   ]
  },
  {
   "cell_type": "code",
   "execution_count": 334,
   "metadata": {},
   "outputs": [
    {
     "name": "stdout",
     "output_type": "stream",
     "text": [
      "балл              ФИО\n",
      "4.157 Максим Михайлович Руссо\n",
      "4.03 Александра Владимировна Брутер\n",
      "3.985 Иван Николаевич Семушин\n",
      "3.896 Михаил Владимирович Савченков\n",
      "3.817 Сергей Леонидович Спешков\n",
      "3.816 Артём Сергеевич Сорожкин\n",
      "3.698 Станислав Григорьевич Мереминский\n",
      "3.643 Михаил Ильич Левандовский\n",
      "3.604 Ирина Сергеевна Прокофьева\n",
      "3.584 Сергей Игоревич Николенко\n",
      "3.551 Илья Сергеевич Новиков\n",
      "3.551 Антон Владимирович Саксонов\n",
      "3.549 Александр Витальевич Либер\n",
      "3.513 Игорь Викторович Мокин\n",
      "3.511 Александр Владимирович Мосягин\n"
     ]
    }
   ],
   "source": [
    "print('балл              ФИО')\n",
    "for pi, c in zip(p[:15], best_c[:15]):\n",
    "    print(np.round(c,3), pi['name'], pi['patronymic'], pi['surname'])"
   ]
  },
  {
   "cell_type": "markdown",
   "metadata": {},
   "source": [
    "### Далее, на основании сил игроков, были предсказаны результаты игр в 2020 году. Рейтинг по предсказаниям модели строился на основе средней силы игроков в команде, что кажется логичным (результат завчисит от силы игроков, а не от вопросов).Результат в виде распределения значений корреляции и среднего значения приведен выше."
   ]
  },
  {
   "cell_type": "markdown",
   "metadata": {},
   "source": [
    "### PS. Реализация ЕМ алгоритма будет прислана через несколько дней. Извиняюсь за задержку"
   ]
  }
 ],
 "metadata": {
  "kernelspec": {
   "display_name": "Python 3",
   "language": "python",
   "name": "python3"
  },
  "language_info": {
   "codemirror_mode": {
    "name": "ipython",
    "version": 3
   },
   "file_extension": ".py",
   "mimetype": "text/x-python",
   "name": "python",
   "nbconvert_exporter": "python",
   "pygments_lexer": "ipython3",
   "version": "3.8.5"
  }
 },
 "nbformat": 4,
 "nbformat_minor": 4
}
