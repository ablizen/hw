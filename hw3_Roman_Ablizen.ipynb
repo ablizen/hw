{
 "cells": [
  {
   "cell_type": "markdown",
   "metadata": {},
   "source": [
    "# Дз 3. Аблизен Роман"
   ]
  },
  {
   "cell_type": "markdown",
   "metadata": {},
   "source": [
    "## 1. Анализ на основе частотного анализа букв "
   ]
  },
  {
   "cell_type": "markdown",
   "metadata": {},
   "source": [
    "#### Загрузим и преобразуем текст, удалим все лишние символы"
   ]
  },
  {
   "cell_type": "code",
   "execution_count": 190,
   "metadata": {},
   "outputs": [],
   "source": [
    "letters = \"АБВГДЕЁЖЗИЙКЛМНОПРСТУФХЦЧШЩЪЫЬЭЮЯ\".lower()\n",
    "letters = list(letters)\n",
    "letters_set = set(letters)"
   ]
  },
  {
   "cell_type": "code",
   "execution_count": 194,
   "metadata": {},
   "outputs": [],
   "source": [
    "allows_symbols = ''.join(letters)+' '\n",
    "allows_symbols_set = set(allows_symbols)"
   ]
  },
  {
   "cell_type": "code",
   "execution_count": 197,
   "metadata": {},
   "outputs": [],
   "source": [
    "wap_text = []\n",
    "with open('corpora/WarAndPeace.txt','r') as f:\n",
    "    for line in f:\n",
    "        newline = ''\n",
    "        if line != '\\n' and len(line) > 5:\n",
    "            line = line.strip().strip(chr(8212)).strip()\n",
    "            line = line.lower()\n",
    "            #newline = ''\n",
    "        for s in line:\n",
    "            if s in allows_symbols_set:\n",
    "                newline += s\n",
    "            #line = re.sub(r'([a-z])', '', line)\n",
    "        newline = newline.replace(',','')\n",
    "        newline = ' '.join(newline.split())\n",
    "        if len(newline) > 5:    \n",
    "            wap_text.append(newline)"
   ]
  },
  {
   "cell_type": "code",
   "execution_count": 199,
   "metadata": {},
   "outputs": [
    {
     "data": {
      "text/plain": [
       "'о какое жестокое нападение отвечал нисколько не смутясь такою встречей вошедший князь в придворном шитом мундире в чулках башмаках при звездах с светлым выражением плоского лица он говорил на том изысканном французском языке на котором не только говорили но и думали наши деды и с теми тихими покровительственными интонациями которые свойственны состаревшемуся в свете и при дворе значительному человеку он подошел к анне павловне поцеловал ее руку подставив ей свою надушенную и сияющую лысину и покойно уселся на диване'"
      ]
     },
     "execution_count": 199,
     "metadata": {},
     "output_type": "execute_result"
    }
   ],
   "source": [
    "wap_text[10]"
   ]
  },
  {
   "cell_type": "markdown",
   "metadata": {},
   "source": [
    "#### Подсчитаем чатоты букв"
   ]
  },
  {
   "cell_type": "code",
   "execution_count": 200,
   "metadata": {},
   "outputs": [],
   "source": [
    "from collections import Counter\n",
    "import random"
   ]
  },
  {
   "cell_type": "code",
   "execution_count": 242,
   "metadata": {},
   "outputs": [],
   "source": [
    "# функция которая считает частоты одиночных букв и выдает отсортированный результат\n",
    "def freq_onegramm(text):\n",
    "    counts = Counter(''.join(text))\n",
    "    freqs = [[x[0], x[1]] for x in counts.most_common()]\n",
    "    return freqs"
   ]
  },
  {
   "cell_type": "code",
   "execution_count": 243,
   "metadata": {},
   "outputs": [],
   "source": [
    "freqs = freq_onegramm(''.join(wap_text))"
   ]
  },
  {
   "cell_type": "code",
   "execution_count": 245,
   "metadata": {
    "scrolled": true
   },
   "outputs": [
    {
     "data": {
      "text/plain": [
       "[[' ', 100389], ['о', 61275], ['а', 45202], ['е', 42511], ['и', 35834]]"
      ]
     },
     "execution_count": 245,
     "metadata": {},
     "output_type": "execute_result"
    }
   ],
   "source": [
    "freqs[:5]"
   ]
  },
  {
   "cell_type": "code",
   "execution_count": null,
   "metadata": {},
   "outputs": [],
   "source": []
  },
  {
   "cell_type": "code",
   "execution_count": 232,
   "metadata": {},
   "outputs": [],
   "source": [
    "# фнукция возвращает словарь для шифрования на основе ключа\n",
    "def crypt_dict(key):\n",
    "    crypted_dict = dict()\n",
    "    for i in range(len(letters)):\n",
    "        crypted_dict[letters[i]] = key[i]\n",
    "    return crypted_dict    "
   ]
  },
  {
   "cell_type": "code",
   "execution_count": 251,
   "metadata": {},
   "outputs": [],
   "source": [
    "# функция, которая шифрует текст на основе словаря для шифрования\n",
    "def crypt_text(text, crypted_dict):\n",
    "    return ''.join([crypted_dict[s] for s in text])"
   ]
  },
  {
   "cell_type": "markdown",
   "metadata": {},
   "source": [
    "Создадим словарь для шифрования на основе ключа и зашифруем текст"
   ]
  },
  {
   "cell_type": "code",
   "execution_count": 254,
   "metadata": {},
   "outputs": [],
   "source": [
    "letters.append(' ')"
   ]
  },
  {
   "cell_type": "code",
   "execution_count": 255,
   "metadata": {},
   "outputs": [],
   "source": [
    "key =  random.sample(letters, len(letters))\n",
    "crypted_dict = crypt_dict(key)"
   ]
  },
  {
   "cell_type": "code",
   "execution_count": 256,
   "metadata": {
    "scrolled": true
   },
   "outputs": [
    {
     "data": {
      "text/plain": [
       "{'а': ' ',\n",
       " 'б': 'з',\n",
       " 'в': 'е',\n",
       " 'г': 'ч',\n",
       " 'д': 'у',\n",
       " 'е': 'п',\n",
       " 'ё': 'э',\n",
       " 'ж': 'ь',\n",
       " 'з': 'к',\n",
       " 'и': 'ц',\n",
       " 'й': 'д',\n",
       " 'к': 'б',\n",
       " 'л': 'а',\n",
       " 'м': 'ы',\n",
       " 'н': 'г',\n",
       " 'о': 'ъ',\n",
       " 'п': 'ш',\n",
       " 'р': 'х',\n",
       " 'с': 'и',\n",
       " 'т': 'ю',\n",
       " 'у': 'м',\n",
       " 'ф': 'н',\n",
       " 'х': 'о',\n",
       " 'ц': 'в',\n",
       " 'ч': 'л',\n",
       " 'ш': 'ж',\n",
       " 'щ': 'р',\n",
       " 'ъ': 'я',\n",
       " 'ы': 'й',\n",
       " 'ь': 'ё',\n",
       " 'э': 'ф',\n",
       " 'ю': 'т',\n",
       " 'я': 'с',\n",
       " ' ': 'щ'}"
      ]
     },
     "execution_count": 256,
     "metadata": {},
     "output_type": "execute_result"
    }
   ],
   "source": [
    "crypted_dict"
   ]
  },
  {
   "cell_type": "markdown",
   "metadata": {},
   "source": [
    "Возьмем небольшой отрывок, и зашифруем его"
   ]
  },
  {
   "cell_type": "code",
   "execution_count": 271,
   "metadata": {},
   "outputs": [
    {
     "data": {
      "text/plain": [
       "2320"
      ]
     },
     "execution_count": 271,
     "metadata": {},
     "output_type": "execute_result"
    }
   ],
   "source": [
    "text = ''.join(wap_text[20:25])\n",
    "len(text)"
   ]
  },
  {
   "cell_type": "code",
   "execution_count": 272,
   "metadata": {},
   "outputs": [],
   "source": [
    "crypted_text = crypt_text(text, crypted_dict)"
   ]
  },
  {
   "cell_type": "code",
   "execution_count": 274,
   "metadata": {},
   "outputs": [
    {
     "name": "stdout",
     "output_type": "stream",
     "text": [
      "исодный текст:\n",
      "ах не говорите мне про австрию\n",
      "\n",
      "зашифрованный текст:\n",
      " ощгпщчъеъхцюпщыгпщшхъщ еиюхцт\n"
     ]
    }
   ],
   "source": [
    "print('исодный текст:')\n",
    "print(text[:30])\n",
    "print()\n",
    "print('зашифрованный текст:')\n",
    "print(crypted_text[:30])"
   ]
  },
  {
   "cell_type": "markdown",
   "metadata": {},
   "source": [
    "#### Частотный анализ зашированного текста"
   ]
  },
  {
   "cell_type": "code",
   "execution_count": 275,
   "metadata": {},
   "outputs": [],
   "source": [
    "new_freqs = freq_onegramm(crypted_text)"
   ]
  },
  {
   "cell_type": "code",
   "execution_count": 276,
   "metadata": {
    "scrolled": true
   },
   "outputs": [
    {
     "data": {
      "text/plain": [
       "[['щ', 380],\n",
       " ['ъ', 225],\n",
       " ['п', 161],\n",
       " [' ', 160],\n",
       " ['ц', 148],\n",
       " ['г', 144],\n",
       " ['ю', 128],\n",
       " ['х', 97],\n",
       " ['и', 90],\n",
       " ['е', 85],\n",
       " ['а', 67],\n",
       " ['ы', 57],\n",
       " ['у', 57],\n",
       " ['м', 53],\n",
       " ['ш', 52],\n",
       " ['ч', 47],\n",
       " ['б', 45],\n",
       " ['с', 43],\n",
       " ['л', 42],\n",
       " ['ё', 38],\n",
       " ['з', 37],\n",
       " ['й', 30],\n",
       " ['к', 26],\n",
       " ['т', 20],\n",
       " ['ь', 15],\n",
       " ['д', 15],\n",
       " ['ж', 14],\n",
       " ['о', 13],\n",
       " ['в', 12],\n",
       " ['ф', 7],\n",
       " ['р', 6],\n",
       " ['н', 4],\n",
       " ['э', 1],\n",
       " ['я', 1]]"
      ]
     },
     "execution_count": 276,
     "metadata": {},
     "output_type": "execute_result"
    }
   ],
   "source": [
    "new_freqs"
   ]
  },
  {
   "cell_type": "code",
   "execution_count": 284,
   "metadata": {},
   "outputs": [],
   "source": [
    "k = [k[0] for k in new_freqs]\n",
    "v = [k[0] for k in freqs]\n",
    "encrypted_dict = dict(zip(k, v))"
   ]
  },
  {
   "cell_type": "code",
   "execution_count": null,
   "metadata": {},
   "outputs": [],
   "source": [
    "predicted_text = crypt_text(crypted_text, encrypted_dict)"
   ]
  },
  {
   "cell_type": "markdown",
   "metadata": {},
   "source": [
    "### Результат предсказания на основе частотного анализа букв"
   ]
  },
  {
   "cell_type": "code",
   "execution_count": 289,
   "metadata": {},
   "outputs": [
    {
     "name": "stdout",
     "output_type": "stream",
     "text": [
      "исодный текст:\n",
      "ах не говорите мне про австрию я ничего не понимаю может быть но австрия никогда не хотела и не хоче\n",
      "\n",
      "предсказанный текст:\n",
      "ею на повосита кна усо евлтсий г ниьапо на уоникей кожат збты но евлтсиг нияопде на юотаре и на юоьа\n"
     ]
    }
   ],
   "source": [
    "print('исодный текст:')\n",
    "print(text[:100])\n",
    "print()\n",
    "print('предсказанный текст:')\n",
    "print(predicted_text[:100])\n"
   ]
  },
  {
   "cell_type": "markdown",
   "metadata": {},
   "source": [
    "### Результат не впчеталяющий"
   ]
  },
  {
   "cell_type": "markdown",
   "metadata": {},
   "source": [
    "## 2. Анализ на основе частотного анализа биграмм"
   ]
  },
  {
   "cell_type": "code",
   "execution_count": 365,
   "metadata": {},
   "outputs": [],
   "source": [
    "# функция, выдающая отсортированные частоты биграмм в тексте\n",
    "def freq_bigramm(texts):\n",
    "    freqs = dict()\n",
    "    if isinstance(texts, list):\n",
    "        for text in texts:\n",
    "            for i in range(len(text)-1):\n",
    "                bigramm = text[i:i+2]\n",
    "                if bigramm in freqs:\n",
    "                    freqs[bigramm] += 1\n",
    "                else:\n",
    "                    freqs[bigramm] = 1\n",
    "    else:\n",
    "        for i in range(len(texts)-1):\n",
    "            bigramm = texts[i:i+2]\n",
    "            if bigramm in freqs:\n",
    "                freqs[bigramm] += 1\n",
    "            else:\n",
    "                freqs[bigramm] = 1            \n",
    "    #freqs = [[k,v] for k, v in freqs.items()]\n",
    "    #freqs = sorted(freqs, key = lambda x: x[1], reverse = True) \n",
    "    \n",
    "    return freqs"
   ]
  },
  {
   "cell_type": "code",
   "execution_count": 366,
   "metadata": {},
   "outputs": [],
   "source": [
    "freqs = freq_bigramm(wap_text)"
   ]
  },
  {
   "cell_type": "code",
   "execution_count": 320,
   "metadata": {},
   "outputs": [
    {
     "data": {
      "text/plain": [
       "[['о ', 13067], ['и ', 11175], ['а ', 10190], ['е ', 9796], [' с', 9699]]"
      ]
     },
     "execution_count": 320,
     "metadata": {},
     "output_type": "execute_result"
    }
   ],
   "source": [
    "freqs[:5]"
   ]
  },
  {
   "cell_type": "markdown",
   "metadata": {},
   "source": [
    "#### Берем прошлый текст, по нему также считаем частоты биграмм"
   ]
  },
  {
   "cell_type": "code",
   "execution_count": 321,
   "metadata": {},
   "outputs": [],
   "source": [
    "new_freqs = freq_bigramm(crypted_text)"
   ]
  },
  {
   "cell_type": "code",
   "execution_count": 322,
   "metadata": {},
   "outputs": [
    {
     "data": {
      "text/plain": [
       "[['ъщ', 52], ['щг', 48], ['цщ', 43], ['юъ', 42], ['пщ', 38]]"
      ]
     },
     "execution_count": 322,
     "metadata": {},
     "output_type": "execute_result"
    }
   ],
   "source": [
    "new_freqs[:5]"
   ]
  },
  {
   "cell_type": "code",
   "execution_count": 328,
   "metadata": {},
   "outputs": [],
   "source": [
    "k = [k[0] for k in new_freqs]\n",
    "v = [k[0] for k in freqs]\n",
    "length = min(len(k), len(v))\n",
    "encrypted_dict = dict(zip(k[:length], v[:length]))"
   ]
  },
  {
   "cell_type": "code",
   "execution_count": 336,
   "metadata": {},
   "outputs": [],
   "source": [
    "predicted_text = ''\n",
    "for i in range(len(crypted_text)//2):\n",
    "    j = i * 2\n",
    "    pair = crypted_text[j:j+2]\n",
    "    encr_pair = encrypted_dict[pair]\n",
    "    predicted_text += encr_pair"
   ]
  },
  {
   "cell_type": "code",
   "execution_count": 340,
   "metadata": {},
   "outputs": [
    {
     "name": "stdout",
     "output_type": "stream",
     "text": [
      "исходный текст:\n",
      "ах не говорите мне про австрию я ничего не понимаю может быть но австрия никогда не хотела и не хоче\n",
      "\n",
      "зашифрованный текст:\n",
      " ощгпщчъеъхцюпщыгпщшхъщ еиюхцтщсщгцлпчъщгпщшъгцы тщыъьпющзйюёщгъщ еиюхцсщгцбъчу щгпщоъюпа щцщгпщоълп\n",
      "\n",
      "предсказанный текст:\n",
      "бли  сгот лаликора кнопевсс мнчеи ойтьо ра кстн лякоидпоказ я  дпевсс сьи ятонбыи  смолив  ои  смом \n"
     ]
    }
   ],
   "source": [
    "print('исходный текст:')\n",
    "print(text[:100])\n",
    "print()\n",
    "print('зашифрованный текст:')\n",
    "print(crypted_text[:100])\n",
    "print()\n",
    "print('предсказанный текст:')\n",
    "print(predicted_text[:100])"
   ]
  },
  {
   "cell_type": "markdown",
   "metadata": {},
   "source": [
    "### Видно, что результат так же оставляет желать лучшего"
   ]
  },
  {
   "cell_type": "markdown",
   "metadata": {},
   "source": [
    "## 3. Анализ на основе МСМС модели"
   ]
  },
  {
   "cell_type": "code",
   "execution_count": 344,
   "metadata": {},
   "outputs": [],
   "source": [
    "crypted_text = '←⇠⇒↟↹↷⇊↹↷↟↤↟↨←↹↝⇛⇯↳⇴⇒⇈↝⇊↾↹↟⇒↟↹⇷⇛⇞↨↟↹↝⇛⇯↳⇴⇒⇈↝⇊↾↹↨←⇌⇠↨↹⇙↹⇸↨⇛↙⇛↹⇠⇛⇛↲⇆←↝↟↞↹⇌⇛↨⇛⇯⇊↾↹⇒←↙⇌⇛↹⇷⇯⇛⇞↟↨⇴↨⇈↹⇠⇌⇛⇯←←↹↷⇠←↙⇛↹↷⇊↹↷⇠←↹⇠↤←⇒⇴⇒↟↹⇷⇯⇴↷↟⇒⇈↝⇛↹↟↹⇷⇛⇒⇙⇞↟↨←↹↳⇴⇌⇠↟↳⇴⇒⇈↝⇊↾↹↲⇴⇒⇒↹⇰⇴↹⇷⇛⇠⇒←↤↝←←↹⇞←↨↷←⇯↨⇛←↹⇰⇴↤⇴↝↟←↹⇌⇙⇯⇠⇴↹↘⇛↨↞↹⇌⇛↝←⇞↝⇛↹↞↹↝↟⇞←↙⇛↹↝←↹⇛↲←⇆⇴⇏'"
   ]
  },
  {
   "cell_type": "code",
   "execution_count": 352,
   "metadata": {},
   "outputs": [],
   "source": [
    "counts = Counter(crypted_text)"
   ]
  },
  {
   "cell_type": "code",
   "execution_count": 358,
   "metadata": {},
   "outputs": [
    {
     "data": {
      "text/plain": [
       "28"
      ]
     },
     "execution_count": 358,
     "metadata": {},
     "output_type": "execute_result"
    }
   ],
   "source": [
    "syms = list(counts.keys())\n",
    "len(syms)"
   ]
  },
  {
   "cell_type": "code",
   "execution_count": 349,
   "metadata": {},
   "outputs": [
    {
     "data": {
      "text/plain": [
       "34"
      ]
     },
     "execution_count": 349,
     "metadata": {},
     "output_type": "execute_result"
    }
   ],
   "source": [
    "len(letters)"
   ]
  },
  {
   "cell_type": "markdown",
   "metadata": {},
   "source": [
    "### Возьмем произвольный словарь, дешифрующий наш текст"
   ]
  },
  {
   "cell_type": "code",
   "execution_count": 382,
   "metadata": {},
   "outputs": [],
   "source": [
    "decrypted_dict = dict(zip(syms, letters[:len(syms)]))"
   ]
  },
  {
   "cell_type": "markdown",
   "metadata": {},
   "source": [
    "### Реализуем МСМС модель. Исполоьзуем алгоритм Метрополиса-Гастингса. Для оценки качества ключа будем делать следующее: \n",
    "1. Расшифровываем текст с помощью данного ключа \n",
    "2. На расшифрованном тексте считаем как правдоподибие по всем биграммам , то есть итоговый скор выглядит как\n",
    "    произведение $$П(Reference(s_i, s_j) ^ {Pretender(s_i, s_j)})\\text{ ,где} Pretender(s_i, s_j) - \\text{частота биграммы }  s_i s_j \\text{ на расшифрованном тексте, а }Reference(s_i, s_j) - \\text{\"истинная\" частота биграммы }s_i s_j, \\text{посчитанная по книге \"Война и мир\"}$$\n",
    "    \n",
    "Поскольку мы будем делить скоры следующего прентендента(по ключу) на скор предыдушего, то можно оставить частоты, а не искать вероятности. Так же будем, конечно, это логарифмировать.\n",
    "\n",
    "Далее, выбираем случайно следующего претендента(новый ключ, например переставляем в старом ключе 2 символа), получаем скор для него. Итого имеем скор на текущем ключе и на претенденте. Далее используем алгоритм Метрополиса-Гастингса, и таким образом, итеративно, находим истинный ключ"
   ]
  },
  {
   "cell_type": "code",
   "execution_count": 571,
   "metadata": {},
   "outputs": [],
   "source": [
    "import copy"
   ]
  },
  {
   "cell_type": "code",
   "execution_count": 550,
   "metadata": {},
   "outputs": [],
   "source": [
    "# функция, считающая скор для данного ключа(словаря на нем)\n",
    "def get_score_for_decrypted_dict(decrypted_dict, freqs, crypted_text):\n",
    "    decrypted_text = crypt_text(crypted_text, decrypted_dict)\n",
    "    pred_freqs = freq_bigramm(decrypted_text)\n",
    "    total_score = 0\n",
    "    for pair in pred_freqs.keys():\n",
    "        if pair in freqs:\n",
    "            total_score += pred_freqs[pair] * np.log(freqs[pair])\n",
    "    return total_score    "
   ]
  },
  {
   "cell_type": "code",
   "execution_count": 586,
   "metadata": {},
   "outputs": [],
   "source": [
    "# функция, выдающая новый ключ(претендент) на основе старого ключа. заменяем 1 букву\n",
    "def gen_next_decrypted_dict(copied_decrypted_dict):\n",
    "    decrypted_dict = copy.copy(copied_decrypted_dict)\n",
    "    i = np.random.randint(0, len(letters))\n",
    "    l_new = letters[i]\n",
    "    current_letters = list(decrypted_dict.values()) # не все буквы используются в текущем словаре\n",
    "    j = np.random.randint(0, len(current_letters))\n",
    "    l_old = current_letters[j]\n",
    "    if l_new in set(current_letters):\n",
    "        if l_new != l_old:\n",
    "            for k, v in decrypted_dict.items():\n",
    "                if v == l_old:\n",
    "                    k_old = k\n",
    "                    break\n",
    "            for k, v in decrypted_dict.items():\n",
    "                if v == l_new:\n",
    "                    k_new = k\n",
    "                    break  \n",
    "            decrypted_dict[k_old] = l_new\n",
    "            decrypted_dict[k_new] = l_old\n",
    "        else:    \n",
    "            return gen_next_decrypted_dict(decrypted_dict)\n",
    "    else:\n",
    "        for k, v in decrypted_dict.items():\n",
    "            if v == l_old:\n",
    "                decrypted_dict[k] = l_new\n",
    "                break\n",
    "    return decrypted_dict            "
   ]
  },
  {
   "cell_type": "code",
   "execution_count": 622,
   "metadata": {},
   "outputs": [],
   "source": [
    "def choose_next_decrypted_dict(old_dict, new_dict):\n",
    "    old_score = get_score_for_decrypted_dict(old_dict, freqs, crypted_text)\n",
    "    new_score = get_score_for_decrypted_dict(new_dict, freqs, crypted_text)\n",
    "    thr = np.exp(new_score - old_score)\n",
    "    #print(f'old score: {old_score}, new score: {new_score}')\n",
    "    #print(f'thr: {thr}')\n",
    "    p = random.uniform(0,1)\n",
    "    if p < thr:\n",
    "        return new_dict\n",
    "    else:\n",
    "        return old_dict    "
   ]
  },
  {
   "cell_type": "code",
   "execution_count": 588,
   "metadata": {},
   "outputs": [],
   "source": [
    "#letters\n",
    "#crypted_text\n",
    "#freqs\n",
    "#syms\n",
    "#decrypted_dict\n",
    "freqs = freq_bigramm(wap_text)\n",
    "decrypted_dict = dict(zip(syms, letters[:len(syms)]))"
   ]
  },
  {
   "cell_type": "code",
   "execution_count": 589,
   "metadata": {
    "scrolled": true
   },
   "outputs": [
    {
     "name": "stdout",
     "output_type": "stream",
     "text": [
      "iteraion 0\n",
      "абвгдеёдегжгзадийклмвниёодгвгдпйрзгдийклмвниёодзасбздтдузйфйдбййхцаигчдсйзйкёодвафсйдпкйргзмзндбсйка\n",
      "iteraion 10000\n",
      "ерти пы пимиле новзатьный ити содли новзатьный лекрл у элого рообщения коловый тегко сводилаль ркове\n",
      "iteraion 20000\n",
      "ерли пы пимите новзальный или содти новзальный текрт у этого роочшения котовый легко сводитать ркове\n",
      "iteraion 30000\n",
      "ерли пы пижите носмальный или водти носмальный текрт у этого рообчения котосый легко всодитать ркосе\n",
      "iteraion 40000\n",
      "ерли пы пидите носчальный или вомти носчальный текрт у этого рообщения котосый легко всомитать ркосе\n",
      "iteraion 50000\n",
      "ерли пы пижите носкальный или вомти носкальный тедрт у этого роочшения дотосый легдо всомитать рдосе\n",
      "iteraion 60000\n",
      "ерли бы бижите носкальный или водти носкальный тепрт у этомо роочшения потосый лемпо всодитать рпосе\n",
      "iteraion 70000\n",
      "ерли пы пижите носкальный или вочти носкальный тедрт у этого рообмения дотосый легдо всочитать рдосе\n",
      "iteraion 80000\n",
      "ерли бы бимите носкальный или водти носкальный тепрт у этого роочшения потосый легпо всодитать рпосе\n",
      "iteraion 90000\n",
      "ерли бы бимите носкальный или водти носкальный тепрт у этого роочшения потосый легпо всодитать рпосе\n",
      "iteraion 100000\n",
      "ерли бы бимите носкальный или водти носкальный тепрт у штого роочжения потосый легпо всодитать рпосе\n",
      "iteraion 110000\n",
      "ерли бы бимите носкальный или водти носкальный тепрт у этого роожчения потосый легпо всодитать рпосе\n",
      "iteraion 120000\n",
      "ерли бы бичите носкальный или вомти носкальный тепрт у этого роодшения потосый легпо всомитать рпосе\n",
      "iteraion 130000\n",
      "ерли бы бижите носкальный или водти носкальный тегрт у этомо роочшения готосый лемго всодитать ргосе\n",
      "iteraion 140000\n",
      "ерли пы пижите носкальный или водти носкальный тегрт у этомо роочшения готосый лемго всодитать ргосе\n",
      "iteraion 150000\n",
      "ерли бы бимите носкальный или водти носкальный тепрт у этого роожчения потосый легпо всодитать рпосе\n",
      "iteraion 160000\n",
      "евли ды дишите носкальный или помти носкальный тервт у этого вообщения ротосый легро псомитать вросе\n",
      "iteraion 170000\n",
      "если вы вимите норзальный или подти норзальный текст у этого соожбения который легко продитать скоре\n",
      "iteraion 180000\n",
      "если вы вимите норжальный или подти норжальный текст у этого соочшения который легко продитать скоре\n",
      "iteraion 190000\n",
      "если вы вимите норжальный или подти норжальный текст у этого сообщения который легко продитать скоре\n",
      "iteraion 200000\n",
      "если вы вимите норжальный или подти норжальный текст у этого сообчения который легко продитать скоре\n",
      "iteraion 210000\n",
      "если вы вимите норжальный или подти норжальный текст у этого соочшения который легко продитать скоре\n",
      "iteraion 220000\n",
      "если вы вимите норкальный или почти норкальный тедст у штого сообщения доторый легдо прочитать сдоре\n",
      "iteraion 230000\n",
      "если вы вимите нордальный или почти нордальный текст у этого сообщения который легко прочитать скоре\n",
      "iteraion 240000\n",
      "если вы вимите норзальный или подти норзальный текст у этого сообжения который легко продитать скоре\n",
      "iteraion 250000\n",
      "если вы вимите норзальный или подти норзальный текст у этого сообщения который легко продитать скоре\n",
      "iteraion 260000\n",
      "если вы вимите норчальный или подти норчальный текст у этого соозжения который легко продитать скоре\n",
      "iteraion 270000\n",
      "если вы вимите норжальный или подти норжальный текст у чтого сообцения который легко продитать скоре\n",
      "iteraion 280000\n",
      "если вы вимите норзальный или подти норзальный текст у этого сообщения который легко продитать скоре\n",
      "iteraion 290000\n",
      "если вы вимите норзальный или подти норзальный текст у этого соожбения который легко продитать скоре\n"
     ]
    }
   ],
   "source": [
    "for i in range(300000):\n",
    "    new_decrypted_dict = gen_next_decrypted_dict(decrypted_dict)\n",
    "    decrypted_dict = choose_next_decrypted_dict(decrypted_dict, new_decrypted_dict)\n",
    "    if i%10000== 0:\n",
    "        decrypted_text = crypt_text(crypted_text, decrypted_dict)\n",
    "        print(f'iteraion {i}')\n",
    "        print(decrypted_text[:100])"
   ]
  },
  {
   "cell_type": "markdown",
   "metadata": {},
   "source": [
    "### Видно, что получился текст, который легко читается, пусть и с несколькими ошибками. Начиная примерно с 200000 итерации он меняется слабо, или меняется между близкими состояниями. Ради интереса посчитаем дальше еще столько же итераций, хотя в этом, конечно, уже мало смысла, поскольку скоры получаются примерно одинаковые, и все определяется значением случайной величины на отрезке [0,1]"
   ]
  },
  {
   "cell_type": "code",
   "execution_count": 616,
   "metadata": {
    "scrolled": true
   },
   "outputs": [
    {
     "name": "stdout",
     "output_type": "stream",
     "text": [
      "iteraion 0\n",
      "если вы вимите норкальный или почти норкальный тедст у этого сообщения доторый легдо прочитать сдоре\n",
      "iteraion 10000\n",
      "если вы вимите норзальный или подти норзальный текст у этого сообщения который легко продитать скоре\n",
      "iteraion 20000\n",
      "если вы вимите норжальный или подти норжальный текст у чтого сообщения который легко продитать скоре\n",
      "iteraion 30000\n",
      "если вы вимите норчальный или подти норчальный текст у этого сообщения который легко продитать скоре\n",
      "iteraion 40000\n",
      "если вы вимите норжальный или подти норжальный текст у этого сообчения который легко продитать скоре\n",
      "iteraion 50000\n",
      "если вы вимите норчальный или подти норчальный текст у этого сообжения который легко продитать скоре\n",
      "iteraion 60000\n",
      "если вы вимите норзальный или подти норзальный текст у этого сообщения который легко продитать скоре\n",
      "iteraion 70000\n",
      "если вы вимите норжальный или подти норжальный текст у этого соочшения который легко продитать скоре\n",
      "iteraion 80000\n",
      "если вы вимите норзальный или подти норзальный текст у чтого сообшения который легко продитать скоре\n",
      "iteraion 90000\n",
      "если вы вимите норзальный или подти норзальный текст у этого сообщения который легко продитать скоре\n",
      "iteraion 100000\n",
      "если вы вимите норчальный или подти норчальный текст у этого сообшения который легко продитать скоре\n",
      "iteraion 110000\n",
      "если вы вимите норжальный или подти норжальный текст у чтого сообщения который легко продитать скоре\n",
      "iteraion 120000\n",
      "если вы вимите норжальный или подти норжальный текст у этого сообщения который легко продитать скоре\n",
      "iteraion 130000\n",
      "если вы вимите норжальный или подти норжальный текст у чтого сообщения который легко продитать скоре\n",
      "iteraion 140000\n",
      "если вы вимите норкальный или почти норкальный тедст у этого соозжения доторый легдо прочитать сдоре\n",
      "iteraion 150000\n",
      "если вы вимите норжальный или подти норжальный текст у чтого сообщения который легко продитать скоре\n",
      "iteraion 160000\n",
      "если вы вимите нордальный или почти нордальный текст у этого сообжения который легко прочитать скоре\n",
      "iteraion 170000\n",
      "если вы вимите норжальный или подти норжальный текст у этого соочшения который легко продитать скоре\n",
      "iteraion 180000\n",
      "если вы вимите норжальный или подти норжальный текст у этого сообчения который легко продитать скоре\n",
      "iteraion 190000\n",
      "если вы вимите норжальный или подти норжальный текст у этого сообчения который легко продитать скоре\n",
      "iteraion 200000\n",
      "если вы вимите нордальный или почти нордальный текст у этого сообшения который легко прочитать скоре\n",
      "iteraion 210000\n",
      "если вы вимите норжальный или подти норжальный текст у этого соочшения который легко продитать скоре\n",
      "iteraion 220000\n",
      "если вы вимите норжальный или почти норжальный текст у этого соодшения который легко прочитать скоре\n",
      "iteraion 230000\n",
      "если вы вимите норжальный или подти норжальный текст у этого сообщения который легко продитать скоре\n",
      "iteraion 240000\n",
      "если вы вимите норзальный или подти норзальный текст у этого сообщения который легко продитать скоре\n",
      "iteraion 250000\n",
      "если вы вимите норкальный или почти норкальный тедст у этого сообщения доторый легдо прочитать сдоре\n",
      "iteraion 260000\n",
      "если вы вимите норшальный или подти норшальный текст у чтого сообщения который легко продитать скоре\n",
      "iteraion 270000\n",
      "если вы вимите норжальный или подти норжальный текст у чтого сообщения который легко продитать скоре\n",
      "iteraion 280000\n",
      "если вы вимите норчальный или подти норчальный текст у этого соожбения который легко продитать скоре\n",
      "iteraion 290000\n",
      "если вы вимите норзальный или подти норзальный текст у этого соочжения который легко продитать скоре\n"
     ]
    }
   ],
   "source": [
    "for i in range(300000):\n",
    "    new_decrypted_dict = gen_next_decrypted_dict(decrypted_dict)\n",
    "    decrypted_dict = choose_next_decrypted_dict(decrypted_dict, new_decrypted_dict)\n",
    "    if i%10000== 0:\n",
    "        decrypted_text = crypt_text(crypted_text, decrypted_dict)\n",
    "        print(f'iteraion {i}')\n",
    "        print(decrypted_text[:100])"
   ]
  },
  {
   "cell_type": "code",
   "execution_count": 618,
   "metadata": {},
   "outputs": [
    {
     "data": {
      "text/plain": [
       "'если вы вимите норзальный или подти норзальный текст у этого соочжения который легко продитать скорее всего вы все смелали правильно и полудите заксизальный чалл ба послемнее детвертое бамание курса хотя конедно я нидего не очежаю'"
      ]
     },
     "execution_count": 618,
     "metadata": {},
     "output_type": "execute_result"
    }
   ],
   "source": [
    "decrypted_text"
   ]
  },
  {
   "cell_type": "markdown",
   "metadata": {},
   "source": [
    "### Не самый \"точный\" из всех вариантов, которые видны выше, но читается легко"
   ]
  },
  {
   "cell_type": "code",
   "execution_count": null,
   "metadata": {},
   "outputs": [],
   "source": []
  }
 ],
 "metadata": {
  "kernelspec": {
   "display_name": "Python 3",
   "language": "python",
   "name": "python3"
  },
  "language_info": {
   "codemirror_mode": {
    "name": "ipython",
    "version": 3
   },
   "file_extension": ".py",
   "mimetype": "text/x-python",
   "name": "python",
   "nbconvert_exporter": "python",
   "pygments_lexer": "ipython3",
   "version": "3.8.5"
  }
 },
 "nbformat": 4,
 "nbformat_minor": 4
}
