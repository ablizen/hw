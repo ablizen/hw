{
 "cells": [
  {
   "cell_type": "markdown",
   "metadata": {},
   "source": [
    "## Роман Аблизен .\n",
    "## ДЗ 2 (основные результаты приведены в середине и в конце ноутбука)"
   ]
  },
  {
   "cell_type": "code",
   "execution_count": 1,
   "metadata": {},
   "outputs": [],
   "source": [
    "import pickle\n",
    "import pandas as pd\n",
    "import numpy as np\n",
    "import datetime as dt\n",
    "import copy\n",
    "from scipy.sparse import csr_matrix\n",
    "from sklearn.linear_model import LogisticRegression\n",
    "import time"
   ]
  },
  {
   "cell_type": "code",
   "execution_count": 2,
   "metadata": {},
   "outputs": [],
   "source": [
    "def pickle_load(fname):\n",
    "    with open(fname, 'rb') as f:\n",
    "        data = pickle.load(f)\n",
    "    return data"
   ]
  },
  {
   "cell_type": "code",
   "execution_count": 3,
   "metadata": {},
   "outputs": [],
   "source": [
    "players_data = pickle_load('chgk/players.pkl')"
   ]
  },
  {
   "cell_type": "code",
   "execution_count": 4,
   "metadata": {},
   "outputs": [],
   "source": [
    "tourns_data = pickle_load('chgk/tournaments.pkl')"
   ]
  },
  {
   "cell_type": "code",
   "execution_count": 5,
   "metadata": {},
   "outputs": [],
   "source": [
    "results_data = pickle_load('chgk/results.pkl')"
   ]
  },
  {
   "cell_type": "markdown",
   "metadata": {},
   "source": [
    "### Игроки"
   ]
  },
  {
   "cell_type": "code",
   "execution_count": 6,
   "metadata": {},
   "outputs": [],
   "source": [
    "players = pd.DataFrame.from_dict(players_data, orient='index')"
   ]
  },
  {
   "cell_type": "code",
   "execution_count": 7,
   "metadata": {},
   "outputs": [
    {
     "data": {
      "text/html": [
       "<div>\n",
       "<style scoped>\n",
       "    .dataframe tbody tr th:only-of-type {\n",
       "        vertical-align: middle;\n",
       "    }\n",
       "\n",
       "    .dataframe tbody tr th {\n",
       "        vertical-align: top;\n",
       "    }\n",
       "\n",
       "    .dataframe thead th {\n",
       "        text-align: right;\n",
       "    }\n",
       "</style>\n",
       "<table border=\"1\" class=\"dataframe\">\n",
       "  <thead>\n",
       "    <tr style=\"text-align: right;\">\n",
       "      <th></th>\n",
       "      <th>id</th>\n",
       "      <th>name</th>\n",
       "      <th>patronymic</th>\n",
       "      <th>surname</th>\n",
       "    </tr>\n",
       "  </thead>\n",
       "  <tbody>\n",
       "    <tr>\n",
       "      <th>1</th>\n",
       "      <td>1</td>\n",
       "      <td>Алексей</td>\n",
       "      <td>None</td>\n",
       "      <td>Абабилов</td>\n",
       "    </tr>\n",
       "    <tr>\n",
       "      <th>10</th>\n",
       "      <td>10</td>\n",
       "      <td>Игорь</td>\n",
       "      <td></td>\n",
       "      <td>Абалов</td>\n",
       "    </tr>\n",
       "    <tr>\n",
       "      <th>11</th>\n",
       "      <td>11</td>\n",
       "      <td>Наталья</td>\n",
       "      <td>Юрьевна</td>\n",
       "      <td>Абалымова</td>\n",
       "    </tr>\n",
       "    <tr>\n",
       "      <th>12</th>\n",
       "      <td>12</td>\n",
       "      <td>Артур</td>\n",
       "      <td>Евгеньевич</td>\n",
       "      <td>Абальян</td>\n",
       "    </tr>\n",
       "    <tr>\n",
       "      <th>13</th>\n",
       "      <td>13</td>\n",
       "      <td>Эрик</td>\n",
       "      <td>Евгеньевич</td>\n",
       "      <td>Абальян</td>\n",
       "    </tr>\n",
       "  </tbody>\n",
       "</table>\n",
       "</div>"
      ],
      "text/plain": [
       "    id     name  patronymic    surname\n",
       "1    1  Алексей        None   Абабилов\n",
       "10  10    Игорь                 Абалов\n",
       "11  11  Наталья     Юрьевна  Абалымова\n",
       "12  12    Артур  Евгеньевич    Абальян\n",
       "13  13     Эрик  Евгеньевич    Абальян"
      ]
     },
     "execution_count": 7,
     "metadata": {},
     "output_type": "execute_result"
    }
   ],
   "source": [
    "players.head()"
   ]
  },
  {
   "cell_type": "markdown",
   "metadata": {},
   "source": [
    "### Турниры"
   ]
  },
  {
   "cell_type": "code",
   "execution_count": 8,
   "metadata": {},
   "outputs": [],
   "source": [
    "tourns = pd.DataFrame.from_dict(tourns_data, orient='index')"
   ]
  },
  {
   "cell_type": "code",
   "execution_count": 9,
   "metadata": {},
   "outputs": [],
   "source": [
    "tourns[\"dateStart\"] = pd.to_datetime(tourns.dateStart, utc=True, errors = 'raise')"
   ]
  },
  {
   "cell_type": "code",
   "execution_count": 10,
   "metadata": {},
   "outputs": [],
   "source": [
    "train_tourns = tourns[tourns['dateStart'].dt.year == 2019]"
   ]
  },
  {
   "cell_type": "code",
   "execution_count": 11,
   "metadata": {},
   "outputs": [],
   "source": [
    "test_tourns = tourns[tourns['dateStart'].dt.year == 2020]"
   ]
  },
  {
   "cell_type": "code",
   "execution_count": 12,
   "metadata": {},
   "outputs": [
    {
     "data": {
      "text/html": [
       "<div>\n",
       "<style scoped>\n",
       "    .dataframe tbody tr th:only-of-type {\n",
       "        vertical-align: middle;\n",
       "    }\n",
       "\n",
       "    .dataframe tbody tr th {\n",
       "        vertical-align: top;\n",
       "    }\n",
       "\n",
       "    .dataframe thead th {\n",
       "        text-align: right;\n",
       "    }\n",
       "</style>\n",
       "<table border=\"1\" class=\"dataframe\">\n",
       "  <thead>\n",
       "    <tr style=\"text-align: right;\">\n",
       "      <th></th>\n",
       "      <th>id</th>\n",
       "      <th>name</th>\n",
       "      <th>dateStart</th>\n",
       "      <th>dateEnd</th>\n",
       "      <th>type</th>\n",
       "      <th>season</th>\n",
       "      <th>orgcommittee</th>\n",
       "      <th>synchData</th>\n",
       "      <th>questionQty</th>\n",
       "    </tr>\n",
       "  </thead>\n",
       "  <tbody>\n",
       "    <tr>\n",
       "      <th>4772</th>\n",
       "      <td>4772</td>\n",
       "      <td>Синхрон северных стран. Зимний выпуск</td>\n",
       "      <td>2019-01-05 16:00:00+00:00</td>\n",
       "      <td>2019-01-09T19:00:00+03:00</td>\n",
       "      <td>{'id': 3, 'name': 'Синхрон'}</td>\n",
       "      <td>/seasons/52</td>\n",
       "      <td>[{'id': 28379, 'name': 'Константин', 'patronym...</td>\n",
       "      <td>{'dateRequestsAllowedTo': '2019-01-09T23:59:59...</td>\n",
       "      <td>{'1': 12, '2': 12, '3': 12}</td>\n",
       "    </tr>\n",
       "    <tr>\n",
       "      <th>4973</th>\n",
       "      <td>4973</td>\n",
       "      <td>Балтийский Берег. 3 игра</td>\n",
       "      <td>2019-01-25 16:05:00+00:00</td>\n",
       "      <td>2019-01-29T19:00:00+03:00</td>\n",
       "      <td>{'id': 3, 'name': 'Синхрон'}</td>\n",
       "      <td>/seasons/52</td>\n",
       "      <td>[{'id': 23030, 'name': 'Марина', 'patronymic':...</td>\n",
       "      <td>{'dateRequestsAllowedTo': '2019-01-28T23:59:59...</td>\n",
       "      <td>{'1': 12, '2': 12, '3': 12}</td>\n",
       "    </tr>\n",
       "    <tr>\n",
       "      <th>4974</th>\n",
       "      <td>4974</td>\n",
       "      <td>Балтийский Берег. 4 игра</td>\n",
       "      <td>2019-03-01 16:05:00+00:00</td>\n",
       "      <td>2019-03-05T19:00:00+03:00</td>\n",
       "      <td>{'id': 3, 'name': 'Синхрон'}</td>\n",
       "      <td>/seasons/52</td>\n",
       "      <td>[{'id': 23030, 'name': 'Марина', 'patronymic':...</td>\n",
       "      <td>{'dateRequestsAllowedTo': '2019-03-04T23:59:59...</td>\n",
       "      <td>{'1': 12, '2': 12, '3': 12}</td>\n",
       "    </tr>\n",
       "    <tr>\n",
       "      <th>4975</th>\n",
       "      <td>4975</td>\n",
       "      <td>Балтийский Берег. 5 игра</td>\n",
       "      <td>2019-04-05 16:05:00+00:00</td>\n",
       "      <td>2019-04-09T19:00:00+03:00</td>\n",
       "      <td>{'id': 3, 'name': 'Синхрон'}</td>\n",
       "      <td>/seasons/52</td>\n",
       "      <td>[{'id': 23030, 'name': 'Марина', 'patronymic':...</td>\n",
       "      <td>{'dateRequestsAllowedTo': '2019-04-08T23:59:59...</td>\n",
       "      <td>{'1': 12, '2': 12, '3': 12}</td>\n",
       "    </tr>\n",
       "    <tr>\n",
       "      <th>4986</th>\n",
       "      <td>4986</td>\n",
       "      <td>ОВСЧ. 6 этап</td>\n",
       "      <td>2019-02-15 17:00:00+00:00</td>\n",
       "      <td>2019-02-19T20:00:00+03:00</td>\n",
       "      <td>{'id': 3, 'name': 'Синхрон'}</td>\n",
       "      <td>/seasons/52</td>\n",
       "      <td>[{'id': 59140, 'name': 'Борис', 'patronymic': ...</td>\n",
       "      <td>{'dateRequestsAllowedTo': '2019-02-19T23:59:59...</td>\n",
       "      <td>{'1': 12, '2': 12, '3': 12}</td>\n",
       "    </tr>\n",
       "  </tbody>\n",
       "</table>\n",
       "</div>"
      ],
      "text/plain": [
       "        id                                   name                 dateStart  \\\n",
       "4772  4772  Синхрон северных стран. Зимний выпуск 2019-01-05 16:00:00+00:00   \n",
       "4973  4973               Балтийский Берег. 3 игра 2019-01-25 16:05:00+00:00   \n",
       "4974  4974               Балтийский Берег. 4 игра 2019-03-01 16:05:00+00:00   \n",
       "4975  4975               Балтийский Берег. 5 игра 2019-04-05 16:05:00+00:00   \n",
       "4986  4986                           ОВСЧ. 6 этап 2019-02-15 17:00:00+00:00   \n",
       "\n",
       "                        dateEnd                          type       season  \\\n",
       "4772  2019-01-09T19:00:00+03:00  {'id': 3, 'name': 'Синхрон'}  /seasons/52   \n",
       "4973  2019-01-29T19:00:00+03:00  {'id': 3, 'name': 'Синхрон'}  /seasons/52   \n",
       "4974  2019-03-05T19:00:00+03:00  {'id': 3, 'name': 'Синхрон'}  /seasons/52   \n",
       "4975  2019-04-09T19:00:00+03:00  {'id': 3, 'name': 'Синхрон'}  /seasons/52   \n",
       "4986  2019-02-19T20:00:00+03:00  {'id': 3, 'name': 'Синхрон'}  /seasons/52   \n",
       "\n",
       "                                           orgcommittee  \\\n",
       "4772  [{'id': 28379, 'name': 'Константин', 'patronym...   \n",
       "4973  [{'id': 23030, 'name': 'Марина', 'patronymic':...   \n",
       "4974  [{'id': 23030, 'name': 'Марина', 'patronymic':...   \n",
       "4975  [{'id': 23030, 'name': 'Марина', 'patronymic':...   \n",
       "4986  [{'id': 59140, 'name': 'Борис', 'patronymic': ...   \n",
       "\n",
       "                                              synchData  \\\n",
       "4772  {'dateRequestsAllowedTo': '2019-01-09T23:59:59...   \n",
       "4973  {'dateRequestsAllowedTo': '2019-01-28T23:59:59...   \n",
       "4974  {'dateRequestsAllowedTo': '2019-03-04T23:59:59...   \n",
       "4975  {'dateRequestsAllowedTo': '2019-04-08T23:59:59...   \n",
       "4986  {'dateRequestsAllowedTo': '2019-02-19T23:59:59...   \n",
       "\n",
       "                      questionQty  \n",
       "4772  {'1': 12, '2': 12, '3': 12}  \n",
       "4973  {'1': 12, '2': 12, '3': 12}  \n",
       "4974  {'1': 12, '2': 12, '3': 12}  \n",
       "4975  {'1': 12, '2': 12, '3': 12}  \n",
       "4986  {'1': 12, '2': 12, '3': 12}  "
      ]
     },
     "execution_count": 12,
     "metadata": {},
     "output_type": "execute_result"
    }
   ],
   "source": [
    "train_tourns.head()"
   ]
  },
  {
   "cell_type": "markdown",
   "metadata": {},
   "source": [
    "### Результаты"
   ]
  },
  {
   "cell_type": "code",
   "execution_count": 13,
   "metadata": {},
   "outputs": [],
   "source": [
    "results = pd.DataFrame.from_dict(results_data, orient='index')\n"
   ]
  },
  {
   "cell_type": "code",
   "execution_count": 14,
   "metadata": {},
   "outputs": [
    {
     "data": {
      "text/html": [
       "<div>\n",
       "<style scoped>\n",
       "    .dataframe tbody tr th:only-of-type {\n",
       "        vertical-align: middle;\n",
       "    }\n",
       "\n",
       "    .dataframe tbody tr th {\n",
       "        vertical-align: top;\n",
       "    }\n",
       "\n",
       "    .dataframe thead th {\n",
       "        text-align: right;\n",
       "    }\n",
       "</style>\n",
       "<table border=\"1\" class=\"dataframe\">\n",
       "  <thead>\n",
       "    <tr style=\"text-align: right;\">\n",
       "      <th></th>\n",
       "      <th>0</th>\n",
       "      <th>1</th>\n",
       "      <th>2</th>\n",
       "      <th>3</th>\n",
       "      <th>4</th>\n",
       "      <th>5</th>\n",
       "      <th>6</th>\n",
       "      <th>7</th>\n",
       "      <th>8</th>\n",
       "      <th>9</th>\n",
       "      <th>...</th>\n",
       "      <th>2054</th>\n",
       "      <th>2055</th>\n",
       "      <th>2056</th>\n",
       "      <th>2057</th>\n",
       "      <th>2058</th>\n",
       "      <th>2059</th>\n",
       "      <th>2060</th>\n",
       "      <th>2061</th>\n",
       "      <th>2062</th>\n",
       "      <th>2063</th>\n",
       "    </tr>\n",
       "  </thead>\n",
       "  <tbody>\n",
       "    <tr>\n",
       "      <th>1</th>\n",
       "      <td>{'team': {'id': 242, 'name': 'Команда Азимова'...</td>\n",
       "      <td>{'team': {'id': 640, 'name': 'Перезагрузка', '...</td>\n",
       "      <td>{'team': {'id': 245, 'name': 'Айастан', 'town'...</td>\n",
       "      <td>{'team': {'id': 299, 'name': 'Команда Гусейнов...</td>\n",
       "      <td>{'team': {'id': 1189, 'name': 'Грааль', 'town'...</td>\n",
       "      <td>{'team': {'id': 251, 'name': 'Пентиум', 'town'...</td>\n",
       "      <td>{'team': {'id': 268, 'name': 'Команда Алиева',...</td>\n",
       "      <td>{'team': {'id': 307, 'name': 'Третий путь', 't...</td>\n",
       "      <td>{'team': {'id': 543, 'name': 'Команда Мусаева'...</td>\n",
       "      <td>{'team': {'id': 41, 'name': 'Фантазия', 'town'...</td>\n",
       "      <td>...</td>\n",
       "      <td>None</td>\n",
       "      <td>None</td>\n",
       "      <td>None</td>\n",
       "      <td>None</td>\n",
       "      <td>None</td>\n",
       "      <td>None</td>\n",
       "      <td>None</td>\n",
       "      <td>None</td>\n",
       "      <td>None</td>\n",
       "      <td>None</td>\n",
       "    </tr>\n",
       "    <tr>\n",
       "      <th>2</th>\n",
       "      <td>{'team': {'id': 312, 'name': 'Социал-демократы...</td>\n",
       "      <td>{'team': {'id': 510, 'name': 'Импульс', 'town'...</td>\n",
       "      <td>{'team': {'id': 195, 'name': 'Реал-Мордовия', ...</td>\n",
       "      <td>{'team': {'id': 264, 'name': 'Джокер', 'town':...</td>\n",
       "      <td>{'team': {'id': 240, 'name': 'Бегемот', 'town'...</td>\n",
       "      <td>{'team': {'id': 689, 'name': 'Б-52', 'town': {...</td>\n",
       "      <td>{'team': {'id': 258, 'name': 'МордоBOYS', 'tow...</td>\n",
       "      <td>{'team': {'id': 558, 'name': 'НТР', 'town': {'...</td>\n",
       "      <td>{'team': {'id': 285, 'name': 'Лис', 'town': {'...</td>\n",
       "      <td>{'team': {'id': 361, 'name': '1Ф', 'town': {'i...</td>\n",
       "      <td>...</td>\n",
       "      <td>None</td>\n",
       "      <td>None</td>\n",
       "      <td>None</td>\n",
       "      <td>None</td>\n",
       "      <td>None</td>\n",
       "      <td>None</td>\n",
       "      <td>None</td>\n",
       "      <td>None</td>\n",
       "      <td>None</td>\n",
       "      <td>None</td>\n",
       "    </tr>\n",
       "    <tr>\n",
       "      <th>3</th>\n",
       "      <td>{'team': {'id': 175, 'name': 'Транссфера', 'to...</td>\n",
       "      <td>{'team': {'id': 5, 'name': 'Команда Кузьмина',...</td>\n",
       "      <td>{'team': {'id': 670, 'name': 'Ксеп', 'town': {...</td>\n",
       "      <td>{'team': {'id': 194, 'name': 'Десятый вал', 't...</td>\n",
       "      <td>{'team': {'id': 1, 'name': 'Неспроста', 'town'...</td>\n",
       "      <td>{'team': {'id': 14, 'name': 'СПС', 'town': {'i...</td>\n",
       "      <td>{'team': {'id': 188, 'name': 'Команда Губанова...</td>\n",
       "      <td>{'team': {'id': 173, 'name': 'ЮМА', 'town': {'...</td>\n",
       "      <td>{'team': {'id': 200, 'name': 'ОНУ им. Мечников...</td>\n",
       "      <td>{'team': {'id': 1733, 'name': 'Суббота 13', 't...</td>\n",
       "      <td>...</td>\n",
       "      <td>None</td>\n",
       "      <td>None</td>\n",
       "      <td>None</td>\n",
       "      <td>None</td>\n",
       "      <td>None</td>\n",
       "      <td>None</td>\n",
       "      <td>None</td>\n",
       "      <td>None</td>\n",
       "      <td>None</td>\n",
       "      <td>None</td>\n",
       "    </tr>\n",
       "    <tr>\n",
       "      <th>4</th>\n",
       "      <td>{'team': {'id': 2205, 'name': 'ХИИТ - 2000', '...</td>\n",
       "      <td>{'team': {'id': 26956, 'name': 'Приматы', 'tow...</td>\n",
       "      <td>{'team': {'id': 26955, 'name': 'Сливки - Форс-...</td>\n",
       "      <td>{'team': {'id': 192, 'name': 'Гамбринус', 'tow...</td>\n",
       "      <td>{'team': {'id': 83, 'name': 'МПС', 'town': {'i...</td>\n",
       "      <td>{'team': {'id': 695, 'name': 'Легион', 'town':...</td>\n",
       "      <td>{'team': {'id': 552, 'name': 'Дуплет', 'town':...</td>\n",
       "      <td>{'team': {'id': 293, 'name': 'Чёрная кошка', '...</td>\n",
       "      <td>{'team': {'id': 493, 'name': 'Beit Grand - Або...</td>\n",
       "      <td>{'team': {'id': 267, 'name': 'Торпедный отсек'...</td>\n",
       "      <td>...</td>\n",
       "      <td>None</td>\n",
       "      <td>None</td>\n",
       "      <td>None</td>\n",
       "      <td>None</td>\n",
       "      <td>None</td>\n",
       "      <td>None</td>\n",
       "      <td>None</td>\n",
       "      <td>None</td>\n",
       "      <td>None</td>\n",
       "      <td>None</td>\n",
       "    </tr>\n",
       "    <tr>\n",
       "      <th>5</th>\n",
       "      <td>{'team': {'id': 1733, 'name': 'Суббота 13', 't...</td>\n",
       "      <td>{'team': {'id': 108, 'name': 'Задумчивый жираф...</td>\n",
       "      <td>{'team': {'id': 425, 'name': 'Бостон-6', 'town...</td>\n",
       "      <td>{'team': {'id': 271, 'name': 'Саша и медведи',...</td>\n",
       "      <td>{'team': {'id': 494, 'name': 'Гигантские дятлы...</td>\n",
       "      <td>{'team': {'id': 2562, 'name': 'Мадагаскар', 't...</td>\n",
       "      <td>{'team': {'id': 100, 'name': 'Сигма', 'town': ...</td>\n",
       "      <td>{'team': {'id': 351, 'name': 'Снарки', 'town':...</td>\n",
       "      <td>{'team': {'id': 709, 'name': 'Легионеры', 'tow...</td>\n",
       "      <td>{'team': {'id': 647, 'name': 'Вашингтонские му...</td>\n",
       "      <td>...</td>\n",
       "      <td>None</td>\n",
       "      <td>None</td>\n",
       "      <td>None</td>\n",
       "      <td>None</td>\n",
       "      <td>None</td>\n",
       "      <td>None</td>\n",
       "      <td>None</td>\n",
       "      <td>None</td>\n",
       "      <td>None</td>\n",
       "      <td>None</td>\n",
       "    </tr>\n",
       "  </tbody>\n",
       "</table>\n",
       "<p>5 rows × 2064 columns</p>\n",
       "</div>"
      ],
      "text/plain": [
       "                                                0     \\\n",
       "1  {'team': {'id': 242, 'name': 'Команда Азимова'...   \n",
       "2  {'team': {'id': 312, 'name': 'Социал-демократы...   \n",
       "3  {'team': {'id': 175, 'name': 'Транссфера', 'to...   \n",
       "4  {'team': {'id': 2205, 'name': 'ХИИТ - 2000', '...   \n",
       "5  {'team': {'id': 1733, 'name': 'Суббота 13', 't...   \n",
       "\n",
       "                                                1     \\\n",
       "1  {'team': {'id': 640, 'name': 'Перезагрузка', '...   \n",
       "2  {'team': {'id': 510, 'name': 'Импульс', 'town'...   \n",
       "3  {'team': {'id': 5, 'name': 'Команда Кузьмина',...   \n",
       "4  {'team': {'id': 26956, 'name': 'Приматы', 'tow...   \n",
       "5  {'team': {'id': 108, 'name': 'Задумчивый жираф...   \n",
       "\n",
       "                                                2     \\\n",
       "1  {'team': {'id': 245, 'name': 'Айастан', 'town'...   \n",
       "2  {'team': {'id': 195, 'name': 'Реал-Мордовия', ...   \n",
       "3  {'team': {'id': 670, 'name': 'Ксеп', 'town': {...   \n",
       "4  {'team': {'id': 26955, 'name': 'Сливки - Форс-...   \n",
       "5  {'team': {'id': 425, 'name': 'Бостон-6', 'town...   \n",
       "\n",
       "                                                3     \\\n",
       "1  {'team': {'id': 299, 'name': 'Команда Гусейнов...   \n",
       "2  {'team': {'id': 264, 'name': 'Джокер', 'town':...   \n",
       "3  {'team': {'id': 194, 'name': 'Десятый вал', 't...   \n",
       "4  {'team': {'id': 192, 'name': 'Гамбринус', 'tow...   \n",
       "5  {'team': {'id': 271, 'name': 'Саша и медведи',...   \n",
       "\n",
       "                                                4     \\\n",
       "1  {'team': {'id': 1189, 'name': 'Грааль', 'town'...   \n",
       "2  {'team': {'id': 240, 'name': 'Бегемот', 'town'...   \n",
       "3  {'team': {'id': 1, 'name': 'Неспроста', 'town'...   \n",
       "4  {'team': {'id': 83, 'name': 'МПС', 'town': {'i...   \n",
       "5  {'team': {'id': 494, 'name': 'Гигантские дятлы...   \n",
       "\n",
       "                                                5     \\\n",
       "1  {'team': {'id': 251, 'name': 'Пентиум', 'town'...   \n",
       "2  {'team': {'id': 689, 'name': 'Б-52', 'town': {...   \n",
       "3  {'team': {'id': 14, 'name': 'СПС', 'town': {'i...   \n",
       "4  {'team': {'id': 695, 'name': 'Легион', 'town':...   \n",
       "5  {'team': {'id': 2562, 'name': 'Мадагаскар', 't...   \n",
       "\n",
       "                                                6     \\\n",
       "1  {'team': {'id': 268, 'name': 'Команда Алиева',...   \n",
       "2  {'team': {'id': 258, 'name': 'МордоBOYS', 'tow...   \n",
       "3  {'team': {'id': 188, 'name': 'Команда Губанова...   \n",
       "4  {'team': {'id': 552, 'name': 'Дуплет', 'town':...   \n",
       "5  {'team': {'id': 100, 'name': 'Сигма', 'town': ...   \n",
       "\n",
       "                                                7     \\\n",
       "1  {'team': {'id': 307, 'name': 'Третий путь', 't...   \n",
       "2  {'team': {'id': 558, 'name': 'НТР', 'town': {'...   \n",
       "3  {'team': {'id': 173, 'name': 'ЮМА', 'town': {'...   \n",
       "4  {'team': {'id': 293, 'name': 'Чёрная кошка', '...   \n",
       "5  {'team': {'id': 351, 'name': 'Снарки', 'town':...   \n",
       "\n",
       "                                                8     \\\n",
       "1  {'team': {'id': 543, 'name': 'Команда Мусаева'...   \n",
       "2  {'team': {'id': 285, 'name': 'Лис', 'town': {'...   \n",
       "3  {'team': {'id': 200, 'name': 'ОНУ им. Мечников...   \n",
       "4  {'team': {'id': 493, 'name': 'Beit Grand - Або...   \n",
       "5  {'team': {'id': 709, 'name': 'Легионеры', 'tow...   \n",
       "\n",
       "                                                9     ...  2054  2055  2056  \\\n",
       "1  {'team': {'id': 41, 'name': 'Фантазия', 'town'...  ...  None  None  None   \n",
       "2  {'team': {'id': 361, 'name': '1Ф', 'town': {'i...  ...  None  None  None   \n",
       "3  {'team': {'id': 1733, 'name': 'Суббота 13', 't...  ...  None  None  None   \n",
       "4  {'team': {'id': 267, 'name': 'Торпедный отсек'...  ...  None  None  None   \n",
       "5  {'team': {'id': 647, 'name': 'Вашингтонские му...  ...  None  None  None   \n",
       "\n",
       "   2057  2058  2059  2060  2061  2062  2063  \n",
       "1  None  None  None  None  None  None  None  \n",
       "2  None  None  None  None  None  None  None  \n",
       "3  None  None  None  None  None  None  None  \n",
       "4  None  None  None  None  None  None  None  \n",
       "5  None  None  None  None  None  None  None  \n",
       "\n",
       "[5 rows x 2064 columns]"
      ]
     },
     "execution_count": 14,
     "metadata": {},
     "output_type": "execute_result"
    }
   ],
   "source": [
    "results.head()"
   ]
  },
  {
   "cell_type": "markdown",
   "metadata": {},
   "source": [
    "### Найдем индексы турниров, которые будем учитывать (из условия задания)"
   ]
  },
  {
   "cell_type": "code",
   "execution_count": 15,
   "metadata": {},
   "outputs": [],
   "source": [
    "train_tourns_dict = train_tourns.to_dict(orient='index')"
   ]
  },
  {
   "cell_type": "code",
   "execution_count": 16,
   "metadata": {},
   "outputs": [],
   "source": [
    "tourns_inds = [] # индексы турниров, которые будем учитывать\n",
    "for i, t in train_tourns_dict.items():\n",
    "    resi = results_data[i]\n",
    "    #print(resi)\n",
    "    if resi:\n",
    "        masks = [len(team['mask']) if 'mask' in team.keys() and team['mask'] else 0 for team in resi]\n",
    "        if all(masks) and all([m == masks[0] for m in masks]):\n",
    "            #print(i)\n",
    "            #print(masks)\n",
    "            tourns_inds.append(i)"
   ]
  },
  {
   "cell_type": "code",
   "execution_count": 17,
   "metadata": {},
   "outputs": [
    {
     "data": {
      "text/plain": [
       "661"
      ]
     },
     "execution_count": 17,
     "metadata": {},
     "output_type": "execute_result"
    }
   ],
   "source": [
    "len(tourns_inds)"
   ]
  },
  {
   "cell_type": "markdown",
   "metadata": {},
   "source": [
    "### Итого 661 турнир\n",
    "### Таблица с промежуточными данными"
   ]
  },
  {
   "cell_type": "code",
   "execution_count": 18,
   "metadata": {},
   "outputs": [],
   "source": [
    "ts = [] # tournaments: [индекс турнира, [индексы игроков], [маски]] для каждого турнира (предварительная таблица)\n",
    "for i in tourns_inds:\n",
    "    res = results_data[i]\n",
    "    masks = []\n",
    "    total_pids = []\n",
    "    teams_id = []\n",
    "    for team in res:\n",
    "        pids = [pl['player']['id'] for pl in team['teamMembers']]\n",
    "        mask = team['mask']\n",
    "        masks.append(list(mask))\n",
    "        total_pids.append(pids)\n",
    "        teams_id.append(team['team']['id'])\n",
    "    t = [i, total_pids, masks, teams_id]\n",
    "    ts.append(t)"
   ]
  },
  {
   "cell_type": "markdown",
   "metadata": {},
   "source": [
    "### Для удобства составим предварительную таблицу турнир - список id игроков команды - маска"
   ]
  },
  {
   "cell_type": "code",
   "execution_count": 19,
   "metadata": {},
   "outputs": [
    {
     "data": {
      "text/html": [
       "<div>\n",
       "<style scoped>\n",
       "    .dataframe tbody tr th:only-of-type {\n",
       "        vertical-align: middle;\n",
       "    }\n",
       "\n",
       "    .dataframe tbody tr th {\n",
       "        vertical-align: top;\n",
       "    }\n",
       "\n",
       "    .dataframe thead th {\n",
       "        text-align: right;\n",
       "    }\n",
       "</style>\n",
       "<table border=\"1\" class=\"dataframe\">\n",
       "  <thead>\n",
       "    <tr style=\"text-align: right;\">\n",
       "      <th></th>\n",
       "      <th>tourn_id</th>\n",
       "      <th>players_id</th>\n",
       "      <th>mask</th>\n",
       "      <th>teams_id</th>\n",
       "    </tr>\n",
       "  </thead>\n",
       "  <tbody>\n",
       "    <tr>\n",
       "      <th>0</th>\n",
       "      <td>4772</td>\n",
       "      <td>[[6212, 18332, 18036, 22799, 15456, 26089], [1...</td>\n",
       "      <td>[[1, 1, 1, 1, 1, 1, 1, 1, 1, 0, 1, 1, 1, 1, 1,...</td>\n",
       "      <td>[45556, 1030, 4252, 5444, 40931, 47075, 53185,...</td>\n",
       "    </tr>\n",
       "    <tr>\n",
       "      <th>1</th>\n",
       "      <td>4973</td>\n",
       "      <td>[[6212, 18332, 18036, 22799, 7008, 26089], [27...</td>\n",
       "      <td>[[1, 1, 1, 1, 1, 1, 1, 1, 1, 1, 1, 1, 1, 1, 1,...</td>\n",
       "      <td>[45556, 69309, 27522, 67979, 2055, 4032, 6936,...</td>\n",
       "    </tr>\n",
       "    <tr>\n",
       "      <th>2</th>\n",
       "      <td>4974</td>\n",
       "      <td>[[19411, 24290, 32979, 5195, 33806, 9680], [27...</td>\n",
       "      <td>[[1, 1, 1, 1, 1, 1, 1, 1, 1, 1, 1, 1, 1, 1, 1,...</td>\n",
       "      <td>[2865, 69309, 6874, 27522, 56664, 1021, 4622, ...</td>\n",
       "    </tr>\n",
       "    <tr>\n",
       "      <th>3</th>\n",
       "      <td>4975</td>\n",
       "      <td>[[13345, 29425, 52183, 34417, 30772, 93424], [...</td>\n",
       "      <td>[[1, 1, 0, 1, 0, 1, 0, 1, 1, 1, 1, 1, 1, 1, 1,...</td>\n",
       "      <td>[4174, 45556, 70530, 7864, 7896, 27119, 33088,...</td>\n",
       "    </tr>\n",
       "    <tr>\n",
       "      <th>4</th>\n",
       "      <td>4986</td>\n",
       "      <td>[[27822, 28751, 30270, 33620, 2421], [6482, 13...</td>\n",
       "      <td>[[1, 1, 1, 1, 1, 1, 1, 1, 1, 1, 1, 1, 1, 1, 1,...</td>\n",
       "      <td>[69309, 49758, 312, 27177, 928, 38722, 45174, ...</td>\n",
       "    </tr>\n",
       "  </tbody>\n",
       "</table>\n",
       "</div>"
      ],
      "text/plain": [
       "   tourn_id                                         players_id  \\\n",
       "0      4772  [[6212, 18332, 18036, 22799, 15456, 26089], [1...   \n",
       "1      4973  [[6212, 18332, 18036, 22799, 7008, 26089], [27...   \n",
       "2      4974  [[19411, 24290, 32979, 5195, 33806, 9680], [27...   \n",
       "3      4975  [[13345, 29425, 52183, 34417, 30772, 93424], [...   \n",
       "4      4986  [[27822, 28751, 30270, 33620, 2421], [6482, 13...   \n",
       "\n",
       "                                                mask  \\\n",
       "0  [[1, 1, 1, 1, 1, 1, 1, 1, 1, 0, 1, 1, 1, 1, 1,...   \n",
       "1  [[1, 1, 1, 1, 1, 1, 1, 1, 1, 1, 1, 1, 1, 1, 1,...   \n",
       "2  [[1, 1, 1, 1, 1, 1, 1, 1, 1, 1, 1, 1, 1, 1, 1,...   \n",
       "3  [[1, 1, 0, 1, 0, 1, 0, 1, 1, 1, 1, 1, 1, 1, 1,...   \n",
       "4  [[1, 1, 1, 1, 1, 1, 1, 1, 1, 1, 1, 1, 1, 1, 1,...   \n",
       "\n",
       "                                            teams_id  \n",
       "0  [45556, 1030, 4252, 5444, 40931, 47075, 53185,...  \n",
       "1  [45556, 69309, 27522, 67979, 2055, 4032, 6936,...  \n",
       "2  [2865, 69309, 6874, 27522, 56664, 1021, 4622, ...  \n",
       "3  [4174, 45556, 70530, 7864, 7896, 27119, 33088,...  \n",
       "4  [69309, 49758, 312, 27177, 928, 38722, 45174, ...  "
      ]
     },
     "execution_count": 19,
     "metadata": {},
     "output_type": "execute_result"
    }
   ],
   "source": [
    "d = dict()\n",
    "d['tourn_id'] = [t[0] for t in ts]\n",
    "d['players_id'] = [t[1] for t in ts]\n",
    "d['mask'] = [t[2] for t in ts]\n",
    "d['teams_id'] = [t[3] for t in ts]\n",
    "d = pd.DataFrame.from_dict(d)\n",
    "d.head()"
   ]
  },
  {
   "cell_type": "markdown",
   "metadata": {},
   "source": [
    "### Поскольку индексы игроков пронумерованы не с 0 и не идут подряд, итоговая матрица, которую будем использовать для обучения, которая и так разреженная, будет еще больше. Поэтому переномеруем индексы игроков, чтобы они начинались с нуля и шли подряд"
   ]
  },
  {
   "cell_type": "code",
   "execution_count": 20,
   "metadata": {},
   "outputs": [
    {
     "name": "stdout",
     "output_type": "stream",
     "text": [
      "количество игроков: 57060\n"
     ]
    }
   ],
   "source": [
    "ids = []\n",
    "for t in ts:\n",
    "    l = t[1]\n",
    "    for team in l:\n",
    "        ids.extend(team)\n",
    "#ids = [t[1] for t in ts]\n",
    "ids = set(ids)\n",
    "print(f\"количество игроков: {len(ids)}\")"
   ]
  },
  {
   "cell_type": "code",
   "execution_count": 21,
   "metadata": {},
   "outputs": [],
   "source": [
    "# Новую нумерацию будем учитывать использяю словари с переходом от старых к новым индексам и наоборот\n",
    "new_ids = [i for i in range(len(ids))]\n",
    "pids_new2old = dict(zip(new_ids, ids))\n",
    "pids_old2new = dict(zip(ids, new_ids))"
   ]
  },
  {
   "cell_type": "markdown",
   "metadata": {},
   "source": [
    "### pids_new2old - словарь для перехода от новых индексов к старым, pids_old2new - наоборот\n"
   ]
  },
  {
   "cell_type": "markdown",
   "metadata": {},
   "source": [
    "### Создадим матрицу, по которой будем обучаться, из предварительной таблицы, полученной ранее. Матрица будем выглядть следующим образом: количество столбцов равно количеству игроков+количество вопросов (соотв, каждй признак это либо сила игрока, либо сложность вопроса). Соответсвтенно, каждая строка будет соответстовать тому ( вероятности) правильно ли ответил i-ый игрок на j-ый вопрос. Для этого создадим соответствующую разреженную матрицу.\n",
    "### Предварительная таблица, полученная ранее:"
   ]
  },
  {
   "cell_type": "code",
   "execution_count": 22,
   "metadata": {},
   "outputs": [
    {
     "data": {
      "text/html": [
       "<div>\n",
       "<style scoped>\n",
       "    .dataframe tbody tr th:only-of-type {\n",
       "        vertical-align: middle;\n",
       "    }\n",
       "\n",
       "    .dataframe tbody tr th {\n",
       "        vertical-align: top;\n",
       "    }\n",
       "\n",
       "    .dataframe thead th {\n",
       "        text-align: right;\n",
       "    }\n",
       "</style>\n",
       "<table border=\"1\" class=\"dataframe\">\n",
       "  <thead>\n",
       "    <tr style=\"text-align: right;\">\n",
       "      <th></th>\n",
       "      <th>tourn_id</th>\n",
       "      <th>players_id</th>\n",
       "      <th>mask</th>\n",
       "      <th>teams_id</th>\n",
       "    </tr>\n",
       "  </thead>\n",
       "  <tbody>\n",
       "    <tr>\n",
       "      <th>0</th>\n",
       "      <td>4772</td>\n",
       "      <td>[[6212, 18332, 18036, 22799, 15456, 26089], [1...</td>\n",
       "      <td>[[1, 1, 1, 1, 1, 1, 1, 1, 1, 0, 1, 1, 1, 1, 1,...</td>\n",
       "      <td>[45556, 1030, 4252, 5444, 40931, 47075, 53185,...</td>\n",
       "    </tr>\n",
       "    <tr>\n",
       "      <th>1</th>\n",
       "      <td>4973</td>\n",
       "      <td>[[6212, 18332, 18036, 22799, 7008, 26089], [27...</td>\n",
       "      <td>[[1, 1, 1, 1, 1, 1, 1, 1, 1, 1, 1, 1, 1, 1, 1,...</td>\n",
       "      <td>[45556, 69309, 27522, 67979, 2055, 4032, 6936,...</td>\n",
       "    </tr>\n",
       "    <tr>\n",
       "      <th>2</th>\n",
       "      <td>4974</td>\n",
       "      <td>[[19411, 24290, 32979, 5195, 33806, 9680], [27...</td>\n",
       "      <td>[[1, 1, 1, 1, 1, 1, 1, 1, 1, 1, 1, 1, 1, 1, 1,...</td>\n",
       "      <td>[2865, 69309, 6874, 27522, 56664, 1021, 4622, ...</td>\n",
       "    </tr>\n",
       "    <tr>\n",
       "      <th>3</th>\n",
       "      <td>4975</td>\n",
       "      <td>[[13345, 29425, 52183, 34417, 30772, 93424], [...</td>\n",
       "      <td>[[1, 1, 0, 1, 0, 1, 0, 1, 1, 1, 1, 1, 1, 1, 1,...</td>\n",
       "      <td>[4174, 45556, 70530, 7864, 7896, 27119, 33088,...</td>\n",
       "    </tr>\n",
       "    <tr>\n",
       "      <th>4</th>\n",
       "      <td>4986</td>\n",
       "      <td>[[27822, 28751, 30270, 33620, 2421], [6482, 13...</td>\n",
       "      <td>[[1, 1, 1, 1, 1, 1, 1, 1, 1, 1, 1, 1, 1, 1, 1,...</td>\n",
       "      <td>[69309, 49758, 312, 27177, 928, 38722, 45174, ...</td>\n",
       "    </tr>\n",
       "  </tbody>\n",
       "</table>\n",
       "</div>"
      ],
      "text/plain": [
       "   tourn_id                                         players_id  \\\n",
       "0      4772  [[6212, 18332, 18036, 22799, 15456, 26089], [1...   \n",
       "1      4973  [[6212, 18332, 18036, 22799, 7008, 26089], [27...   \n",
       "2      4974  [[19411, 24290, 32979, 5195, 33806, 9680], [27...   \n",
       "3      4975  [[13345, 29425, 52183, 34417, 30772, 93424], [...   \n",
       "4      4986  [[27822, 28751, 30270, 33620, 2421], [6482, 13...   \n",
       "\n",
       "                                                mask  \\\n",
       "0  [[1, 1, 1, 1, 1, 1, 1, 1, 1, 0, 1, 1, 1, 1, 1,...   \n",
       "1  [[1, 1, 1, 1, 1, 1, 1, 1, 1, 1, 1, 1, 1, 1, 1,...   \n",
       "2  [[1, 1, 1, 1, 1, 1, 1, 1, 1, 1, 1, 1, 1, 1, 1,...   \n",
       "3  [[1, 1, 0, 1, 0, 1, 0, 1, 1, 1, 1, 1, 1, 1, 1,...   \n",
       "4  [[1, 1, 1, 1, 1, 1, 1, 1, 1, 1, 1, 1, 1, 1, 1,...   \n",
       "\n",
       "                                            teams_id  \n",
       "0  [45556, 1030, 4252, 5444, 40931, 47075, 53185,...  \n",
       "1  [45556, 69309, 27522, 67979, 2055, 4032, 6936,...  \n",
       "2  [2865, 69309, 6874, 27522, 56664, 1021, 4622, ...  \n",
       "3  [4174, 45556, 70530, 7864, 7896, 27119, 33088,...  \n",
       "4  [69309, 49758, 312, 27177, 928, 38722, 45174, ...  "
      ]
     },
     "execution_count": 22,
     "metadata": {},
     "output_type": "execute_result"
    }
   ],
   "source": [
    "d.head() # будем использовать список ts, по которой получена данная таблица"
   ]
  },
  {
   "cell_type": "code",
   "execution_count": 72,
   "metadata": {
    "scrolled": true
   },
   "outputs": [],
   "source": [
    "qid = 0 # текущий индекс вопроса\n",
    "pids = [] # Индексы игроков\n",
    "qids = [] # Индексы вопросов\n",
    "y = [] # Целевая переменная\n",
    "for ii,t in enumerate(ts):\n",
    "    tms = t[1]\n",
    "    mask = t[2]\n",
    "    #print(t[0], ii)\n",
    "    for j in range(len(mask[0])):\n",
    "        for i in range(len(mask)):\n",
    "            q = mask[i][j] # ответ i-ой команды на j-ый вопрос\n",
    "            if q in '01':\n",
    "                for old_id in tms[i]:\n",
    "                    new_id = pids_old2new[old_id]\n",
    "                    pids.append(new_id)\n",
    "                    qids.append(qid+j)\n",
    "                    y.append(int(q))\n",
    "                    \n",
    "    qid += len(mask[0])"
   ]
  },
  {
   "cell_type": "code",
   "execution_count": 73,
   "metadata": {},
   "outputs": [
    {
     "name": "stdout",
     "output_type": "stream",
     "text": [
      "количество вопросов: 30752\n"
     ]
    }
   ],
   "source": [
    "print(f'количество вопросов: {qid}')"
   ]
  },
  {
   "cell_type": "markdown",
   "metadata": {},
   "source": [
    "### Прибавим к индексу вопроса число 57060 - количество игроков, поскольку мы конкатенируем признаки вопросы и игроки"
   ]
  },
  {
   "cell_type": "code",
   "execution_count": 74,
   "metadata": {},
   "outputs": [],
   "source": [
    "qids = [q + len(ids) for q in qids ]"
   ]
  },
  {
   "cell_type": "markdown",
   "metadata": {},
   "source": [
    "### Создаем разреженную матрицу. Первые 57060 столбцов - индекс игрока, следующие 30752-- индекс вопроса"
   ]
  },
  {
   "cell_type": "code",
   "execution_count": 75,
   "metadata": {},
   "outputs": [],
   "source": [
    "N_players = len(ids)\n",
    "N_questions = qid"
   ]
  },
  {
   "cell_type": "code",
   "execution_count": 90,
   "metadata": {},
   "outputs": [],
   "source": [
    "#rows = [i for i in range(2*(N_players+N_questions))]\n",
    "#data = [1] * (N_players+N_questions)"
   ]
  },
  {
   "cell_type": "code",
   "execution_count": 76,
   "metadata": {},
   "outputs": [],
   "source": [
    "#rows = np.ones((N_players+N_questions,2)) * np.arange(N_players+N_questions).reshape(N_players+N_questions,1)\n",
    "#rows = np.reshape(rows, (2*(N_players+N_questions),1))\n",
    "#rows = rows.astype('int')\n",
    "\n",
    "rows = np.ones((len(pids), 2)) * np.arange(len(pids)).reshape(len(pids),1)\n",
    "rows = np.reshape(rows, (2*len(pids),1))\n",
    "rows = rows.reshape(-1)\n",
    "rows = rows.astype('int')\n",
    "\n",
    "#cols = [*pids, *qids]\n",
    "#cols = np.array(cols)\n",
    "#cols = cols.astype('int')\n",
    "#cols = cols.reshape(-1)\n",
    "cols = np.zeros((len(pids),2))\n",
    "cols[:,0] = np.array(pids)\n",
    "cols[:,1] = np.array(qids)\n",
    "cols = cols.reshape(-1)\n",
    "cols = cols.astype('int')\n",
    "\n",
    "data = [1] * 2 * len(pids)\n",
    "data = np.array(data)\n",
    "#data = data.reshape(-1,1)"
   ]
  },
  {
   "cell_type": "code",
   "execution_count": 77,
   "metadata": {},
   "outputs": [],
   "source": [
    "X_sparse = csr_matrix((data,(rows, cols)))"
   ]
  },
  {
   "cell_type": "markdown",
   "metadata": {},
   "source": [
    "### Логистическая гегрессия"
   ]
  },
  {
   "cell_type": "code",
   "execution_count": 78,
   "metadata": {},
   "outputs": [],
   "source": [
    "lr = LogisticRegression(solver='sag')"
   ]
  },
  {
   "cell_type": "code",
   "execution_count": 79,
   "metadata": {},
   "outputs": [
    {
     "name": "stdout",
     "output_type": "stream",
     "text": [
      "308.93220686912537 seconds\n"
     ]
    }
   ],
   "source": [
    "start_time = time.time()\n",
    "lr.fit(X_sparse, y)\n",
    "print(f'{time.time() - start_time} seconds')"
   ]
  },
  {
   "cell_type": "markdown",
   "metadata": {},
   "source": [
    "### Посмотрим на топ игоков по результатам модели"
   ]
  },
  {
   "cell_type": "code",
   "execution_count": 32,
   "metadata": {},
   "outputs": [
    {
     "name": "stdout",
     "output_type": "stream",
     "text": [
      "балл              ФИО\n",
      "4.157 Максим Михайлович Руссо\n",
      "4.03 Александра Владимировна Брутер\n",
      "3.985 Иван Николаевич Семушин\n",
      "3.896 Михаил Владимирович Савченков\n",
      "3.817 Сергей Леонидович Спешков\n",
      "3.816 Артём Сергеевич Сорожкин\n",
      "3.698 Станислав Григорьевич Мереминский\n",
      "3.643 Михаил Ильич Левандовский\n",
      "3.604 Ирина Сергеевна Прокофьева\n",
      "3.584 Сергей Игоревич Николенко\n",
      "3.551 Илья Сергеевич Новиков\n",
      "3.551 Антон Владимирович Саксонов\n",
      "3.549 Александр Витальевич Либер\n",
      "3.513 Игорь Викторович Мокин\n",
      "3.511 Александр Владимирович Мосягин\n",
      "3.502 Алексей Владимирович Гилёв\n",
      "3.499 Михаил Сергеевич Царёв\n",
      "3.494 Дмитрий Александрович Карякин\n",
      "3.492 Александр Валерьевич Марков\n",
      "3.484 Наталья Евгеньевна Горелова\n",
      "3.478 Наталья Алексеевна Кудряшова\n",
      "3.476 Юлия Сергеевна Архангельская\n",
      "3.475 Мария Владимировна Кленницкая\n",
      "3.469 Евгений Павлович Спектор\n",
      "3.464 Николай Валерьевич Крапиль\n",
      "3.454 Юрий Яковлевич Выменец\n",
      "3.452 Михаил Андреевич Новосёлов\n",
      "3.452 Евгений Александрович Пашковский\n",
      "3.446 Николай Александрович Коврижных\n",
      "3.444 Антон Анатольевич Чернин\n",
      "3.432 Михаил Леонидович Матвеев\n",
      "3.429 Андрей Вячеславович Островский\n",
      "3.42 Сусанна Марковна Бровер\n",
      "3.408 Борис Яковлевич Моносов\n",
      "3.406 Александр Ефимович Мартынов\n",
      "3.401 Дмитрий Николаевич Петров\n",
      "3.4 Мария Алексеевна Юнгер\n",
      "3.396 Евгений Васильевич Дёмин\n",
      "3.395 Александр Геннадьевич Коробейников\n",
      "3.393 Татьяна Евгеньевна Фёдорова\n",
      "3.384 Иделия Мукадясовна Айзятулова\n",
      "3.372 Дмитрий Сергеевич Кудинов\n",
      "3.37 Наиль Евгеньевич Фарукшин\n",
      "3.365 Александр Александрович Фингеров\n",
      "3.361 Елизавета Сергеевна Овдеенко\n",
      "3.352 Кристина Олеговна Кораблина\n",
      "3.35 Инна Валентиновна Семёнова\n",
      "3.347 Сергей Владимирович Коновалов\n",
      "3.335 Артём Александрович Митрофанов\n",
      "3.331 Кирилл Игоревич Михайлов\n"
     ]
    }
   ],
   "source": [
    "coefs = lr.coef_\n",
    "best_id = np.argsort(coefs[0][:N_players])\n",
    "best_id = np.flip(best_id)\n",
    "olds_best_id = [pids_new2old[i] for i in best_id[:50]]\n",
    "p = [players_data[i] for i in olds_best_id]\n",
    "\n",
    "best_c = np.sort(coefs[0][:N_players])\n",
    "best_c = np.flip(best_c)\n",
    "best_c[:50]\n",
    "\n",
    "print('балл              ФИО')\n",
    "for pi, c in zip(p, best_c):\n",
    "    print(np.round(c,3), pi['name'], pi['patronymic'], pi['surname'])"
   ]
  },
  {
   "cell_type": "markdown",
   "metadata": {},
   "source": [
    "## Оцениваем результаты по 2020 году (результат по значениям корреляций в конце ноутбука)\n"
   ]
  },
  {
   "cell_type": "code",
   "execution_count": 33,
   "metadata": {},
   "outputs": [
    {
     "data": {
      "text/html": [
       "<div>\n",
       "<style scoped>\n",
       "    .dataframe tbody tr th:only-of-type {\n",
       "        vertical-align: middle;\n",
       "    }\n",
       "\n",
       "    .dataframe tbody tr th {\n",
       "        vertical-align: top;\n",
       "    }\n",
       "\n",
       "    .dataframe thead th {\n",
       "        text-align: right;\n",
       "    }\n",
       "</style>\n",
       "<table border=\"1\" class=\"dataframe\">\n",
       "  <thead>\n",
       "    <tr style=\"text-align: right;\">\n",
       "      <th></th>\n",
       "      <th>id</th>\n",
       "      <th>name</th>\n",
       "      <th>dateStart</th>\n",
       "      <th>dateEnd</th>\n",
       "      <th>type</th>\n",
       "      <th>season</th>\n",
       "      <th>orgcommittee</th>\n",
       "      <th>synchData</th>\n",
       "      <th>questionQty</th>\n",
       "    </tr>\n",
       "  </thead>\n",
       "  <tbody>\n",
       "    <tr>\n",
       "      <th>4628</th>\n",
       "      <td>4628</td>\n",
       "      <td>Семь сорок</td>\n",
       "      <td>2020-12-30 13:00:00+00:00</td>\n",
       "      <td>2020-12-30T16:00:00+03:00</td>\n",
       "      <td>{'id': 3, 'name': 'Синхрон'}</td>\n",
       "      <td>None</td>\n",
       "      <td>[{'id': 7533, 'name': 'Денис', 'patronymic': '...</td>\n",
       "      <td>{'dateRequestsAllowedTo': '2020-12-30T23:55:00...</td>\n",
       "      <td>{'1': 12, '2': 12, '3': 12}</td>\n",
       "    </tr>\n",
       "    <tr>\n",
       "      <th>4957</th>\n",
       "      <td>4957</td>\n",
       "      <td>Синхрон Биркиркары</td>\n",
       "      <td>2020-02-20 21:00:00+00:00</td>\n",
       "      <td>2020-02-27T23:00:00+03:00</td>\n",
       "      <td>{'id': 3, 'name': 'Синхрон'}</td>\n",
       "      <td>/seasons/53</td>\n",
       "      <td>[{'id': 2421, 'name': 'Ася', 'patronymic': 'Се...</td>\n",
       "      <td>{'dateRequestsAllowedTo': '2020-02-27T18:00:00...</td>\n",
       "      <td>{'1': 13, '2': 13, '3': 13}</td>\n",
       "    </tr>\n",
       "    <tr>\n",
       "      <th>5151</th>\n",
       "      <td>5151</td>\n",
       "      <td>Яровой</td>\n",
       "      <td>2020-08-01 11:00:00+00:00</td>\n",
       "      <td>2020-08-05T14:00:00+03:00</td>\n",
       "      <td>{'id': 3, 'name': 'Синхрон'}</td>\n",
       "      <td>/seasons/53</td>\n",
       "      <td>[{'id': 22325, 'name': 'Михаил', 'patronymic':...</td>\n",
       "      <td>{'dateRequestsAllowedTo': '2020-07-24T23:59:59...</td>\n",
       "      <td>{'1': 12, '2': 12, '3': 12}</td>\n",
       "    </tr>\n",
       "    <tr>\n",
       "      <th>5414</th>\n",
       "      <td>5414</td>\n",
       "      <td>Синхрон северных стран</td>\n",
       "      <td>2020-01-03 16:00:00+00:00</td>\n",
       "      <td>2020-01-10T19:00:00+03:00</td>\n",
       "      <td>{'id': 3, 'name': 'Синхрон'}</td>\n",
       "      <td>/seasons/53</td>\n",
       "      <td>[{'id': 28379, 'name': 'Константин', 'patronym...</td>\n",
       "      <td>{'dateRequestsAllowedTo': '2020-01-10T23:59:00...</td>\n",
       "      <td>{'1': 12, '2': 12, '3': 12}</td>\n",
       "    </tr>\n",
       "    <tr>\n",
       "      <th>5477</th>\n",
       "      <td>5477</td>\n",
       "      <td>Онлайн: Синхрон Урюбджирова</td>\n",
       "      <td>2020-04-18 16:00:00+00:00</td>\n",
       "      <td>2020-04-30T19:00:00+03:00</td>\n",
       "      <td>{'id': 8, 'name': 'Асинхрон'}</td>\n",
       "      <td>/seasons/53</td>\n",
       "      <td>[{'id': 91324, 'name': 'Эрдни', 'patronymic': ...</td>\n",
       "      <td>{'dateRequestsAllowedTo': '2020-04-30T23:55:00...</td>\n",
       "      <td>{'1': 12, '2': 12, '3': 12}</td>\n",
       "    </tr>\n",
       "  </tbody>\n",
       "</table>\n",
       "</div>"
      ],
      "text/plain": [
       "        id                         name                 dateStart  \\\n",
       "4628  4628                   Семь сорок 2020-12-30 13:00:00+00:00   \n",
       "4957  4957           Синхрон Биркиркары 2020-02-20 21:00:00+00:00   \n",
       "5151  5151                       Яровой 2020-08-01 11:00:00+00:00   \n",
       "5414  5414       Синхрон северных стран 2020-01-03 16:00:00+00:00   \n",
       "5477  5477  Онлайн: Синхрон Урюбджирова 2020-04-18 16:00:00+00:00   \n",
       "\n",
       "                        dateEnd                           type       season  \\\n",
       "4628  2020-12-30T16:00:00+03:00   {'id': 3, 'name': 'Синхрон'}         None   \n",
       "4957  2020-02-27T23:00:00+03:00   {'id': 3, 'name': 'Синхрон'}  /seasons/53   \n",
       "5151  2020-08-05T14:00:00+03:00   {'id': 3, 'name': 'Синхрон'}  /seasons/53   \n",
       "5414  2020-01-10T19:00:00+03:00   {'id': 3, 'name': 'Синхрон'}  /seasons/53   \n",
       "5477  2020-04-30T19:00:00+03:00  {'id': 8, 'name': 'Асинхрон'}  /seasons/53   \n",
       "\n",
       "                                           orgcommittee  \\\n",
       "4628  [{'id': 7533, 'name': 'Денис', 'patronymic': '...   \n",
       "4957  [{'id': 2421, 'name': 'Ася', 'patronymic': 'Се...   \n",
       "5151  [{'id': 22325, 'name': 'Михаил', 'patronymic':...   \n",
       "5414  [{'id': 28379, 'name': 'Константин', 'patronym...   \n",
       "5477  [{'id': 91324, 'name': 'Эрдни', 'patronymic': ...   \n",
       "\n",
       "                                              synchData  \\\n",
       "4628  {'dateRequestsAllowedTo': '2020-12-30T23:55:00...   \n",
       "4957  {'dateRequestsAllowedTo': '2020-02-27T18:00:00...   \n",
       "5151  {'dateRequestsAllowedTo': '2020-07-24T23:59:59...   \n",
       "5414  {'dateRequestsAllowedTo': '2020-01-10T23:59:00...   \n",
       "5477  {'dateRequestsAllowedTo': '2020-04-30T23:55:00...   \n",
       "\n",
       "                      questionQty  \n",
       "4628  {'1': 12, '2': 12, '3': 12}  \n",
       "4957  {'1': 13, '2': 13, '3': 13}  \n",
       "5151  {'1': 12, '2': 12, '3': 12}  \n",
       "5414  {'1': 12, '2': 12, '3': 12}  \n",
       "5477  {'1': 12, '2': 12, '3': 12}  "
      ]
     },
     "execution_count": 33,
     "metadata": {},
     "output_type": "execute_result"
    }
   ],
   "source": [
    "test_tourns.head()"
   ]
  },
  {
   "cell_type": "code",
   "execution_count": 34,
   "metadata": {},
   "outputs": [],
   "source": [
    "test_tourns_dict = test_tourns.to_dict(orient='index')"
   ]
  },
  {
   "cell_type": "code",
   "execution_count": 35,
   "metadata": {},
   "outputs": [],
   "source": [
    "def team_members_played_in_2019(pl_ids, set2019):\n",
    "    for i in pl_ids:\n",
    "        if i not in set2019:\n",
    "            return False\n",
    "    return True    "
   ]
  },
  {
   "cell_type": "code",
   "execution_count": 36,
   "metadata": {},
   "outputs": [],
   "source": [
    "test_tourns_inds = [] # индексы турниров, которые будем учитывать\n",
    "for i, t in test_tourns_dict.items():\n",
    "    resi = results_data[i]\n",
    "    #print(resi)\n",
    "    if resi:\n",
    "        masks = [len(team['mask']) if 'mask' in team.keys() and team['mask'] else 0 for team in resi]\n",
    "        if all(masks) and all([m == masks[0] for m in masks]):\n",
    "            #print(i)\n",
    "            #print(masks)\n",
    "            #all_mids = []\n",
    "            #for team in resi:\n",
    "            #    members = team['teamMembers']\n",
    "            #    mids = [m['player']['id'] for m in members]\n",
    "            #    all_mids.append(mids)\n",
    "            #if all(team_members_played_in_2019(mids, ids) for mids in all_mids):  \n",
    "            test_tourns_inds.append(i)"
   ]
  },
  {
   "cell_type": "code",
   "execution_count": 37,
   "metadata": {},
   "outputs": [],
   "source": [
    "def get_ts_info(tourns_inds):\n",
    "    ts = [] # tournaments: [индекс турнира, [индексы игроков], [маски]] для каждого турнира (предварительная таблица)\n",
    "    for i in tourns_inds:\n",
    "        res = results_data[i]\n",
    "        masks = []\n",
    "        total_pids = []\n",
    "        teams_id = []\n",
    "        positions = []\n",
    "        for team in res:\n",
    "            pids = [pl['player']['id'] for pl in team['teamMembers']]\n",
    "            mask = team['mask']\n",
    "            masks.append(list(mask))\n",
    "            total_pids.append(pids)\n",
    "            teams_id.append(team['team']['id'])\n",
    "            positions.append(team['position'])\n",
    "        t = [i, total_pids, masks, teams_id, positions]\n",
    "        ts.append(t)\n",
    "    return ts   "
   ]
  },
  {
   "cell_type": "code",
   "execution_count": 38,
   "metadata": {},
   "outputs": [],
   "source": [
    "test_ts = get_ts_info(test_tourns_inds)"
   ]
  },
  {
   "cell_type": "code",
   "execution_count": 39,
   "metadata": {},
   "outputs": [],
   "source": [
    "def dict_by_ts_info(ts):\n",
    "    d = dict()\n",
    "    d['tourn_id'] = [t[0] for t in ts]\n",
    "    d['players_id'] = [t[1] for t in ts]\n",
    "    d['mask'] = [t[2] for t in ts]\n",
    "    d['teams_id'] = [t[3] for t in ts]\n",
    "    d['pisitions'] = [t[4] for t in ts]\n",
    "    d = pd.DataFrame.from_dict(d)\n",
    "    return d"
   ]
  },
  {
   "cell_type": "code",
   "execution_count": 40,
   "metadata": {},
   "outputs": [],
   "source": [
    "test_d = dict_by_ts_info(test_ts)"
   ]
  },
  {
   "cell_type": "code",
   "execution_count": 41,
   "metadata": {
    "scrolled": true
   },
   "outputs": [
    {
     "data": {
      "text/html": [
       "<div>\n",
       "<style scoped>\n",
       "    .dataframe tbody tr th:only-of-type {\n",
       "        vertical-align: middle;\n",
       "    }\n",
       "\n",
       "    .dataframe tbody tr th {\n",
       "        vertical-align: top;\n",
       "    }\n",
       "\n",
       "    .dataframe thead th {\n",
       "        text-align: right;\n",
       "    }\n",
       "</style>\n",
       "<table border=\"1\" class=\"dataframe\">\n",
       "  <thead>\n",
       "    <tr style=\"text-align: right;\">\n",
       "      <th></th>\n",
       "      <th>tourn_id</th>\n",
       "      <th>players_id</th>\n",
       "      <th>mask</th>\n",
       "      <th>teams_id</th>\n",
       "      <th>pisitions</th>\n",
       "    </tr>\n",
       "  </thead>\n",
       "  <tbody>\n",
       "    <tr>\n",
       "      <th>0</th>\n",
       "      <td>4957</td>\n",
       "      <td>[[30152, 30270, 27822, 28751, 27403, 4270], [3...</td>\n",
       "      <td>[[1, 1, 1, 1, 1, 1, 0, 1, 1, 1, 1, 1, 1, 1, 0,...</td>\n",
       "      <td>[49804, 4109, 3875, 77418, 2, 45367, 4622, 417...</td>\n",
       "      <td>[1, 2, 3, 4, 5.5, 5.5, 7.5, 7.5, 9, 12, 12, 12...</td>\n",
       "    </tr>\n",
       "    <tr>\n",
       "      <th>1</th>\n",
       "      <td>5414</td>\n",
       "      <td>[[18490, 116901, 8532, 42346, 123190, 22482], ...</td>\n",
       "      <td>[[1, 1, 1, 1, 1, 1, 1, 1, 1, 1, 1, 1, 1, 1, 1,...</td>\n",
       "      <td>[66120, 312, 2, 72338, 4032, 46381, 40931, 537...</td>\n",
       "      <td>[1, 2.5, 2.5, 5, 5, 5, 8, 8, 8, 12.5, 12.5, 12...</td>\n",
       "    </tr>\n",
       "    <tr>\n",
       "      <th>2</th>\n",
       "      <td>5707</td>\n",
       "      <td>[[156788, 159570, 191802, 159566], [191086, 17...</td>\n",
       "      <td>[[1, 1, 0, 1, 1, 1, 1, 1, 1, 1, 1, 1, 1, 1, 1,...</td>\n",
       "      <td>[60848, 61350, 61380, 62395, 72363, 64196, 598...</td>\n",
       "      <td>[1, 2, 4, 4, 4, 7, 7, 7, 12.5, 12.5, 12.5, 12....</td>\n",
       "    </tr>\n",
       "    <tr>\n",
       "      <th>3</th>\n",
       "      <td>5708</td>\n",
       "      <td>[[69678], [118867, 152794, 97208, 88819, 13619...</td>\n",
       "      <td>[[1, 1, 1, 1, 1, 1, 1, 1, 1, 1, 1, 1, 1, 1, 1,...</td>\n",
       "      <td>[77745, 74736, 72191, 63470, 46627, 72200, 661...</td>\n",
       "      <td>[1.5, 1.5, 4, 4, 4, 7, 7, 7, 13, 13, 13, 13, 1...</td>\n",
       "    </tr>\n",
       "    <tr>\n",
       "      <th>4</th>\n",
       "      <td>5711</td>\n",
       "      <td>[[11466, 5056, 2033, 27380, 31400], [69720, 32...</td>\n",
       "      <td>[[1, 1, 1, 1, 0, 0, 1, 1, 1, 1, 1, 1, 0, 1, 1,...</td>\n",
       "      <td>[51796, 71461, 49225, 1733, 54676, 26936, 5197...</td>\n",
       "      <td>[1, 2.5, 2.5, 6, 6, 6, 6, 6, 12.5, 12.5, 12.5,...</td>\n",
       "    </tr>\n",
       "  </tbody>\n",
       "</table>\n",
       "</div>"
      ],
      "text/plain": [
       "   tourn_id                                         players_id  \\\n",
       "0      4957  [[30152, 30270, 27822, 28751, 27403, 4270], [3...   \n",
       "1      5414  [[18490, 116901, 8532, 42346, 123190, 22482], ...   \n",
       "2      5707  [[156788, 159570, 191802, 159566], [191086, 17...   \n",
       "3      5708  [[69678], [118867, 152794, 97208, 88819, 13619...   \n",
       "4      5711  [[11466, 5056, 2033, 27380, 31400], [69720, 32...   \n",
       "\n",
       "                                                mask  \\\n",
       "0  [[1, 1, 1, 1, 1, 1, 0, 1, 1, 1, 1, 1, 1, 1, 0,...   \n",
       "1  [[1, 1, 1, 1, 1, 1, 1, 1, 1, 1, 1, 1, 1, 1, 1,...   \n",
       "2  [[1, 1, 0, 1, 1, 1, 1, 1, 1, 1, 1, 1, 1, 1, 1,...   \n",
       "3  [[1, 1, 1, 1, 1, 1, 1, 1, 1, 1, 1, 1, 1, 1, 1,...   \n",
       "4  [[1, 1, 1, 1, 0, 0, 1, 1, 1, 1, 1, 1, 0, 1, 1,...   \n",
       "\n",
       "                                            teams_id  \\\n",
       "0  [49804, 4109, 3875, 77418, 2, 45367, 4622, 417...   \n",
       "1  [66120, 312, 2, 72338, 4032, 46381, 40931, 537...   \n",
       "2  [60848, 61350, 61380, 62395, 72363, 64196, 598...   \n",
       "3  [77745, 74736, 72191, 63470, 46627, 72200, 661...   \n",
       "4  [51796, 71461, 49225, 1733, 54676, 26936, 5197...   \n",
       "\n",
       "                                           pisitions  \n",
       "0  [1, 2, 3, 4, 5.5, 5.5, 7.5, 7.5, 9, 12, 12, 12...  \n",
       "1  [1, 2.5, 2.5, 5, 5, 5, 8, 8, 8, 12.5, 12.5, 12...  \n",
       "2  [1, 2, 4, 4, 4, 7, 7, 7, 12.5, 12.5, 12.5, 12....  \n",
       "3  [1.5, 1.5, 4, 4, 4, 7, 7, 7, 13, 13, 13, 13, 1...  \n",
       "4  [1, 2.5, 2.5, 6, 6, 6, 6, 6, 12.5, 12.5, 12.5,...  "
      ]
     },
     "execution_count": 41,
     "metadata": {},
     "output_type": "execute_result"
    }
   ],
   "source": [
    "test_d.head()"
   ]
  },
  {
   "cell_type": "markdown",
   "metadata": {},
   "source": [
    "### Посмотрим на сложность вопросов в 2019 году"
   ]
  },
  {
   "cell_type": "code",
   "execution_count": 42,
   "metadata": {},
   "outputs": [
    {
     "name": "stdout",
     "output_type": "stream",
     "text": [
      "среднее значение -5.16456253644653e-10\n"
     ]
    },
    {
     "data": {
      "image/png": "[encoded data removed]",
      "text/plain": [
       "<Figure size 432x288 with 1 Axes>"
      ]
     },
     "metadata": {
      "needs_background": "light"
     },
     "output_type": "display_data"
    }
   ],
   "source": [
    "from matplotlib import pyplot as plt \n",
    "q_compl = coefs[0][N_players:]\n",
    "print(f\"среднее значение {np.mean(q_compl)}\")\n",
    "plt.hist(q_compl)\n",
    "plt.show()"
   ]
  },
  {
   "cell_type": "markdown",
   "metadata": {},
   "source": [
    "## Предложения по ранжированию команд. \n",
    "\n",
    "\n",
    "### Поскольку в 2020 году мы не знаем сложность вопросов, будем брать ее средней, т е = 0 . Кроме того, в 2020 есть игроки, которые не принимали участие в 2019 году. для них также возьмем среднюю \"силу\" по результатам 2019 г, (возьмем свободный вес лог регресии)\n",
    "\n",
    "## 1\n",
    "\n",
    "### В качестве вероятности ответа игрока на вопрос берем сигмоиду от (сили игрока + сложность вопроса). Вероятность ответа возьмем как 1 - Вероятность(все неправильно ответили на вопрос). Далее возьмем порог, например 0.5. Если итоговая вероятность > 0.5, то считаем что ответили на вопрос правильно. \n",
    "### Далее ранжируем команды по количеству ошибок (неправильных ответов), чтобы удобно было \"запихнуть\" этот массив кол-ва неправильных ответов в корреляцию\n",
    "\n",
    "## 2\n",
    "### Поскольку мы берем сложность вопроса одинаковую для всех, то получается, что в конечном итоге рейтинг команды будет зависеть от силы ее игроков. На самом деле это так в независимости от сложности вопроса. Поэтому возьмем среднюю силу игрока в команде, и отранжируем команды по средней силе\n",
    "\n"
   ]
  },
  {
   "cell_type": "code",
   "execution_count": 43,
   "metadata": {},
   "outputs": [],
   "source": [
    "strongs = coefs[0][:N_players]"
   ]
  },
  {
   "cell_type": "code",
   "execution_count": 44,
   "metadata": {},
   "outputs": [],
   "source": [
    "def return_strength(old_id, pids_set, strongs, intercept):\n",
    "    #print(old_id)\n",
    "    if old_id not in pids_set: # игрока не было (не учитывался) в 2019\n",
    "        return intercept\n",
    "    else:\n",
    "        return strongs[pids_old2new[old_id]]"
   ]
  },
  {
   "cell_type": "code",
   "execution_count": 45,
   "metadata": {},
   "outputs": [],
   "source": [
    "def return_teams_strength_for_all_tourns(test, lr, ids):\n",
    "    ts_preds = []\n",
    "    coefs = lr.coef_[0]\n",
    "    intercept = lr.intercept_[0]\n",
    "    for t in test:\n",
    "        #print('ts_id', t[0])\n",
    "        teams = t[1]\n",
    "        strs = []\n",
    "        for plids in teams:\n",
    "            #strs = []\n",
    "            team_strength = 0\n",
    "            #print(plids)\n",
    "            #print(len(plids))\n",
    "            if plids:\n",
    "                for plid in plids:\n",
    "                    team_strength += return_strength(plid, ids, coefs, intercept)            \n",
    "            strs.append(team_strength/max(len(plids),1))\n",
    "        ts_preds.append(strs)\n",
    "    return ts_preds    "
   ]
  },
  {
   "cell_type": "code",
   "execution_count": 46,
   "metadata": {},
   "outputs": [],
   "source": [
    "ts_preds = return_teams_strength_for_all_tourns(test_ts, lr, ids)"
   ]
  },
  {
   "cell_type": "markdown",
   "metadata": {},
   "source": [
    "## Значения корреляций\n",
    "### для каждого турнира, вычтем из макс значения  среди вмех сил на данном турнире значения сил команд: \n",
    "### str[i] = max(str[1],...,str(n)) - str[i].  \n",
    "### Полученные значения можно давать на вход корреляции Спирмена"
   ]
  },
  {
   "cell_type": "code",
   "execution_count": 47,
   "metadata": {},
   "outputs": [],
   "source": [
    "from scipy.stats import spearmanr\n",
    "import matplotlib.pyplot as plt\n",
    "import math"
   ]
  },
  {
   "cell_type": "code",
   "execution_count": 48,
   "metadata": {},
   "outputs": [],
   "source": [
    "for i in range(len(ts_preds)):\n",
    "    ts_preds[i] = [max(ts_preds[i]) - strength for strength in ts_preds[i]]"
   ]
  },
  {
   "cell_type": "code",
   "execution_count": 49,
   "metadata": {},
   "outputs": [],
   "source": [
    "corrs = []\n",
    "true_ranges = [t[4] for t in test_ts]\n",
    "for true_range, strengths in zip(true_ranges, ts_preds):\n",
    "    corrs.append(spearmanr(true_range, strengths).correlation)\n",
    "corrs = [corr for corr in corrs if not math.isnan(corr)]    \n",
    "corrs = np.array(corrs)    "
   ]
  },
  {
   "cell_type": "code",
   "execution_count": 50,
   "metadata": {},
   "outputs": [
    {
     "data": {
      "image/png": "[encoded data removed]",
      "text/plain": [
       "<Figure size 720x360 with 1 Axes>"
      ]
     },
     "metadata": {
      "needs_background": "light"
     },
     "output_type": "display_data"
    },
    {
     "name": "stdout",
     "output_type": "stream",
     "text": [
      "cреднее значение корреляции = 0.7804306466125951\n"
     ]
    }
   ],
   "source": [
    "plt.figure(figsize=(10,5))\n",
    "plt.hist(corrs, bins=20)\n",
    "plt.title(\"Распределение значений корреляций Спирмена между реальным ранжированием и предсказаниями модели\")\n",
    "\n",
    "plt.show()\n",
    "print(f\"cреднее значение корреляции = {np.mean(corrs)}\")"
   ]
  },
  {
   "cell_type": "markdown",
   "metadata": {},
   "source": [
    "### Среднее значение корреляции Спирмена между реальным ранжированием и предсказаниями модели 0.78. Распределение значений корреляций для тестовых турниров(всего 164) приведено выше на гистограмме"
   ]
  },
  {
   "cell_type": "markdown",
   "metadata": {},
   "source": [
    "# Результаты по первой части\n",
    "\n",
    "### Итак, на данный момент обучили модель лог регрессии на данных по играм за 2019 год. Матрица, по которой обучалась лог регрессия выглядела следующим образом: первые N столбцов = количеству различных игроков, следующие M столбцов - количеству вопросов. Каждая строка означала вероятность ответа i-ым игроком на j-ый вопрос. Таким образом, в каждой строке только две \"единицы\", остальные нули. Топ 15 игроков по результатам модели:"
   ]
  },
  {
   "cell_type": "code",
   "execution_count": 51,
   "metadata": {},
   "outputs": [
    {
     "name": "stdout",
     "output_type": "stream",
     "text": [
      "балл              ФИО\n",
      "4.157 Максим Михайлович Руссо\n",
      "4.03 Александра Владимировна Брутер\n",
      "3.985 Иван Николаевич Семушин\n",
      "3.896 Михаил Владимирович Савченков\n",
      "3.817 Сергей Леонидович Спешков\n",
      "3.816 Артём Сергеевич Сорожкин\n",
      "3.698 Станислав Григорьевич Мереминский\n",
      "3.643 Михаил Ильич Левандовский\n",
      "3.604 Ирина Сергеевна Прокофьева\n",
      "3.584 Сергей Игоревич Николенко\n",
      "3.551 Илья Сергеевич Новиков\n",
      "3.551 Антон Владимирович Саксонов\n",
      "3.549 Александр Витальевич Либер\n",
      "3.513 Игорь Викторович Мокин\n",
      "3.511 Александр Владимирович Мосягин\n"
     ]
    }
   ],
   "source": [
    "print('балл              ФИО')\n",
    "for pi, c in zip(p[:15], best_c[:15]):\n",
    "    print(np.round(c,3), pi['name'], pi['patronymic'], pi['surname'])"
   ]
  },
  {
   "cell_type": "markdown",
   "metadata": {},
   "source": [
    "### Далее, на основании сил игроков, были предсказаны результаты игр в 2020 году. Рейтинг по предсказаниям модели строился на основе средней силы игроков в команде, что кажется логичным (результат завчисит от силы игроков, а не от вопросов).Результат в виде распределения значений корреляции и среднего значения приведен выше."
   ]
  },
  {
   "cell_type": "markdown",
   "metadata": {},
   "source": [
    "# ЧАСТЬ 2. ЕМ"
   ]
  },
  {
   "cell_type": "markdown",
   "metadata": {},
   "source": [
    "На 1-ом шаге мы обучили лог регрессию на след данных:\n",
    "каждой строчке в матрице объекты/признаки соответствовало утверждение о том, правильно ли i-ый игрок ответил на j-ый вопрос. При этом на данном этапе считали (по условию), что игрок отвечал правильно, если команда ответила правильно\n",
    "\n",
    "На Е шаге будем обновлять вероятность игрока ответить на вопрос:\n",
    "\n",
    "Если команда правильно ответила на вопрос, то:\n",
    "    $$p(z_{ij}=1) = \\frac{sigma(\\mu + s_i + q_j)} {1 - П_{i^{'}}(1 - sigma(\\mu + s_{i^{'}} + q_j))}$$\n",
    "где $$ s_i - \\text{сила игрока}, q_j - \\text{сложность вопроса} $$ \n",
    "Иначе $$p(z_{ij}=1) = 0$$\n",
    "$$ s_i \\text{ и }  q_j \\text{ получены в результате обучения}$$ \n",
    "\n",
    "На М шаге заново обучаем лог регрессию с обновленой целевой переменной, т е аналогично 1-ому шагу, но теперь у нас стоят не \"1\" или \"0\", показывающие, как i-ый игрок ответил на j-ый вопрос, а вероятность ответа, вычисленная по формулам выше.\n",
    "\n",
    "\n",
    "Далее итеративно повторяем Е и М шаги"
   ]
  },
  {
   "cell_type": "markdown",
   "metadata": {},
   "source": [
    "### Предварительно напишем несколько функций для удобства"
   ]
  },
  {
   "cell_type": "code",
   "execution_count": 52,
   "metadata": {},
   "outputs": [
    {
     "data": {
      "text/html": [
       "<div>\n",
       "<style scoped>\n",
       "    .dataframe tbody tr th:only-of-type {\n",
       "        vertical-align: middle;\n",
       "    }\n",
       "\n",
       "    .dataframe tbody tr th {\n",
       "        vertical-align: top;\n",
       "    }\n",
       "\n",
       "    .dataframe thead th {\n",
       "        text-align: right;\n",
       "    }\n",
       "</style>\n",
       "<table border=\"1\" class=\"dataframe\">\n",
       "  <thead>\n",
       "    <tr style=\"text-align: right;\">\n",
       "      <th></th>\n",
       "      <th>tourn_id</th>\n",
       "      <th>players_id</th>\n",
       "      <th>mask</th>\n",
       "      <th>teams_id</th>\n",
       "    </tr>\n",
       "  </thead>\n",
       "  <tbody>\n",
       "    <tr>\n",
       "      <th>0</th>\n",
       "      <td>4772</td>\n",
       "      <td>[[6212, 18332, 18036, 22799, 15456, 26089], [1...</td>\n",
       "      <td>[[1, 1, 1, 1, 1, 1, 1, 1, 1, 0, 1, 1, 1, 1, 1,...</td>\n",
       "      <td>[45556, 1030, 4252, 5444, 40931, 47075, 53185,...</td>\n",
       "    </tr>\n",
       "    <tr>\n",
       "      <th>1</th>\n",
       "      <td>4973</td>\n",
       "      <td>[[6212, 18332, 18036, 22799, 7008, 26089], [27...</td>\n",
       "      <td>[[1, 1, 1, 1, 1, 1, 1, 1, 1, 1, 1, 1, 1, 1, 1,...</td>\n",
       "      <td>[45556, 69309, 27522, 67979, 2055, 4032, 6936,...</td>\n",
       "    </tr>\n",
       "    <tr>\n",
       "      <th>2</th>\n",
       "      <td>4974</td>\n",
       "      <td>[[19411, 24290, 32979, 5195, 33806, 9680], [27...</td>\n",
       "      <td>[[1, 1, 1, 1, 1, 1, 1, 1, 1, 1, 1, 1, 1, 1, 1,...</td>\n",
       "      <td>[2865, 69309, 6874, 27522, 56664, 1021, 4622, ...</td>\n",
       "    </tr>\n",
       "    <tr>\n",
       "      <th>3</th>\n",
       "      <td>4975</td>\n",
       "      <td>[[13345, 29425, 52183, 34417, 30772, 93424], [...</td>\n",
       "      <td>[[1, 1, 0, 1, 0, 1, 0, 1, 1, 1, 1, 1, 1, 1, 1,...</td>\n",
       "      <td>[4174, 45556, 70530, 7864, 7896, 27119, 33088,...</td>\n",
       "    </tr>\n",
       "    <tr>\n",
       "      <th>4</th>\n",
       "      <td>4986</td>\n",
       "      <td>[[27822, 28751, 30270, 33620, 2421], [6482, 13...</td>\n",
       "      <td>[[1, 1, 1, 1, 1, 1, 1, 1, 1, 1, 1, 1, 1, 1, 1,...</td>\n",
       "      <td>[69309, 49758, 312, 27177, 928, 38722, 45174, ...</td>\n",
       "    </tr>\n",
       "  </tbody>\n",
       "</table>\n",
       "</div>"
      ],
      "text/plain": [
       "   tourn_id                                         players_id  \\\n",
       "0      4772  [[6212, 18332, 18036, 22799, 15456, 26089], [1...   \n",
       "1      4973  [[6212, 18332, 18036, 22799, 7008, 26089], [27...   \n",
       "2      4974  [[19411, 24290, 32979, 5195, 33806, 9680], [27...   \n",
       "3      4975  [[13345, 29425, 52183, 34417, 30772, 93424], [...   \n",
       "4      4986  [[27822, 28751, 30270, 33620, 2421], [6482, 13...   \n",
       "\n",
       "                                                mask  \\\n",
       "0  [[1, 1, 1, 1, 1, 1, 1, 1, 1, 0, 1, 1, 1, 1, 1,...   \n",
       "1  [[1, 1, 1, 1, 1, 1, 1, 1, 1, 1, 1, 1, 1, 1, 1,...   \n",
       "2  [[1, 1, 1, 1, 1, 1, 1, 1, 1, 1, 1, 1, 1, 1, 1,...   \n",
       "3  [[1, 1, 0, 1, 0, 1, 0, 1, 1, 1, 1, 1, 1, 1, 1,...   \n",
       "4  [[1, 1, 1, 1, 1, 1, 1, 1, 1, 1, 1, 1, 1, 1, 1,...   \n",
       "\n",
       "                                            teams_id  \n",
       "0  [45556, 1030, 4252, 5444, 40931, 47075, 53185,...  \n",
       "1  [45556, 69309, 27522, 67979, 2055, 4032, 6936,...  \n",
       "2  [2865, 69309, 6874, 27522, 56664, 1021, 4622, ...  \n",
       "3  [4174, 45556, 70530, 7864, 7896, 27119, 33088,...  \n",
       "4  [69309, 49758, 312, 27177, 928, 38722, 45174, ...  "
      ]
     },
     "execution_count": 52,
     "metadata": {},
     "output_type": "execute_result"
    }
   ],
   "source": [
    "d.head()"
   ]
  },
  {
   "cell_type": "markdown",
   "metadata": {},
   "source": [
    "### Немного переделаем процесс индексации пар игрок-вопрос, реализованный выше. А точнее, добавим словарь, который будет хранить связь турнир - номер вопроса - номер команды - id игрока. Это поможет на Е шаге пересчитывать вероятности, поскольку нам нужно из матрицы объекты/признаки вытаскивать информацию (номера строк по сути) об игроках конкретной команды отвечающих на данный вопрос. Также данный словарь пригодится в пункте 5, когда нужно будет на основе посчитанной сложности вопросов посчитать сложность турнира и составить рейтинг-лист"
   ]
  },
  {
   "cell_type": "code",
   "execution_count": 53,
   "metadata": {},
   "outputs": [],
   "source": [
    "from sklearn.linear_model import LinearRegression as linreg"
   ]
  },
  {
   "cell_type": "code",
   "execution_count": 54,
   "metadata": {},
   "outputs": [],
   "source": [
    "qid = 0 # текущий индекс вопроса\n",
    "pids = [] # Индексы игроков\n",
    "qids = [] # Индексы вопросов\n",
    "y = [] # Целевая переменная\n",
    "tqtl = dict() # Tournament-Question_ind-Teams-Line_index\n",
    "for ii,t in enumerate(ts):\n",
    "    tms = t[1]\n",
    "    mask = t[2]\n",
    "    #print(t[0], ii)\n",
    "    tournament_id = t[0]\n",
    "    question2team = dict()\n",
    "    for j in range(len(mask[0])):\n",
    "        question_id = qid + j\n",
    "        indices = [] # [команда1:[индекс ответа игроком1, индекс ответа игроком2,...], команда2[индекс ответа игроком1,...][]...[]]\n",
    "        for i in range(len(mask)):\n",
    "            q = mask[i][j] # ответ i-ой команды на j-ый вопрос\n",
    "            if q in '01':\n",
    "                team_indices = []\n",
    "                for old_id in tms[i]:\n",
    "                    new_id = pids_old2new[old_id]\n",
    "                    pids.append(new_id)\n",
    "                    qids.append(qid+j)\n",
    "                    y.append(int(q))\n",
    "                    team_indices.append(len(pids)-1)\n",
    "            if q in '01':\n",
    "                indices.append(team_indices) # на каждый вопрос для каждой команды записаны индексы строк\n",
    "        question2team[question_id] = indices # закинем этот список в словарь по ключу=индекс вопроса\n",
    "    #print(type(tournament_id))\n",
    "    tqtl[tournament_id] = question2team  # словарь полученный выше положим как значение с ключом=индексу турнира  \n",
    "                \n",
    "    qid += len(mask[0])"
   ]
  },
  {
   "cell_type": "code",
   "execution_count": 55,
   "metadata": {},
   "outputs": [],
   "source": [
    "y = np.array(y)"
   ]
  },
  {
   "cell_type": "code",
   "execution_count": 56,
   "metadata": {},
   "outputs": [],
   "source": [
    "def recalculate_probs_for_team(probs, suby):\n",
    "    # пересчитываем вероятности для определенной команды на определенный вопрос\n",
    "    if np.sum(suby) > 0: # значит команда ответила изначально правильно на вопрос\n",
    "        denom = 1 - np.prod(1-probs)\n",
    "        new_probs = probs / denom\n",
    "    else: # команда ответила неверно изначально\n",
    "        new_probs = np.zeros(len(suby))\n",
    "    #print(new_probs)    \n",
    "    return new_probs"
   ]
  },
  {
   "cell_type": "code",
   "execution_count": 57,
   "metadata": {},
   "outputs": [],
   "source": [
    "def recalculate_probs(tqtl, X, y, lr):\n",
    "    # пересчитываем вероятности на Е шаге для всех турниров/вопросов\n",
    "    y_new = np.zeros(len(y))\n",
    "    probs = lr.predict_proba(X)[:,1]\n",
    "    for tourn_id, tournament in tqtl.items():\n",
    "        for question, team_inds_list in tournament.items():\n",
    "            #print(f'tourn_id {tourn_id}, question {question}')\n",
    "            for team_number, team_inds in enumerate(team_inds_list): # team_inds - номера в целевой переменной y, соотв ответам команды на данный вопрос\n",
    "                #print(team_inds)\n",
    "                probsi = probs[team_inds]\n",
    "                suby = y[team_inds]\n",
    "                new_probs = recalculate_probs_for_team(probsi, suby)\n",
    "                #print(team_inds)\n",
    "                #if len(team_inds) <= 1:\n",
    "                #print(team_inds, team_number)\n",
    "                #print(new_probs)\n",
    "                #print(len(new_probs))\n",
    "                y_new[team_inds] = new_probs\n",
    "                #print(y[:20])\n",
    "    return y_new          "
   ]
  },
  {
   "cell_type": "code",
   "execution_count": 87,
   "metadata": {},
   "outputs": [],
   "source": [
    "def calc_mean_spearman_corr(true_ranges, ts_preds):\n",
    "    \n",
    "    for i in range(len(ts_preds)):\n",
    "        ts_preds[i] = [max(ts_preds[i]) - strength for strength in ts_preds[i]]\n",
    "    \n",
    "    corrs = []\n",
    "    for true_range, strengths in zip(true_ranges, ts_preds):\n",
    "        corrs.append(spearmanr(true_range, strengths).correlation)\n",
    "    corrs = [corr for corr in corrs if not math.isnan(corr)]    \n",
    "    corrs = np.array(corrs)\n",
    "    return np.mean(corrs)\n",
    "    "
   ]
  },
  {
   "cell_type": "code",
   "execution_count": 66,
   "metadata": {},
   "outputs": [],
   "source": [
    "def return_teams_strength_for_all_tourns(test, lr, ids):\n",
    "    ts_preds = []\n",
    "    coefs = lr.coef_\n",
    "    intercept = lr.intercept_\n",
    "    for t in test:\n",
    "        #print('ts_id', t[0])\n",
    "        teams = t[1]\n",
    "        strs = []\n",
    "        for plids in teams:\n",
    "            #strs = []\n",
    "            team_strength = 0\n",
    "            #print(plids)\n",
    "            #print(len(plids))\n",
    "            if plids:\n",
    "                for plid in plids:\n",
    "                    team_strength += return_strength(plid, ids, coefs, intercept)            \n",
    "            strs.append(team_strength/max(len(plids),1))\n",
    "        ts_preds.append(strs)\n",
    "    return ts_preds "
   ]
  },
  {
   "cell_type": "code",
   "execution_count": 67,
   "metadata": {},
   "outputs": [],
   "source": [
    "import copy"
   ]
  },
  {
   "cell_type": "code",
   "execution_count": 80,
   "metadata": {},
   "outputs": [],
   "source": [
    "y_copy = copy.copy(y)\n",
    "X_copy = copy.copy(X_sparse)\n",
    "lr_copy = copy.deepcopy(lr)"
   ]
  },
  {
   "cell_type": "code",
   "execution_count": 91,
   "metadata": {},
   "outputs": [],
   "source": [
    "corr1 = calc_mean_spearman_corr(true_ranges, ts_preds)\n",
    "total_corrs = [corr1]"
   ]
  },
  {
   "cell_type": "code",
   "execution_count": 107,
   "metadata": {},
   "outputs": [],
   "source": [
    "coefs = lr.coef_[0]\n",
    "intercept = lr.intercept_[0]"
   ]
  },
  {
   "cell_type": "code",
   "execution_count": 107,
   "metadata": {},
   "outputs": [],
   "source": [
    "lr = copy.deepcopy(lr_copy)\n",
    "y = copy.copy(y_copy)"
   ]
  },
  {
   "cell_type": "code",
   "execution_count": null,
   "metadata": {},
   "outputs": [],
   "source": [
    "def M_step(X, y):\n",
    "    lr = linreg()\n",
    "    y = np.array(y)\n",
    "    y = y.astype('float64')\n",
    "    #y[y < 1e-5] = 1e-5\n",
    "    #y[y == 1] = 1 - 1e-5\n",
    "    y = np.clip(y, 1e-5, 1-1e-5)\n",
    "    y1 = - np.log(1/y - 1)\n",
    "    lr.fit(X, y1)\n",
    "    return lr"
   ]
  },
  {
   "cell_type": "code",
   "execution_count": null,
   "metadata": {},
   "outputs": [],
   "source": [
    "def recalculate_probs(tqtl, X, y, lr):\n",
    "    # пересчитываем вероятности на Е шаге для всех турниров/вопросов\n",
    "    y_new = np.zeros(len(y))\n",
    "    if isinstance(lr, LogisticRegression):\n",
    "        probs = lr.predict_proba(X)[:,1]\n",
    "    else:\n",
    "        y1 = lr.predict(X)\n",
    "        probs = 1 / (1 + np.exp(-y1))    \n",
    "    for tourn_id, tournament in tqtl.items():\n",
    "        for question, team_inds_list in tournament.items():\n",
    "            #print(f'tourn_id {tourn_id}, question {question}')\n",
    "            for team_number, team_inds in enumerate(team_inds_list): # team_inds - номера в целевой переменной y, соотв ответам команды на данный вопрос\n",
    "                #print(team_inds)\n",
    "                probsi = probs[team_inds]\n",
    "                suby = y[team_inds]\n",
    "                new_probs = recalculate_probs_for_team(probsi, suby)\n",
    "                #print(team_inds)\n",
    "                #if len(team_inds) <= 1:\n",
    "                #print(team_inds, team_number)\n",
    "                #print(new_probs)\n",
    "                #print(len(new_probs))\n",
    "                y_new[team_inds] = new_probs\n",
    "                #print(y[:20])\n",
    "    return y_new  "
   ]
  },
  {
   "cell_type": "code",
   "execution_count": 99,
   "metadata": {
    "scrolled": false
   },
   "outputs": [
    {
     "name": "stdout",
     "output_type": "stream",
     "text": [
      "E step finished\n",
      "M step finished\n",
      "0-th iteration. Elapsed time 279.9832212924957 seconds. Current corr = 0.7602171130210255\n",
      "E step finished\n",
      "M step finished\n",
      "1-th iteration. Elapsed time 554.2371008396149 seconds. Current corr = 0.6989130165642458\n",
      "E step finished\n",
      "M step finished\n",
      "2-th iteration. Elapsed time 801.207195520401 seconds. Current corr = 0.6366305378082772\n",
      "E step finished\n",
      "M step finished\n",
      "3-th iteration. Elapsed time 1084.7984709739685 seconds. Current corr = 0.5783757920675877\n",
      "E step finished\n",
      "M step finished\n",
      "4-th iteration. Elapsed time 1366.95654463768 seconds. Current corr = 0.5248806109971471\n"
     ]
    },
    {
     "ename": "KeyboardInterrupt",
     "evalue": "",
     "output_type": "error",
     "traceback": [
      "\u001b[0;31m---------------------------------------------------------------------------\u001b[0m",
      "\u001b[0;31mKeyboardInterrupt\u001b[0m                         Traceback (most recent call last)",
      "\u001b[0;32m<ipython-input-99-ddf9283fc1a8>\u001b[0m in \u001b[0;36m<module>\u001b[0;34m\u001b[0m\n\u001b[1;32m      3\u001b[0m     \u001b[0;31m# E\u001b[0m\u001b[0;34m\u001b[0m\u001b[0;34m\u001b[0m\u001b[0;34m\u001b[0m\u001b[0m\n\u001b[1;32m      4\u001b[0m     \u001b[0my\u001b[0m \u001b[0;34m=\u001b[0m  \u001b[0mnp\u001b[0m\u001b[0;34m.\u001b[0m\u001b[0marray\u001b[0m\u001b[0;34m(\u001b[0m\u001b[0my\u001b[0m\u001b[0;34m)\u001b[0m\u001b[0;34m\u001b[0m\u001b[0;34m\u001b[0m\u001b[0m\n\u001b[0;32m----> 5\u001b[0;31m     \u001b[0my\u001b[0m \u001b[0;34m=\u001b[0m \u001b[0mrecalculate_probs\u001b[0m\u001b[0;34m(\u001b[0m\u001b[0mtqtl\u001b[0m\u001b[0;34m,\u001b[0m \u001b[0mX_sparse\u001b[0m\u001b[0;34m,\u001b[0m \u001b[0my\u001b[0m\u001b[0;34m,\u001b[0m \u001b[0mlr\u001b[0m\u001b[0;34m)\u001b[0m\u001b[0;34m\u001b[0m\u001b[0;34m\u001b[0m\u001b[0m\n\u001b[0m\u001b[1;32m      6\u001b[0m     \u001b[0mprint\u001b[0m\u001b[0;34m(\u001b[0m\u001b[0;34m'E step finished'\u001b[0m\u001b[0;34m)\u001b[0m\u001b[0;34m\u001b[0m\u001b[0;34m\u001b[0m\u001b[0m\n\u001b[1;32m      7\u001b[0m     \u001b[0;31m# M\u001b[0m\u001b[0;34m\u001b[0m\u001b[0;34m\u001b[0m\u001b[0;34m\u001b[0m\u001b[0m\n",
      "\u001b[0;32m<ipython-input-97-041b50e181a6>\u001b[0m in \u001b[0;36mrecalculate_probs\u001b[0;34m(tqtl, X, y, lr)\u001b[0m\n\u001b[1;32m     14\u001b[0m                 \u001b[0mprobsi\u001b[0m \u001b[0;34m=\u001b[0m \u001b[0mprobs\u001b[0m\u001b[0;34m[\u001b[0m\u001b[0mteam_inds\u001b[0m\u001b[0;34m]\u001b[0m\u001b[0;34m\u001b[0m\u001b[0;34m\u001b[0m\u001b[0m\n\u001b[1;32m     15\u001b[0m                 \u001b[0msuby\u001b[0m \u001b[0;34m=\u001b[0m \u001b[0my\u001b[0m\u001b[0;34m[\u001b[0m\u001b[0mteam_inds\u001b[0m\u001b[0;34m]\u001b[0m\u001b[0;34m\u001b[0m\u001b[0;34m\u001b[0m\u001b[0m\n\u001b[0;32m---> 16\u001b[0;31m                 \u001b[0mnew_probs\u001b[0m \u001b[0;34m=\u001b[0m \u001b[0mrecalculate_probs_for_team\u001b[0m\u001b[0;34m(\u001b[0m\u001b[0mprobsi\u001b[0m\u001b[0;34m,\u001b[0m \u001b[0msuby\u001b[0m\u001b[0;34m)\u001b[0m\u001b[0;34m\u001b[0m\u001b[0;34m\u001b[0m\u001b[0m\n\u001b[0m\u001b[1;32m     17\u001b[0m                 \u001b[0;31m#print(team_inds)\u001b[0m\u001b[0;34m\u001b[0m\u001b[0;34m\u001b[0m\u001b[0;34m\u001b[0m\u001b[0m\n\u001b[1;32m     18\u001b[0m                 \u001b[0;31m#if len(team_inds) <= 1:\u001b[0m\u001b[0;34m\u001b[0m\u001b[0;34m\u001b[0m\u001b[0;34m\u001b[0m\u001b[0m\n",
      "\u001b[0;32m<ipython-input-56-bd90f17999b9>\u001b[0m in \u001b[0;36mrecalculate_probs_for_team\u001b[0;34m(probs, suby)\u001b[0m\n\u001b[1;32m      2\u001b[0m     \u001b[0;31m# пересчитываем вероятности для определенной команды на определенный вопрос\u001b[0m\u001b[0;34m\u001b[0m\u001b[0;34m\u001b[0m\u001b[0;34m\u001b[0m\u001b[0m\n\u001b[1;32m      3\u001b[0m     \u001b[0;32mif\u001b[0m \u001b[0mnp\u001b[0m\u001b[0;34m.\u001b[0m\u001b[0msum\u001b[0m\u001b[0;34m(\u001b[0m\u001b[0msuby\u001b[0m\u001b[0;34m)\u001b[0m \u001b[0;34m>\u001b[0m \u001b[0;36m0\u001b[0m\u001b[0;34m:\u001b[0m \u001b[0;31m# значит команда ответила изначально правильно на вопрос\u001b[0m\u001b[0;34m\u001b[0m\u001b[0;34m\u001b[0m\u001b[0m\n\u001b[0;32m----> 4\u001b[0;31m         \u001b[0mdenom\u001b[0m \u001b[0;34m=\u001b[0m \u001b[0;36m1\u001b[0m \u001b[0;34m-\u001b[0m \u001b[0mnp\u001b[0m\u001b[0;34m.\u001b[0m\u001b[0mprod\u001b[0m\u001b[0;34m(\u001b[0m\u001b[0;36m1\u001b[0m\u001b[0;34m-\u001b[0m\u001b[0mprobs\u001b[0m\u001b[0;34m)\u001b[0m\u001b[0;34m\u001b[0m\u001b[0;34m\u001b[0m\u001b[0m\n\u001b[0m\u001b[1;32m      5\u001b[0m         \u001b[0mnew_probs\u001b[0m \u001b[0;34m=\u001b[0m \u001b[0mprobs\u001b[0m \u001b[0;34m/\u001b[0m \u001b[0mdenom\u001b[0m\u001b[0;34m\u001b[0m\u001b[0;34m\u001b[0m\u001b[0m\n\u001b[1;32m      6\u001b[0m     \u001b[0;32melse\u001b[0m\u001b[0;34m:\u001b[0m \u001b[0;31m# команда ответила неверно изначально\u001b[0m\u001b[0;34m\u001b[0m\u001b[0;34m\u001b[0m\u001b[0m\n",
      "\u001b[0;31mKeyboardInterrupt\u001b[0m: "
     ]
    }
   ],
   "source": [
    "start_time = time.time()\n",
    "for i in range(8):\n",
    "    # E\n",
    "    y =  np.array(y)\n",
    "    y = recalculate_probs(tqtl, X_sparse, y, lr)\n",
    "    print('E step finished')\n",
    "    # M\n",
    "    #coefs = grad_descent(coefs, X_sparse, y, 30, 1)\n",
    "    #lr.coef_ =  coefs.reshape((1,len(coefs)))\n",
    "    #lr.intercept_ = np.array([intercept])\n",
    "    #y = lr.predict_proba(X_sparse)\n",
    "    lr = M_step(X_sparse, y)\n",
    "    y1 = lr.predict(X_sparse)\n",
    "    y = 1 / (1 + np.exp(-y1))\n",
    "    print('M step finished')\n",
    "    \n",
    "    # считаем корреляцию\n",
    "    ts_preds = return_teams_strength_for_all_tourns(test_ts, lr, ids)\n",
    "    corr = calc_mean_spearman_corr(true_ranges, ts_preds)\n",
    "    total_corrs.append(corr)\n",
    "    print(f'{i}-th iteration. Elapsed time {time.time() - start_time} seconds. Current corr = {corr}')"
   ]
  },
  {
   "cell_type": "markdown",
   "metadata": {},
   "source": [
    "### Видимо, по причине ненайденных ошибок корреляция стремительно падает вниз\n",
    "На каждом М шаге обучалась линейная регрессия на таргеты y = -1 / log(p), где p - пересчитанные на Е шаге вероятности по формулам, приведенным выше. \n",
    "После чего получались предсказания y1, которые переводились в вероятности p1 = 1 / (1 + exp(y1)). Очевидно, по причине ошибок, которые не удалось отыскать, корреляция падает"
   ]
  },
  {
   "cell_type": "markdown",
   "metadata": {},
   "source": [
    "### Рейтинг турниров"
   ]
  },
  {
   "cell_type": "markdown",
   "metadata": {},
   "source": [
    "### Сложность турнира посчитаем как среднюю сложность всех входящих в него вопросов. Далее отсортируем их по сложности"
   ]
  },
  {
   "cell_type": "code",
   "execution_count": 112,
   "metadata": {},
   "outputs": [],
   "source": [
    "coefs = lr.coef_[0]\n",
    "compl_array = coefs[len(ids):] # массив сложностей вопросов"
   ]
  },
  {
   "cell_type": "code",
   "execution_count": 119,
   "metadata": {},
   "outputs": [],
   "source": [
    "tourn_difficulty = dict()\n",
    "for tourn, quests in tqtl.items():\n",
    "    tourn_difficulty[tourn] = np.mean([compl_array[i] for i in quests.keys()])"
   ]
  },
  {
   "cell_type": "code",
   "execution_count": 126,
   "metadata": {},
   "outputs": [],
   "source": [
    "name_diff = []\n",
    "for tourn in tourn_difficulty.keys():\n",
    "    name = tourns_data[tourn]['name']\n",
    "    compl = tourn_difficulty[tourn]\n",
    "    name_diff.append([name, compl])"
   ]
  },
  {
   "cell_type": "code",
   "execution_count": 128,
   "metadata": {},
   "outputs": [],
   "source": [
    "name_diff = sorted(name_diff, key = lambda x: x[1])"
   ]
  },
  {
   "cell_type": "code",
   "execution_count": 149,
   "metadata": {},
   "outputs": [
    {
     "name": "stdout",
     "output_type": "stream",
     "text": [
      "Топ 20 турниров по сложности и их сложность по результатам модели\n",
      "\n",
      "Турнир                                     Сложность\n",
      "\n",
      "Чемпионат Санкт-Петербурга. Первая лига   -4.425746470119134\n",
      "Угрюмый Ёрш                               -2.27600117138379\n",
      "Первенство правого полушария              -2.0482629561774472\n",
      "Синхрон высшей лиги Москвы                -2.013325877095059\n",
      "Воображаемый музей                        -1.9604833461821964\n",
      "Записки охотника                          -1.7755856961337928\n",
      "Кубок городов                             -1.7018109085403543\n",
      "Знание – Сила VI                          -1.6660407799253116\n",
      "Ускользающая сова                         -1.6618683761451571\n",
      "Чемпионат России                          -1.550907835287241\n",
      "Чемпионат Минска. Лига А. Тур четвёртый   -1.5291393026253486\n",
      "Чемпионат Мира. Этап 2 Группа С           -1.5231851267668242\n",
      "All Cats Are Beautiful                    -1.5122990102380336\n",
      "Чемпионат Мира. Этап 2. Группа В          -1.511142848063164\n",
      "VERSUS: Коробейников vs. Матвеев          -1.4949305531322539\n",
      "Антибинго                                 -1.4639127977100084\n",
      "Кубок Москвы                              -1.456403972423781\n",
      "Львов зимой. Адвокат                      -1.4337585328369917\n",
      "Чемпионат Мира. Этап 1. Группа С          -1.411897107935925\n",
      "Зеркало мемориала памяти Михаила Басса    -1.4100750588300586\n"
     ]
    }
   ],
   "source": [
    "print('Топ 20 турниров по сложности и их сложность по результатам модели\\n')\n",
    "print('Турнир                                     Сложность\\n')\n",
    "for t in name_diff[:20]:\n",
    "    print(f'{t[0]:<40}  {t[1]}')"
   ]
  },
  {
   "cell_type": "markdown",
   "metadata": {},
   "source": [
    "### Вывод:\n",
    "### Судя по названиям (чемпионат мира, Санкт-Петербурга, Москвы), рейтинг турниров в целом соответствует правде"
   ]
  }
 ],
 "metadata": {
  "kernelspec": {
   "display_name": "Python 3",
   "language": "python",
   "name": "python3"
  },
  "language_info": {
   "codemirror_mode": {
    "name": "ipython",
    "version": 3
   },
   "file_extension": ".py",
   "mimetype": "text/x-python",
   "name": "python",
   "nbconvert_exporter": "python",
   "pygments_lexer": "ipython3",
   "version": "3.8.5"
  }
 },
 "nbformat": 4,
 "nbformat_minor": 4
}
